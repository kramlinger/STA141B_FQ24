{
 "cells": [
  {
   "cell_type": "markdown",
   "id": "ff704263",
   "metadata": {
    "slideshow": {
     "slide_type": "slide"
    }
   },
   "source": [
    "# STA 141B Data & Web Technologies for Data Analysis\n",
    "\n",
    "### Lecture 16, 11/21/24, Natural language processing - Outlook\n"
   ]
  },
  {
   "cell_type": "markdown",
   "id": "ef4068f8",
   "metadata": {},
   "source": [
    "### Announcements \n"
   ]
  },
  {
   "cell_type": "markdown",
   "id": "ca23514a",
   "metadata": {},
   "source": [
    "### Final Project Report\n",
    "- Structure: Title, abstract, main body (motivation, explaining challenges, preliminary interpretation of the data)\n",
    "- Formal, consise, professional (-> use spell check, but do not let ChatGPT write your report!)\n",
    "- Data visualization (if any) and code should be provided seperately"
   ]
  },
  {
   "cell_type": "markdown",
   "id": "f7bb3382",
   "metadata": {
    "slideshow": {
     "slide_type": "slide"
    }
   },
   "source": [
    "### Today's topics\n",
    "- Chunking\n",
    "    - Noun Phrase Chunking\n",
    "    - Tag Patterns\n",
    "    - Developing and Evaluating Chunkers\n",
    "    - Chinking\n",
    "- Training Classifier-Based Chunkers\n",
    "- Cascaded Chunker\n",
    "- Named Entity Recognition\n",
    "- Relation Extraction"
   ]
  },
  {
   "cell_type": "markdown",
   "id": "67ea08f8",
   "metadata": {},
   "source": [
    "## The Bag-of-words Model\n",
    "\n",
    "The one-hot encoding, term frequencies, and TF-IDF scores all ignore word order.\n",
    "\n",
    "The _bag-of-words model_ assumes that the order of words in a document doesn't matter. Imagine taking the words in each document and dumping them into a bag, where they get all mixed up. Note that in this case \"model\" means a way of thinking about a problem, not a statistical model.\n",
    "\n",
    "While the order of words in a document might seem important, the bag-of-words model is surprisingly useful. The bag-of-words model is a good place to start if you want to use statistical methods on language data."
   ]
  },
  {
   "cell_type": "markdown",
   "id": "db95901d",
   "metadata": {},
   "source": [
    "#### N-Grams\n",
    "\n",
    "So far we have tagged unigrams. But they ignore word order. "
   ]
  },
  {
   "cell_type": "code",
   "execution_count": 1,
   "id": "d6253dc3",
   "metadata": {},
   "outputs": [],
   "source": [
    "import re\n",
    "import nltk\n",
    "import numpy as np\n",
    "import pandas as pd"
   ]
  },
  {
   "cell_type": "code",
   "execution_count": 2,
   "id": "fcecad0c",
   "metadata": {},
   "outputs": [],
   "source": [
    "corpus = [\"The cat saw the dog was angry at the other cat.\", \n",
    "          \"The dog saw the cat was angry at the other cat.\", \n",
    "          \"The canary saw the iguana was sad.\", \n",
    "          \"They refuse to permit us to obtain the refuse permit\"]"
   ]
  },
  {
   "cell_type": "code",
   "execution_count": 3,
   "id": "bb5dc4e5",
   "metadata": {},
   "outputs": [],
   "source": [
    "words = [[word.lower() for word in nltk.word_tokenize(document)] for document in corpus]"
   ]
  },
  {
   "cell_type": "code",
   "execution_count": 4,
   "id": "fbafd2ea",
   "metadata": {},
   "outputs": [
    {
     "data": {
      "text/plain": [
       "['the',\n",
       " 'cat',\n",
       " 'saw',\n",
       " 'the',\n",
       " 'dog',\n",
       " 'was',\n",
       " 'angry',\n",
       " 'at',\n",
       " 'the',\n",
       " 'other',\n",
       " 'cat',\n",
       " '.']"
      ]
     },
     "execution_count": 4,
     "metadata": {},
     "output_type": "execute_result"
    }
   ],
   "source": [
    "words[0]"
   ]
  },
  {
   "cell_type": "code",
   "execution_count": 5,
   "id": "530c898e",
   "metadata": {},
   "outputs": [],
   "source": [
    "a = [i for i in nltk.bigrams(words[0])]\n",
    "b = [i for i in nltk.bigrams(words[1])]"
   ]
  },
  {
   "cell_type": "code",
   "execution_count": 6,
   "id": "1c2e7d45",
   "metadata": {},
   "outputs": [
    {
     "data": {
      "text/plain": [
       "[('the', 'cat'),\n",
       " ('cat', 'saw'),\n",
       " ('saw', 'the'),\n",
       " ('the', 'dog'),\n",
       " ('dog', 'was'),\n",
       " ('was', 'angry'),\n",
       " ('angry', 'at'),\n",
       " ('at', 'the'),\n",
       " ('the', 'other'),\n",
       " ('other', 'cat'),\n",
       " ('cat', '.')]"
      ]
     },
     "execution_count": 6,
     "metadata": {},
     "output_type": "execute_result"
    }
   ],
   "source": [
    "a"
   ]
  },
  {
   "cell_type": "code",
   "execution_count": 7,
   "id": "1fc20a3d",
   "metadata": {},
   "outputs": [
    {
     "data": {
      "text/plain": [
       "11"
      ]
     },
     "execution_count": 7,
     "metadata": {},
     "output_type": "execute_result"
    }
   ],
   "source": [
    "len(a)"
   ]
  },
  {
   "cell_type": "code",
   "execution_count": 8,
   "id": "ea986c4e",
   "metadata": {},
   "outputs": [
    {
     "data": {
      "text/plain": [
       "12"
      ]
     },
     "execution_count": 8,
     "metadata": {},
     "output_type": "execute_result"
    }
   ],
   "source": [
    "len(words[0])"
   ]
  },
  {
   "cell_type": "code",
   "execution_count": 10,
   "id": "bfe3943d",
   "metadata": {},
   "outputs": [
    {
     "data": {
      "text/plain": [
       "{('angry', 'at'),\n",
       " ('at', 'the'),\n",
       " ('cat', '.'),\n",
       " ('cat', 'saw'),\n",
       " ('dog', 'was'),\n",
       " ('other', 'cat'),\n",
       " ('saw', 'the'),\n",
       " ('the', 'cat'),\n",
       " ('the', 'dog'),\n",
       " ('the', 'other'),\n",
       " ('was', 'angry')}"
      ]
     },
     "execution_count": 10,
     "metadata": {},
     "output_type": "execute_result"
    }
   ],
   "source": [
    "set(a)"
   ]
  },
  {
   "cell_type": "code",
   "execution_count": 11,
   "id": "b2099710",
   "metadata": {},
   "outputs": [
    {
     "data": {
      "text/plain": [
       "{('angry', 'at'),\n",
       " ('at', 'the'),\n",
       " ('cat', '.'),\n",
       " ('cat', 'was'),\n",
       " ('dog', 'saw'),\n",
       " ('other', 'cat'),\n",
       " ('saw', 'the'),\n",
       " ('the', 'cat'),\n",
       " ('the', 'dog'),\n",
       " ('the', 'other'),\n",
       " ('was', 'angry')}"
      ]
     },
     "execution_count": 11,
     "metadata": {},
     "output_type": "execute_result"
    }
   ],
   "source": [
    "set(b)"
   ]
  },
  {
   "cell_type": "code",
   "execution_count": 12,
   "id": "14e1a0bd",
   "metadata": {},
   "outputs": [
    {
     "data": {
      "text/plain": [
       "True"
      ]
     },
     "execution_count": 12,
     "metadata": {},
     "output_type": "execute_result"
    }
   ],
   "source": [
    "set(words[0]) == set(words[1])"
   ]
  },
  {
   "cell_type": "code",
   "execution_count": 13,
   "id": "8ea30315",
   "metadata": {},
   "outputs": [
    {
     "data": {
      "text/plain": [
       "[('the', 'cat', 'saw'),\n",
       " ('cat', 'saw', 'the'),\n",
       " ('saw', 'the', 'dog'),\n",
       " ('the', 'dog', 'was'),\n",
       " ('dog', 'was', 'angry'),\n",
       " ('was', 'angry', 'at'),\n",
       " ('angry', 'at', 'the'),\n",
       " ('at', 'the', 'other'),\n",
       " ('the', 'other', 'cat'),\n",
       " ('other', 'cat', '.')]"
      ]
     },
     "execution_count": 13,
     "metadata": {},
     "output_type": "execute_result"
    }
   ],
   "source": [
    "[i for i in nltk.trigrams(words[0])]"
   ]
  },
  {
   "cell_type": "code",
   "execution_count": 17,
   "id": "e9dc586a",
   "metadata": {},
   "outputs": [
    {
     "data": {
      "text/plain": [
       "{('.',),\n",
       " ('angry',),\n",
       " ('at',),\n",
       " ('cat',),\n",
       " ('dog',),\n",
       " ('other',),\n",
       " ('saw',),\n",
       " ('the',),\n",
       " ('was',)}"
      ]
     },
     "execution_count": 17,
     "metadata": {},
     "output_type": "execute_result"
    }
   ],
   "source": [
    "c = [i for i in nltk.ngrams(words[0], 1)]\n",
    "d = [i for i in nltk.ngrams(words[1], 1)]\n",
    "\n",
    "set(d).intersection(set(c))"
   ]
  },
  {
   "cell_type": "code",
   "execution_count": 18,
   "id": "dc9de22b",
   "metadata": {},
   "outputs": [
    {
     "data": {
      "text/plain": [
       "[('the',),\n",
       " ('dog',),\n",
       " ('saw',),\n",
       " ('the',),\n",
       " ('cat',),\n",
       " ('was',),\n",
       " ('angry',),\n",
       " ('at',),\n",
       " ('the',),\n",
       " ('other',),\n",
       " ('cat',),\n",
       " ('.',)]"
      ]
     },
     "execution_count": 18,
     "metadata": {},
     "output_type": "execute_result"
    }
   ],
   "source": [
    "d"
   ]
  },
  {
   "cell_type": "code",
   "execution_count": 26,
   "id": "087f7061",
   "metadata": {},
   "outputs": [],
   "source": [
    "def myTokenizer(doc): \n",
    "    words = [word.lower() for word in nltk.word_tokenize(doc)]\n",
    "    return nltk.bigrams(words)"
   ]
  },
  {
   "cell_type": "code",
   "execution_count": 27,
   "id": "53aac135",
   "metadata": {},
   "outputs": [],
   "source": [
    "from sklearn.feature_extraction.text import TfidfVectorizer\n",
    "\n",
    "vec = TfidfVectorizer(tokenizer = myTokenizer)\n",
    "tfidf = vec.fit_transform(corpus)"
   ]
  },
  {
   "cell_type": "code",
   "execution_count": 28,
   "id": "e2917da7",
   "metadata": {},
   "outputs": [
    {
     "data": {
      "text/html": [
       "<div>\n",
       "<style scoped>\n",
       "    .dataframe tbody tr th:only-of-type {\n",
       "        vertical-align: middle;\n",
       "    }\n",
       "\n",
       "    .dataframe tbody tr th {\n",
       "        vertical-align: top;\n",
       "    }\n",
       "\n",
       "    .dataframe thead th {\n",
       "        text-align: right;\n",
       "    }\n",
       "</style>\n",
       "<table border=\"1\" class=\"dataframe\">\n",
       "  <thead>\n",
       "    <tr style=\"text-align: right;\">\n",
       "      <th></th>\n",
       "      <th>0</th>\n",
       "      <th>1</th>\n",
       "      <th>2</th>\n",
       "      <th>3</th>\n",
       "    </tr>\n",
       "  </thead>\n",
       "  <tbody>\n",
       "    <tr>\n",
       "      <th>(angry, at, the)</th>\n",
       "      <td>0.276883</td>\n",
       "      <td>0.276883</td>\n",
       "      <td>0.000000</td>\n",
       "      <td>0.000000</td>\n",
       "    </tr>\n",
       "    <tr>\n",
       "      <th>(at, the, other)</th>\n",
       "      <td>0.276883</td>\n",
       "      <td>0.276883</td>\n",
       "      <td>0.000000</td>\n",
       "      <td>0.000000</td>\n",
       "    </tr>\n",
       "    <tr>\n",
       "      <th>(canary, saw, the)</th>\n",
       "      <td>0.000000</td>\n",
       "      <td>0.000000</td>\n",
       "      <td>0.408248</td>\n",
       "      <td>0.000000</td>\n",
       "    </tr>\n",
       "    <tr>\n",
       "      <th>(cat, saw, the)</th>\n",
       "      <td>0.351192</td>\n",
       "      <td>0.000000</td>\n",
       "      <td>0.000000</td>\n",
       "      <td>0.000000</td>\n",
       "    </tr>\n",
       "    <tr>\n",
       "      <th>(cat, was, angry)</th>\n",
       "      <td>0.000000</td>\n",
       "      <td>0.351192</td>\n",
       "      <td>0.000000</td>\n",
       "      <td>0.000000</td>\n",
       "    </tr>\n",
       "    <tr>\n",
       "      <th>(dog, saw, the)</th>\n",
       "      <td>0.000000</td>\n",
       "      <td>0.351192</td>\n",
       "      <td>0.000000</td>\n",
       "      <td>0.000000</td>\n",
       "    </tr>\n",
       "    <tr>\n",
       "      <th>(dog, was, angry)</th>\n",
       "      <td>0.351192</td>\n",
       "      <td>0.000000</td>\n",
       "      <td>0.000000</td>\n",
       "      <td>0.000000</td>\n",
       "    </tr>\n",
       "    <tr>\n",
       "      <th>(iguana, was, sad)</th>\n",
       "      <td>0.000000</td>\n",
       "      <td>0.000000</td>\n",
       "      <td>0.408248</td>\n",
       "      <td>0.000000</td>\n",
       "    </tr>\n",
       "    <tr>\n",
       "      <th>(obtain, the, refuse)</th>\n",
       "      <td>0.000000</td>\n",
       "      <td>0.000000</td>\n",
       "      <td>0.000000</td>\n",
       "      <td>0.353553</td>\n",
       "    </tr>\n",
       "    <tr>\n",
       "      <th>(other, cat, .)</th>\n",
       "      <td>0.276883</td>\n",
       "      <td>0.276883</td>\n",
       "      <td>0.000000</td>\n",
       "      <td>0.000000</td>\n",
       "    </tr>\n",
       "    <tr>\n",
       "      <th>(permit, us, to)</th>\n",
       "      <td>0.000000</td>\n",
       "      <td>0.000000</td>\n",
       "      <td>0.000000</td>\n",
       "      <td>0.353553</td>\n",
       "    </tr>\n",
       "    <tr>\n",
       "      <th>(refuse, to, permit)</th>\n",
       "      <td>0.000000</td>\n",
       "      <td>0.000000</td>\n",
       "      <td>0.000000</td>\n",
       "      <td>0.353553</td>\n",
       "    </tr>\n",
       "    <tr>\n",
       "      <th>(saw, the, cat)</th>\n",
       "      <td>0.000000</td>\n",
       "      <td>0.351192</td>\n",
       "      <td>0.000000</td>\n",
       "      <td>0.000000</td>\n",
       "    </tr>\n",
       "    <tr>\n",
       "      <th>(saw, the, dog)</th>\n",
       "      <td>0.351192</td>\n",
       "      <td>0.000000</td>\n",
       "      <td>0.000000</td>\n",
       "      <td>0.000000</td>\n",
       "    </tr>\n",
       "    <tr>\n",
       "      <th>(saw, the, iguana)</th>\n",
       "      <td>0.000000</td>\n",
       "      <td>0.000000</td>\n",
       "      <td>0.408248</td>\n",
       "      <td>0.000000</td>\n",
       "    </tr>\n",
       "    <tr>\n",
       "      <th>(the, canary, saw)</th>\n",
       "      <td>0.000000</td>\n",
       "      <td>0.000000</td>\n",
       "      <td>0.408248</td>\n",
       "      <td>0.000000</td>\n",
       "    </tr>\n",
       "    <tr>\n",
       "      <th>(the, cat, saw)</th>\n",
       "      <td>0.351192</td>\n",
       "      <td>0.000000</td>\n",
       "      <td>0.000000</td>\n",
       "      <td>0.000000</td>\n",
       "    </tr>\n",
       "    <tr>\n",
       "      <th>(the, cat, was)</th>\n",
       "      <td>0.000000</td>\n",
       "      <td>0.351192</td>\n",
       "      <td>0.000000</td>\n",
       "      <td>0.000000</td>\n",
       "    </tr>\n",
       "    <tr>\n",
       "      <th>(the, dog, saw)</th>\n",
       "      <td>0.000000</td>\n",
       "      <td>0.351192</td>\n",
       "      <td>0.000000</td>\n",
       "      <td>0.000000</td>\n",
       "    </tr>\n",
       "    <tr>\n",
       "      <th>(the, dog, was)</th>\n",
       "      <td>0.351192</td>\n",
       "      <td>0.000000</td>\n",
       "      <td>0.000000</td>\n",
       "      <td>0.000000</td>\n",
       "    </tr>\n",
       "    <tr>\n",
       "      <th>(the, iguana, was)</th>\n",
       "      <td>0.000000</td>\n",
       "      <td>0.000000</td>\n",
       "      <td>0.408248</td>\n",
       "      <td>0.000000</td>\n",
       "    </tr>\n",
       "    <tr>\n",
       "      <th>(the, other, cat)</th>\n",
       "      <td>0.276883</td>\n",
       "      <td>0.276883</td>\n",
       "      <td>0.000000</td>\n",
       "      <td>0.000000</td>\n",
       "    </tr>\n",
       "    <tr>\n",
       "      <th>(the, refuse, permit)</th>\n",
       "      <td>0.000000</td>\n",
       "      <td>0.000000</td>\n",
       "      <td>0.000000</td>\n",
       "      <td>0.353553</td>\n",
       "    </tr>\n",
       "    <tr>\n",
       "      <th>(they, refuse, to)</th>\n",
       "      <td>0.000000</td>\n",
       "      <td>0.000000</td>\n",
       "      <td>0.000000</td>\n",
       "      <td>0.353553</td>\n",
       "    </tr>\n",
       "    <tr>\n",
       "      <th>(to, obtain, the)</th>\n",
       "      <td>0.000000</td>\n",
       "      <td>0.000000</td>\n",
       "      <td>0.000000</td>\n",
       "      <td>0.353553</td>\n",
       "    </tr>\n",
       "    <tr>\n",
       "      <th>(to, permit, us)</th>\n",
       "      <td>0.000000</td>\n",
       "      <td>0.000000</td>\n",
       "      <td>0.000000</td>\n",
       "      <td>0.353553</td>\n",
       "    </tr>\n",
       "    <tr>\n",
       "      <th>(us, to, obtain)</th>\n",
       "      <td>0.000000</td>\n",
       "      <td>0.000000</td>\n",
       "      <td>0.000000</td>\n",
       "      <td>0.353553</td>\n",
       "    </tr>\n",
       "    <tr>\n",
       "      <th>(was, angry, at)</th>\n",
       "      <td>0.276883</td>\n",
       "      <td>0.276883</td>\n",
       "      <td>0.000000</td>\n",
       "      <td>0.000000</td>\n",
       "    </tr>\n",
       "    <tr>\n",
       "      <th>(was, sad, .)</th>\n",
       "      <td>0.000000</td>\n",
       "      <td>0.000000</td>\n",
       "      <td>0.408248</td>\n",
       "      <td>0.000000</td>\n",
       "    </tr>\n",
       "  </tbody>\n",
       "</table>\n",
       "</div>"
      ],
      "text/plain": [
       "                              0         1         2         3\n",
       "(angry, at, the)       0.276883  0.276883  0.000000  0.000000\n",
       "(at, the, other)       0.276883  0.276883  0.000000  0.000000\n",
       "(canary, saw, the)     0.000000  0.000000  0.408248  0.000000\n",
       "(cat, saw, the)        0.351192  0.000000  0.000000  0.000000\n",
       "(cat, was, angry)      0.000000  0.351192  0.000000  0.000000\n",
       "(dog, saw, the)        0.000000  0.351192  0.000000  0.000000\n",
       "(dog, was, angry)      0.351192  0.000000  0.000000  0.000000\n",
       "(iguana, was, sad)     0.000000  0.000000  0.408248  0.000000\n",
       "(obtain, the, refuse)  0.000000  0.000000  0.000000  0.353553\n",
       "(other, cat, .)        0.276883  0.276883  0.000000  0.000000\n",
       "(permit, us, to)       0.000000  0.000000  0.000000  0.353553\n",
       "(refuse, to, permit)   0.000000  0.000000  0.000000  0.353553\n",
       "(saw, the, cat)        0.000000  0.351192  0.000000  0.000000\n",
       "(saw, the, dog)        0.351192  0.000000  0.000000  0.000000\n",
       "(saw, the, iguana)     0.000000  0.000000  0.408248  0.000000\n",
       "(the, canary, saw)     0.000000  0.000000  0.408248  0.000000\n",
       "(the, cat, saw)        0.351192  0.000000  0.000000  0.000000\n",
       "(the, cat, was)        0.000000  0.351192  0.000000  0.000000\n",
       "(the, dog, saw)        0.000000  0.351192  0.000000  0.000000\n",
       "(the, dog, was)        0.351192  0.000000  0.000000  0.000000\n",
       "(the, iguana, was)     0.000000  0.000000  0.408248  0.000000\n",
       "(the, other, cat)      0.276883  0.276883  0.000000  0.000000\n",
       "(the, refuse, permit)  0.000000  0.000000  0.000000  0.353553\n",
       "(they, refuse, to)     0.000000  0.000000  0.000000  0.353553\n",
       "(to, obtain, the)      0.000000  0.000000  0.000000  0.353553\n",
       "(to, permit, us)       0.000000  0.000000  0.000000  0.353553\n",
       "(us, to, obtain)       0.000000  0.000000  0.000000  0.353553\n",
       "(was, angry, at)       0.276883  0.276883  0.000000  0.000000\n",
       "(was, sad, .)          0.000000  0.000000  0.408248  0.000000"
      ]
     },
     "execution_count": 28,
     "metadata": {},
     "output_type": "execute_result"
    }
   ],
   "source": [
    "tfidfdf=pd.DataFrame(tfidf.todense().T)\n",
    "tfidfdf.set_index(pd.Series([tuple(t) for t in vec.get_feature_names_out()]))"
   ]
  },
  {
   "cell_type": "code",
   "execution_count": 29,
   "id": "588002f5",
   "metadata": {},
   "outputs": [
    {
     "data": {
      "text/plain": [
       "matrix([[1.        , 0.38332232, 0.        , 0.        ],\n",
       "        [0.38332232, 1.        , 0.        , 0.        ],\n",
       "        [0.        , 0.        , 1.        , 0.        ],\n",
       "        [0.        , 0.        , 0.        , 1.        ]])"
      ]
     },
     "execution_count": 29,
     "metadata": {},
     "output_type": "execute_result"
    }
   ],
   "source": [
    "(tfidf @ tfidf.T).todense()"
   ]
  },
  {
   "cell_type": "markdown",
   "id": "d8c24d3d",
   "metadata": {},
   "source": [
    "### Tagging "
   ]
  },
  {
   "cell_type": "code",
   "execution_count": null,
   "id": "1f23e810",
   "metadata": {},
   "outputs": [],
   "source": [
    "words[2]"
   ]
  },
  {
   "cell_type": "code",
   "execution_count": null,
   "id": "73e0e3f1",
   "metadata": {},
   "outputs": [],
   "source": [
    "nltk.pos_tag(words[2])"
   ]
  },
  {
   "cell_type": "code",
   "execution_count": null,
   "id": "1e4760d7",
   "metadata": {},
   "outputs": [],
   "source": [
    "nltk.pos_tag(['canary'])"
   ]
  },
  {
   "cell_type": "code",
   "execution_count": null,
   "id": "1c01e249",
   "metadata": {},
   "outputs": [],
   "source": [
    "words[3]"
   ]
  },
  {
   "cell_type": "code",
   "execution_count": null,
   "id": "79f917f6",
   "metadata": {},
   "outputs": [],
   "source": [
    "nltk.pos_tag(words[3])"
   ]
  },
  {
   "cell_type": "code",
   "execution_count": null,
   "id": "3f112406",
   "metadata": {},
   "outputs": [],
   "source": [
    "w = words[3].copy()\n",
    "np.random.shuffle(w)\n",
    "nltk.pos_tag(w)"
   ]
  },
  {
   "cell_type": "markdown",
   "id": "07954186",
   "metadata": {},
   "source": [
    "Although the some taggers tagged unigrams, they are not all unigram taggers: `nltk.pos_tag` considers the position of the token relative to other tokens. In contrast, `regexp_tagger` (which a set of rules that we establish) is a unigram tagger. \n",
    "\n",
    "An n-gram tagger is a generalization of a unigram tagger whose context is the current word together with the part-of-speech tags of the n-1 preceding tokens.\n",
    "\n",
    "We can train taggers on training data. Some tagged training data is available in `nltk`. "
   ]
  },
  {
   "cell_type": "markdown",
   "id": "cb13ae52",
   "metadata": {},
   "source": [
    "### Chunking"
   ]
  },
  {
   "cell_type": "code",
   "execution_count": null,
   "id": "88bed30e",
   "metadata": {
    "tags": [
     "solution"
    ]
   },
   "outputs": [],
   "source": [
    "import re\n",
    "import requests\n",
    "import pandas as pd\n",
    "import time\n",
    "import lxml.html as lx\n",
    "import nltk"
   ]
  },
  {
   "cell_type": "code",
   "execution_count": null,
   "id": "1f17579e",
   "metadata": {
    "tags": [
     "solution"
    ]
   },
   "outputs": [],
   "source": [
    "def get_info(country):\n",
    "    time.sleep(0.2)\n",
    "    result = requests.get('https://www.cia.gov/the-world-factbook/page-data/countries/' \n",
    "                          + c + '/page-data.json')\n",
    "    result.raise_for_status()\n",
    "    return result.json()"
   ]
  },
  {
   "cell_type": "code",
   "execution_count": null,
   "id": "4da71423",
   "metadata": {},
   "outputs": [],
   "source": [
    "data = get_info(\"Burma\")"
   ]
  },
  {
   "cell_type": "code",
   "execution_count": null,
   "id": "7dfd6a19",
   "metadata": {},
   "outputs": [],
   "source": [
    "document = [i for i in data['result']['data']['fields']['nodes'] \\\n",
    "            if i.get('name') == 'Background'][0]['data']\n",
    "document = \"\".join([t for t in lx.fromstring(document).xpath('//p/text()')])"
   ]
  },
  {
   "cell_type": "code",
   "execution_count": null,
   "id": "08ecc03d",
   "metadata": {
    "scrolled": true
   },
   "outputs": [],
   "source": [
    "document"
   ]
  },
  {
   "cell_type": "code",
   "execution_count": null,
   "id": "573e5d67",
   "metadata": {},
   "outputs": [],
   "source": [
    "def preprocess(document):\n",
    "    #document = document.lower()\n",
    "    sentences = nltk.sent_tokenize(document)\n",
    "    sentences = [nltk.word_tokenize(sent) for sent in sentences]\n",
    "    sentences = [nltk.pos_tag(sent) for sent in sentences]\n",
    "    return sentences"
   ]
  },
  {
   "cell_type": "code",
   "execution_count": null,
   "id": "164728e8",
   "metadata": {
    "scrolled": true
   },
   "outputs": [],
   "source": [
    "processed_document = preprocess(document)\n",
    "sentence = processed_document[0]\n",
    "sentence"
   ]
  },
  {
   "cell_type": "markdown",
   "id": "7a5ed049",
   "metadata": {},
   "source": [
    "#### Noun Phrase Chunking\n",
    "\n",
    "We will begin by considering the task of noun phrase chunking, or NP-chunking,\n",
    "where we search for chunks corresponding to individual noun phrases.\n",
    "\n",
    "One of the most useful sources of information for NP-chunking is part-of-speech tags. This is one of the motivations for performing part-of-speech tagging in our information extraction system. In order to create an NP-chunker, we will first define a chunk grammar, consisting of rules that indicate how sentences should be chunked.\n",
    "\n",
    "We will define a simple grammar with a single regular expression rule . This rule says that an NP chunk should be formed whenever the chunker finds an optional determiner (DT) followed by any number of adjectives (JJ) and then a noun (NN). Using this grammar, we create a chunk parser, and test it on our example sentence . The result is a tree, which we can either print, or display graphically ."
   ]
  },
  {
   "cell_type": "code",
   "execution_count": null,
   "id": "b36b7bb9",
   "metadata": {},
   "outputs": [],
   "source": [
    "grammar = \"NP: {<DT>?<JJ>*<NN.*>+}\"\n",
    "cp = nltk.RegexpParser(grammar)"
   ]
  },
  {
   "cell_type": "code",
   "execution_count": null,
   "id": "60ac2465",
   "metadata": {},
   "outputs": [],
   "source": [
    "type(cp)"
   ]
  },
  {
   "cell_type": "code",
   "execution_count": null,
   "id": "2b4aaeba",
   "metadata": {},
   "outputs": [],
   "source": [
    "result = cp.parse(sentence)\n",
    "type(result)"
   ]
  },
  {
   "cell_type": "code",
   "execution_count": null,
   "id": "c45eb7b5",
   "metadata": {
    "scrolled": true
   },
   "outputs": [],
   "source": [
    "print(result)"
   ]
  },
  {
   "cell_type": "code",
   "execution_count": null,
   "id": "c6ca27b9",
   "metadata": {},
   "outputs": [],
   "source": [
    "result"
   ]
  },
  {
   "cell_type": "markdown",
   "id": "c5559486",
   "metadata": {},
   "source": [
    "#### Tag Patterns\n",
    "\n",
    "The rules that make up a chunk grammar use tag patterns to describe sequences of\n",
    "tagged words. A tag pattern is a sequence of part-of-speech tags delimited using angle\n",
    "brackets, e.g.,`<DT>?<JJ>*<NN>`. Tag patterns are similar to regular expression patterns."
   ]
  },
  {
   "cell_type": "code",
   "execution_count": null,
   "id": "15809737",
   "metadata": {},
   "outputs": [],
   "source": [
    "grammar = \"NP: {<DT>?<JJ.*>*<NN.*>+}\"\n",
    "cp = nltk.RegexpParser(grammar)\n",
    "result = cp.parse(sentence)\n",
    "result"
   ]
  },
  {
   "cell_type": "markdown",
   "id": "5fdaeb33",
   "metadata": {},
   "source": [
    "This will chunk any sequence of tokens beginning with an optional determiner, followed by zero or more adjectives of any type, followed by one or more nouns of any type. \n",
    "\n",
    "To find the chunk structure for a given sentence, the RegexpParser chunker begins with\n",
    "a flat structure in which no tokens are chunked. The chunking rules are applied in turn,\n",
    "successively updating the chunk structure. Once all of the rules have been invoked, the\n",
    "resulting chunk structure is returned.\n",
    "\n",
    "The next example shows a simple chunk grammar consisting of two rules. The first rule\n",
    "matches an optional determiner or possessive pronoun, zero or more adjectives, then a noun. The second rule matches one or more proper nouns. We also define an example\n",
    "sentence to be chunked , and run the chunker on this input."
   ]
  },
  {
   "cell_type": "code",
   "execution_count": null,
   "id": "de3e2050",
   "metadata": {},
   "outputs": [],
   "source": [
    "grammar = r\"\"\"\n",
    "    NP: {<DT|P.*>?<JJ>*<NN>+} # chunk determiner/possessive, adjectives and nouns\n",
    "    {<NNP>+} # chunk sequences of proper nouns\n",
    "\"\"\"\n",
    "cp = nltk.RegexpParser(grammar)\n",
    "example = [(\"Rapunzel\", \"NNP\"), (\"let\", \"VBD\"), (\"down\", \"RP\"),\n",
    "            (\"her\", \"PP$\"), (\"long\", \"JJ\"), (\"golden\", \"JJ\"), (\"hair\", \"NN\")]\n",
    "cp.parse(example)"
   ]
  },
  {
   "cell_type": "markdown",
   "id": "0ced7792",
   "metadata": {},
   "source": [
    "If a tag pattern matches at overlapping locations, the leftmost match takes precedence."
   ]
  },
  {
   "cell_type": "markdown",
   "id": "cdaf4493",
   "metadata": {},
   "source": [
    "Sometimes it is easier to define what we want to exclude from a chunk. We can define a chink to be a sequence of tokens that is not included in a chunk."
   ]
  },
  {
   "cell_type": "code",
   "execution_count": null,
   "id": "bdf50aa5",
   "metadata": {
    "scrolled": true
   },
   "outputs": [],
   "source": [
    "sentence"
   ]
  },
  {
   "cell_type": "code",
   "execution_count": null,
   "id": "98e1198a",
   "metadata": {},
   "outputs": [],
   "source": [
    "grammar = r\"\"\" NP:\n",
    "    {<.*>+}        # Chunk everything\n",
    "    }<CC|.*DT|TO>?<\\.|,|VB.*>+<IN>?{  # Chink \n",
    "\"\"\"\n",
    "cp = nltk.RegexpParser(grammar)\n",
    "cp.parse(sentence)"
   ]
  },
  {
   "cell_type": "markdown",
   "id": "9f8a9f8b",
   "metadata": {},
   "source": [
    "As befits their intermediate status between tagging and parsing, chunk\n",
    "structures can be represented using either tags or trees. The most widespread file representation\n",
    "uses IOB tags. In this scheme, each token is tagged with one of three special\n",
    "chunk tags, I (inside), O (outside), or B (begin)."
   ]
  },
  {
   "cell_type": "markdown",
   "id": "f9198cc2",
   "metadata": {},
   "source": [
    "#### Developing and Evaluating Chunkers\n",
    "Now you have a taste of what chunking does, but we haven’t explained how to evaluate\n",
    "chunkers. As usual, this requires a suitably annotated corpus. We begin by looking at\n",
    "the mechanics of converting IOB format into an NLTK tree, then at how this is done\n",
    "on a larger scale using a chunked corpus. We will see how to score the accuracy of a\n",
    "chunker relative to a corpus, then look at some more data-driven ways to search for\n",
    "NP chunks. Our focus throughout will be on expanding the coverage of a chunker."
   ]
  },
  {
   "cell_type": "code",
   "execution_count": null,
   "id": "1e54329a",
   "metadata": {},
   "outputs": [],
   "source": [
    "# it works like this \n",
    "print(cp.accuracy((result,)))"
   ]
  },
  {
   "cell_type": "code",
   "execution_count": null,
   "id": "9800106e",
   "metadata": {
    "scrolled": true
   },
   "outputs": [],
   "source": [
    "16 / len(sentence) # 16 tokens have been correctly classified in terms of IOB"
   ]
  },
  {
   "cell_type": "code",
   "execution_count": null,
   "id": "c885b0d7",
   "metadata": {},
   "outputs": [],
   "source": [
    "len(sentence)"
   ]
  },
  {
   "cell_type": "markdown",
   "id": "dc1f42d5",
   "metadata": {},
   "source": [
    "Using the corpora module we can load the data `conll2000` that has been tagged\n",
    "then chunked using the IOB notation. The chunk categories provided in this corpus\n",
    "are NP, VP, and PP."
   ]
  },
  {
   "cell_type": "code",
   "execution_count": null,
   "id": "d262a9be",
   "metadata": {},
   "outputs": [],
   "source": [
    "from nltk.corpus import conll2000\n",
    "conll2000.chunked_sents('train.txt')[99]"
   ]
  },
  {
   "cell_type": "code",
   "execution_count": null,
   "id": "fe5e8412",
   "metadata": {},
   "outputs": [],
   "source": [
    "len(conll2000.chunked_sents('train.txt'))"
   ]
  },
  {
   "cell_type": "code",
   "execution_count": null,
   "id": "ad9a50de",
   "metadata": {},
   "outputs": [],
   "source": [
    "conll2000.chunked_sents('train.txt', chunk_types=['NP'])[99]"
   ]
  },
  {
   "cell_type": "code",
   "execution_count": null,
   "id": "6565eba1",
   "metadata": {},
   "outputs": [],
   "source": [
    "cp = nltk.RegexpParser(\"\") # we are not providing any grammar!\n",
    "test_sents = conll2000.chunked_sents('test.txt', chunk_types=['NP'])\n",
    "print(cp.accuracy(test_sents))"
   ]
  },
  {
   "cell_type": "markdown",
   "id": "dcc7e439",
   "metadata": {},
   "source": [
    "Now let’s try a naive regular expression chunker that\n",
    "looks for tags beginning with letters that are characteristic of noun phrase tags (e.g.,\n",
    "`CD` (cardinal number), `DT`, and `JJ`)."
   ]
  },
  {
   "cell_type": "code",
   "execution_count": null,
   "id": "5f665731",
   "metadata": {},
   "outputs": [],
   "source": [
    "grammar = r\"NP: {<[CDJNP].*>+}\"\n",
    "cp = nltk.RegexpParser(grammar) \n",
    "test_sents = conll2000.chunked_sents('test.txt', chunk_types=['NP'])\n",
    "print(cp.accuracy(test_sents))"
   ]
  },
  {
   "cell_type": "markdown",
   "id": "e4d503f3",
   "metadata": {},
   "source": [
    "We could improve on it\n",
    "by adopting a more data-driven approach, where we use the training corpus to find the\n",
    "chunk tag (I, O, or B) that is most likely for each part-of-speech tag. In other words, we\n",
    "can build a chunker using a unigram tagger. But rather than trying to\n",
    "determine the correct part-of-speech tag for each word, we are trying to determine the\n",
    "correct chunk tag, given each word’s part-of-speech tag. "
   ]
  },
  {
   "cell_type": "markdown",
   "id": "0d60db4c",
   "metadata": {},
   "source": [
    "### Cascaded Chunks\n",
    "\n",
    "So far, our chunk structures have been relatively flat. Trees consist of tagged tokens,\n",
    "optionally grouped under a chunk node such as NP. However, it is possible to build\n",
    "chunk structures of arbitrary depth, simply by creating a multistage chunk grammar."
   ]
  },
  {
   "cell_type": "code",
   "execution_count": null,
   "id": "808ecb25",
   "metadata": {},
   "outputs": [],
   "source": [
    "grammar = r\"\"\"\n",
    "    NP: {<DT|JJ>*<NN.*>+} # Chunk sequences of DT, JJ, NN (noun phrase)\n",
    "    PP: {<IN><NP>} # Chunk prepositions followed by NP (prepositional phrase)\n",
    "    VP: {<VB.*><NP|PP>+} # Chunk verbs and their arguments (verb phrase)\n",
    "\"\"\"\n",
    "cp = nltk.RegexpParser(grammar)\n",
    "cp.parse(sentence)"
   ]
  },
  {
   "cell_type": "markdown",
   "id": "62d9274e",
   "metadata": {},
   "source": [
    "This solution is not perfect, as `NP` are needlessly split. We will refine our grammar. "
   ]
  },
  {
   "cell_type": "code",
   "execution_count": null,
   "id": "bc4b6fe6",
   "metadata": {},
   "outputs": [],
   "source": [
    "grammar = r\"\"\"\n",
    "    NP: {<DT|JJ|NN.*>+} # Chunk sequences of DT, JJ, NN (noun phrase)\n",
    "    PP: {<IN><NP>} # Chunk prepositions followed by NP (prepositional phrase)\n",
    "    VP: {<VB.*><NP|PP>+$} # Chunk verbs and their arguments (verb phrase)\n",
    "    NP: {<NP|PP><CC>?<NP|PP>}\n",
    "\"\"\"\n",
    "cp = nltk.RegexpParser(grammar)\n",
    "cp.parse(sentence)"
   ]
  },
  {
   "cell_type": "code",
   "execution_count": null,
   "id": "059bee16",
   "metadata": {},
   "outputs": [],
   "source": [
    "cp = nltk.RegexpParser(grammar, loop = 2)\n",
    "cp.parse(sentence)"
   ]
  },
  {
   "cell_type": "markdown",
   "id": "8de509c6",
   "metadata": {},
   "source": [
    "Recall: The left side takes precedence when assigning the chunks! "
   ]
  },
  {
   "cell_type": "markdown",
   "id": "e87ffd89",
   "metadata": {},
   "source": [
    "### Named Entity Recognition\n",
    "Named entities are definite noun phrases that refer to specific types of individuals, such as organizations,\n",
    "persons, dates, and so on.\n",
    "\n",
    "| NAMED ENTITY | EXAMPLE | \n",
    "| ---- | ---- |\n",
    "| ORGANIZATION | Georgia-Pacific Corp., WHO |\n",
    "| PERSON | Eddy Bonte, President Obama |\n",
    "| LOCATION | Murray River, Mount Everest |\n",
    "| DATE | June, 2008-06-29 |\n",
    "| TIME | two fifty a m, 1:30 p.m. |\n",
    "| FACILITY | Washington Monument, Stonehenge |\n",
    "| GEO-POLITICAL ENTITIES | South East Asia, Midlothian |\n",
    "\n",
    "The goal of a named entity recognition (NER) system is to identify textual mentions\n",
    "of the named entities. This can be broken down into two subtasks: identifying\n",
    "the boundaries of the NE, and identifying its type. \n",
    "\n",
    "How do we go about identifying named entities? One option would be to look up each\n",
    "word in an appropriate list of names. However, this is prone to errors caused by the fact that many named entity terms\n",
    "are ambiguous.\n",
    "\n",
    "Named entity recognition is a task that is well suited to the type of classifier-based\n",
    "approach that we saw for noun phrase chunking. In particular, we can build a tagger\n",
    "that labels each word in a sentence using the IOB format, where chunks are labeled by\n",
    "their appropriate type.\n",
    "\n",
    "NLTK provides a classifier that has already been trained to recognize named entities,\n",
    "accessed with the function `nltk.ne_chunk()`. If we set the parameter `binary=True`,\n",
    "then named entities are just tagged as `NE`; otherwise, the classifier adds category labels\n",
    "such as `PERSON`, `ORGANIZATION`, and `GPE`."
   ]
  },
  {
   "cell_type": "code",
   "execution_count": null,
   "id": "71aae1de",
   "metadata": {},
   "outputs": [],
   "source": [
    "import requests\n",
    "import lxml.html as lx"
   ]
  },
  {
   "cell_type": "code",
   "execution_count": null,
   "id": "fce6b0f0",
   "metadata": {},
   "outputs": [],
   "source": [
    "r=requests.get('https://plato.stanford.edu/entries/liberalism-latin-america/')\n",
    "html=lx.fromstring(r.text)\n",
    "d=\" \".join(html.xpath('//div[@id=\"aueditable\"]//p//text()'))"
   ]
  },
  {
   "cell_type": "code",
   "execution_count": null,
   "id": "7718dab5",
   "metadata": {},
   "outputs": [],
   "source": [
    "d[:100]"
   ]
  },
  {
   "cell_type": "code",
   "execution_count": null,
   "id": "7b875770",
   "metadata": {},
   "outputs": [],
   "source": [
    "import nltk\n",
    "import re\n",
    "def preprocess(document):\n",
    "    document = re.sub(\"\\s+\", \" \", document)\n",
    "    sentences = nltk.sent_tokenize(document)\n",
    "    sentences = [nltk.word_tokenize(sent) for sent in sentences]\n",
    "    sentences = [nltk.pos_tag(sent) for sent in sentences]\n",
    "    return sentences"
   ]
  },
  {
   "cell_type": "code",
   "execution_count": null,
   "id": "55d928b1",
   "metadata": {},
   "outputs": [],
   "source": [
    "document=preprocess(d)"
   ]
  },
  {
   "cell_type": "code",
   "execution_count": null,
   "id": "120e809f",
   "metadata": {},
   "outputs": [],
   "source": [
    "document[0]"
   ]
  },
  {
   "cell_type": "code",
   "execution_count": null,
   "id": "fc7a27e1",
   "metadata": {},
   "outputs": [],
   "source": [
    "t=[nltk.ne_chunk(sentence) for sentence in document]"
   ]
  },
  {
   "cell_type": "code",
   "execution_count": null,
   "id": "ee5f923f",
   "metadata": {},
   "outputs": [],
   "source": [
    "t[15]"
   ]
  },
  {
   "cell_type": "code",
   "execution_count": null,
   "id": "9e6e0aa2",
   "metadata": {
    "scrolled": true
   },
   "outputs": [],
   "source": [
    "for sent in t:\n",
    "    for chunk in sent:\n",
    "        if hasattr(chunk, \"label\"):\n",
    "            print(chunk)"
   ]
  },
  {
   "cell_type": "markdown",
   "id": "d2b1cf22",
   "metadata": {},
   "source": [
    "### Relation Extraction\n",
    "\n",
    "Once named entities have been identified in a text, we then want to extract the relations\n",
    "that exist between them. We will typically be looking for relations\n",
    "between specified types of named entity. One way of approaching this task is to initially\n",
    "look for all triples of the form `(X, α, Y)`, where `X` and `Y` are named entities of the required\n",
    "types, and `α` is the string of words that intervenes between `X` and `Y`."
   ]
  },
  {
   "cell_type": "code",
   "execution_count": null,
   "id": "8a47ca4e",
   "metadata": {},
   "outputs": [],
   "source": [
    "for sent in t:\n",
    "    for i, chunk in enumerate(sent):\n",
    "        try: \n",
    "            if (hasattr(sent[i], \"label\") and sent[i].label()==\"PERSON\" \n",
    "                and sent[i+1][1]=='IN' and hasattr(sent[i+2], \"label\") and sent[i+2].label()==\"GPE\"): \n",
    "                relation = {\n",
    "                    \" \".join([i[0] for i in sent[i].leaves()]): \n",
    "                    \" \".join([i[0] for i in sent[i+2].leaves()])\n",
    "                }\n",
    "                print(relation)\n",
    "        except: \n",
    "            pass "
   ]
  }
 ],
 "metadata": {
  "kernelspec": {
   "display_name": "Python 3 (ipykernel)",
   "language": "python",
   "name": "python3"
  },
  "language_info": {
   "codemirror_mode": {
    "name": "ipython",
    "version": 3
   },
   "file_extension": ".py",
   "mimetype": "text/x-python",
   "name": "python",
   "nbconvert_exporter": "python",
   "pygments_lexer": "ipython3",
   "version": "3.9.12"
  }
 },
 "nbformat": 4,
 "nbformat_minor": 5
}
