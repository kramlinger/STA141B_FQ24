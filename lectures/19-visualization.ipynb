{
 "cells": [
  {
   "cell_type": "markdown",
   "id": "ff704263",
   "metadata": {
    "slideshow": {
     "slide_type": "slide"
    }
   },
   "source": [
    "# STA 141B Data & Web Technologies for Data Analysis\n",
    "\n",
    "### Lecture 19, 12/5/24, Interactive Visualization: Cartography"
   ]
  },
  {
   "cell_type": "markdown",
   "id": "ddfe9b79",
   "metadata": {
    "slideshow": {
     "slide_type": "slide"
    }
   },
   "source": [
    "### Announcements \n",
    "\n",
    "- "
   ]
  },
  {
   "cell_type": "markdown",
   "id": "33876d6f",
   "metadata": {
    "slideshow": {
     "slide_type": "slide"
    }
   },
   "source": [
    "### Today's topics\n",
    "- Cartography\n",
    "    - Chloropeth maps"
   ]
  },
  {
   "cell_type": "markdown",
   "id": "5dbb014e",
   "metadata": {
    "slideshow": {
     "slide_type": "slide"
    }
   },
   "source": [
    "Cloropeth maps are similar to heat maps, in which the units of display are (usually) political entities. They were first introduced in France in the 19th century to color _départements_, which are administrative structures roughly equal in size. "
   ]
  },
  {
   "cell_type": "markdown",
   "id": "b69c96e0",
   "metadata": {
    "slideshow": {
     "slide_type": "subslide"
    }
   },
   "source": [
    "<div>\n",
    "    <center>\n",
    "<img src=\"https://upload.wikimedia.org/wikipedia/commons/3/38/Carte_figurative_de_l%27instruction_populaire_de_la_France.jpg\" width=\"1000\"/>\n",
    "</center>\n",
    "    </div>"
   ]
  },
  {
   "cell_type": "markdown",
   "id": "969cfc77",
   "metadata": {
    "slideshow": {
     "slide_type": "subslide"
    }
   },
   "source": [
    "The preceding example about the proportion of literate population is a textbook example of chloropeth maps for unclassed data: The gradient ranges from low to high. \n",
    "\n",
    "Classed maps color political entities by categorical features. The following example shows the party of each winner of constituencies for the 2019 United Kingdom election. "
   ]
  },
  {
   "cell_type": "markdown",
   "id": "be7295f4",
   "metadata": {
    "slideshow": {
     "slide_type": "subslide"
    }
   },
   "source": [
    "<div>\n",
    "    <center>\n",
    "<img src=\"https://upload.wikimedia.org/wikipedia/commons/e/e2/2019UKElectionMap.svg\" width=\"1000\"/>\n",
    "</center>\n",
    "</div>"
   ]
  },
  {
   "cell_type": "markdown",
   "id": "7298be07",
   "metadata": {
    "slideshow": {
     "slide_type": "subslide"
    }
   },
   "source": [
    "This maps is not appropriate, because the each constituency corresponds to one seat. However, the larger (rural) constituencies overinflate the success of the Conservative party (blue). "
   ]
  },
  {
   "cell_type": "markdown",
   "id": "09421abd",
   "metadata": {
    "slideshow": {
     "slide_type": "subslide"
    }
   },
   "source": [
    "<div>\n",
    "    <center>\n",
    "<img src=\"https://miro.medium.com/v2/resize:fit:1400/1*hfA55y_xlYTs5v3k-_AxCA.png\" width=\"1000\"/>\n",
    "</center>\n",
    "</div>"
   ]
  },
  {
   "cell_type": "markdown",
   "id": "89fc6028",
   "metadata": {
    "slideshow": {
     "slide_type": "subslide"
    }
   },
   "source": [
    "This is one example of preferring regular shapes over accurate constituency boundaries. The size of the constituencies are equal, as each correspond to one seat in parliament. They convey a more truthful message on the election results than constituencies that scale with area. \n",
    "\n",
    "Another issue with the categorical data is that we are not able to learn in which areas each party did particularly good - we only know which party did better than all others. Next, we will create chloropeth maps with a gradient layer for each party on the geographical constituencies to explore where certain parties are particularly strong (and weak). "
   ]
  },
  {
   "cell_type": "markdown",
   "id": "2282f02d",
   "metadata": {
    "slideshow": {
     "slide_type": "subslide"
    }
   },
   "source": [
    "We can scrape the election results from wikipedia. Some data processing is in order. "
   ]
  },
  {
   "cell_type": "code",
   "execution_count": null,
   "id": "5d34bfe9",
   "metadata": {},
   "outputs": [],
   "source": [
    "import pandas as pd"
   ]
  },
  {
   "cell_type": "code",
   "execution_count": null,
   "id": "1fed38b2",
   "metadata": {},
   "outputs": [],
   "source": [
    "elections = pd.read_html('https://en.wikipedia.org/wiki/Results_of_the_2019_United_Kingdom_general_election') "
   ]
  },
  {
   "cell_type": "code",
   "execution_count": null,
   "id": "419dc17c",
   "metadata": {
    "slideshow": {
     "slide_type": "subslide"
    }
   },
   "outputs": [],
   "source": [
    "# England \n",
    "england = elections[0].iloc[1:534,]\n",
    "england.columns = [i[1] for i in england.columns.to_flat_index()]\n",
    "england = england.rename(columns = {'Lab[b][c]': 'Lab'})\n",
    "england = england[['Constituency', 'Con', 'Lab', 'LD', 'Grn', 'Total']]"
   ]
  },
  {
   "cell_type": "code",
   "execution_count": null,
   "id": "dc69fe95",
   "metadata": {
    "slideshow": {
     "slide_type": "-"
    }
   },
   "outputs": [],
   "source": [
    "# Scotland \n",
    "scotland = elections[2].iloc[1:60,]\n",
    "scotland.columns = [i[1] for i in scotland.columns.to_flat_index()]\n",
    "scotland = scotland.rename(columns = {'Lab[b]': 'Lab'})\n",
    "scotland = scotland[['Constituency', 'Con', 'Lab', 'LD', 'Grn', 'Total']]"
   ]
  },
  {
   "cell_type": "code",
   "execution_count": null,
   "id": "f373ec88",
   "metadata": {
    "scrolled": true
   },
   "outputs": [],
   "source": [
    "# Wales \n",
    "wales = elections[3].iloc[1:41,]\n",
    "wales.columns = [i[1] for i in wales.columns.to_flat_index()]\n",
    "wales = wales.rename(columns = {'Lab[b]': 'Lab'})\n",
    "wales = wales[['Constituency', 'Con', 'Lab', 'LD', 'Grn', 'Total']]"
   ]
  },
  {
   "cell_type": "code",
   "execution_count": null,
   "id": "0ccc06dc",
   "metadata": {
    "slideshow": {
     "slide_type": "subslide"
    }
   },
   "outputs": [],
   "source": [
    "election = pd.concat([england, scotland, wales]).set_index('Constituency').fillna(0)\n",
    "election.head()"
   ]
  },
  {
   "cell_type": "code",
   "execution_count": null,
   "id": "b1e96fdd",
   "metadata": {},
   "outputs": [],
   "source": [
    "for col in election.columns:\n",
    "    election[col] = election[col].astype(int) / election['Total'].astype(int)\n",
    "election = election.drop('Total', axis = 1)"
   ]
  },
  {
   "cell_type": "code",
   "execution_count": null,
   "id": "cc2d072f",
   "metadata": {},
   "outputs": [],
   "source": [
    "election.head()"
   ]
  },
  {
   "cell_type": "markdown",
   "id": "4d2a8fcb",
   "metadata": {
    "slideshow": {
     "slide_type": "subslide"
    }
   },
   "source": [
    "Some constituencies have non-unicode names. They will not be matched correctly. "
   ]
  },
  {
   "cell_type": "code",
   "execution_count": null,
   "id": "15219325",
   "metadata": {},
   "outputs": [],
   "source": [
    "election.index"
   ]
  },
  {
   "cell_type": "code",
   "execution_count": null,
   "id": "8b3c1107",
   "metadata": {},
   "outputs": [],
   "source": [
    "import re\n",
    "from unidecode import unidecode"
   ]
  },
  {
   "cell_type": "code",
   "execution_count": null,
   "id": "f67a01c8",
   "metadata": {},
   "outputs": [],
   "source": [
    "standardize = lambda x: unidecode(re.sub(',', '', x))\n",
    "election.index = [standardize(i) for i in election.index]"
   ]
  },
  {
   "cell_type": "code",
   "execution_count": null,
   "id": "05423cde",
   "metadata": {
    "slideshow": {
     "slide_type": "-"
    }
   },
   "outputs": [],
   "source": [
    "election.index"
   ]
  },
  {
   "cell_type": "code",
   "execution_count": null,
   "id": "e32285da",
   "metadata": {
    "slideshow": {
     "slide_type": "subslide"
    }
   },
   "outputs": [],
   "source": [
    "election.index[508] # given as Weston-Super-Mare in boundaries! "
   ]
  },
  {
   "cell_type": "code",
   "execution_count": null,
   "id": "161a858a",
   "metadata": {},
   "outputs": [],
   "source": [
    "election = election.rename(index = {'Weston-super-Mare': 'Weston-Super-Mare'})"
   ]
  },
  {
   "cell_type": "markdown",
   "id": "8f598c19",
   "metadata": {},
   "source": [
    "Any remaining mismatches of the data and GeoJSON file that contains the polygons will have to be dealt with later.  "
   ]
  },
  {
   "cell_type": "markdown",
   "id": "88a99a71",
   "metadata": {
    "slideshow": {
     "slide_type": "subslide"
    }
   },
   "source": [
    "We want to color the map according to how good each party did in the constituency. "
   ]
  },
  {
   "cell_type": "code",
   "execution_count": null,
   "id": "93b4ab8e",
   "metadata": {
    "slideshow": {
     "slide_type": "-"
    }
   },
   "outputs": [],
   "source": [
    "election = dict(election)"
   ]
  },
  {
   "cell_type": "code",
   "execution_count": null,
   "id": "e5686220",
   "metadata": {
    "slideshow": {
     "slide_type": "-"
    }
   },
   "outputs": [],
   "source": [
    "election['Con']['Aldershot'] "
   ]
  },
  {
   "cell_type": "markdown",
   "id": "d9a0522e",
   "metadata": {},
   "source": [
    "Lets assign each party a color. `branca.colormap.LinearColormap` create a linar interpolation between two colors. "
   ]
  },
  {
   "cell_type": "code",
   "execution_count": null,
   "id": "a8c0b7d5",
   "metadata": {},
   "outputs": [],
   "source": [
    "import branca.colormap as cmp"
   ]
  },
  {
   "cell_type": "code",
   "execution_count": null,
   "id": "956e6a0c",
   "metadata": {
    "slideshow": {
     "slide_type": "-"
    }
   },
   "outputs": [],
   "source": [
    "colors = {party: cmp.LinearColormap(['white', color], vmin=0, vmax=max(election[party])) \\\n",
    "          for party, color in zip(election.keys(), ['#3a85d6', '#ed4224', '#e8ca54', '#6cbd6c'])}"
   ]
  },
  {
   "cell_type": "code",
   "execution_count": null,
   "id": "b23b9129",
   "metadata": {
    "slideshow": {
     "slide_type": "-"
    }
   },
   "outputs": [],
   "source": [
    "colors['Grn']"
   ]
  },
  {
   "cell_type": "code",
   "execution_count": null,
   "id": "1fe1094a",
   "metadata": {
    "slideshow": {
     "slide_type": "-"
    }
   },
   "outputs": [],
   "source": [
    "colors['Lab'](election['Lab']['Aldershot'])"
   ]
  },
  {
   "cell_type": "markdown",
   "id": "8ee8cf7e",
   "metadata": {
    "slideshow": {
     "slide_type": "subslide"
    }
   },
   "source": [
    "The custom coloring `get_color` takes the constituency name from the GeoJSON, removes commas (to deal with another mismatch: 'Birmingham, Edgbaston' to 'Birmingham Edgbaston') and, if data is available for that polygon, colors it according to the vote share.  "
   ]
  },
  {
   "cell_type": "code",
   "execution_count": null,
   "id": "42ebb868",
   "metadata": {
    "slideshow": {
     "slide_type": "-"
    }
   },
   "outputs": [],
   "source": [
    "def get_color(feature, party):\n",
    "    value = feature['properties']['PCON13NM']\n",
    "    value = re.sub(',', '', value)\n",
    "    \n",
    "    return colors[party](election[party][value])"
   ]
  },
  {
   "cell_type": "markdown",
   "id": "eb720c65",
   "metadata": {
    "slideshow": {
     "slide_type": "subslide"
    }
   },
   "source": [
    "The geographical information on the consituencies is available as GeoJSON online. "
   ]
  },
  {
   "cell_type": "code",
   "execution_count": null,
   "id": "216b7941",
   "metadata": {},
   "outputs": [],
   "source": [
    "import requests\n",
    "boundaries = requests.get('https://github.com/martinjc/UK-GeoJSON/blob/master/json/electoral/gb/wpc.json?raw=true').json()"
   ]
  },
  {
   "cell_type": "code",
   "execution_count": null,
   "id": "3a171b59",
   "metadata": {},
   "outputs": [],
   "source": [
    "boundaries['features'][0]#['properties']"
   ]
  },
  {
   "cell_type": "code",
   "execution_count": null,
   "id": "3d6cf669",
   "metadata": {},
   "outputs": [],
   "source": [
    "boundaries['features'][0]['properties']['PCON13NM']"
   ]
  },
  {
   "cell_type": "markdown",
   "id": "817164ea",
   "metadata": {
    "slideshow": {
     "slide_type": "subslide"
    }
   },
   "source": [
    "Lets create a map. We set `tiles` to `False` to remove the standard openstreetview map. Instead, lets use the world terrain map as background. "
   ]
  },
  {
   "cell_type": "code",
   "execution_count": null,
   "id": "64b60b8b",
   "metadata": {
    "slideshow": {
     "slide_type": "-"
    }
   },
   "outputs": [],
   "source": [
    "import folium \n",
    "m = folium.Map(location=[52, 0.0], zoom_start=7, \n",
    "               width=1200, height=1000, \n",
    "               tiles = None)\n",
    "folium.TileLayer(\n",
    "    tiles='https://server.arcgisonline.com/ArcGIS/rest/services/World_Terrain_Base/MapServer/tile/{z}/{y}/{x}',\n",
    "    attr='Esri',\n",
    "    name='Esri Satellite', overlay=True, control=False\n",
    ").add_to(m)"
   ]
  },
  {
   "cell_type": "code",
   "execution_count": null,
   "id": "969e1612",
   "metadata": {
    "slideshow": {
     "slide_type": "-"
    }
   },
   "outputs": [],
   "source": [
    "m.save(\"map.html\")"
   ]
  },
  {
   "cell_type": "code",
   "execution_count": null,
   "id": "c4f0f5d1",
   "metadata": {
    "slideshow": {
     "slide_type": "-"
    }
   },
   "outputs": [],
   "source": [
    "!open ./map.html"
   ]
  },
  {
   "cell_type": "markdown",
   "id": "c1ddce8d",
   "metadata": {
    "slideshow": {
     "slide_type": "subslide"
    }
   },
   "source": [
    "I am afraid that `folium` does not handle loops as expected. Note that we pass `get_color` to the `style_function` argument. The additional parameters govern the boundaries, opacity, and `overlay=False` ensures that each object is given a radio buttion, not a checkmark button. "
   ]
  },
  {
   "cell_type": "code",
   "execution_count": null,
   "id": "e567d145",
   "metadata": {},
   "outputs": [],
   "source": [
    "folium.GeoJson(\n",
    "        boundaries,\n",
    "        name=str('Con'),\n",
    "        style_function=lambda feature: {\n",
    "            \"fillColor\": get_color(feature, 'Con'),\n",
    "            \"color\": \"gray\",\n",
    "            \"weight\": 1,\n",
    "            \"dashArray\": \"1\",\n",
    "            \"fillOpacity\": 1,\n",
    "        }, overlay=False, \n",
    "    ).add_to(m)\n",
    "folium.GeoJson(\n",
    "        boundaries,\n",
    "        name=str('Lab'),\n",
    "        style_function=lambda feature: {\n",
    "            \"fillColor\": get_color(feature, 'Lab'),\n",
    "            \"color\": \"gray\",\n",
    "            \"weight\": 1,\n",
    "            \"dashArray\": \"1\",\n",
    "            \"fillOpacity\": 1,\n",
    "        }, overlay=False,\n",
    "    ).add_to(m)"
   ]
  },
  {
   "cell_type": "code",
   "execution_count": null,
   "id": "2582ebc3",
   "metadata": {
    "slideshow": {
     "slide_type": "subslide"
    }
   },
   "outputs": [],
   "source": [
    "folium.GeoJson(\n",
    "        boundaries,\n",
    "        name=str('LD'),\n",
    "        style_function=lambda feature: {\n",
    "            \"fillColor\": get_color(feature, 'LD'),\n",
    "            \"color\": \"gray\",\n",
    "            \"weight\": 1,\n",
    "            \"dashArray\": \"1\",\n",
    "            \"fillOpacity\": 1,\n",
    "        }, overlay=False, \n",
    "    ).add_to(m)\n",
    "folium.GeoJson(\n",
    "        boundaries,\n",
    "        name=str('Grn'),\n",
    "        style_function=lambda feature: {\n",
    "            \"fillColor\": get_color(feature, 'Grn'),\n",
    "            \"color\": \"gray\",\n",
    "            \"weight\": 1,\n",
    "            \"dashArray\": \"1\",\n",
    "            \"fillOpacity\": 1,\n",
    "        }, overlay=False,  \n",
    "    ).add_to(m)"
   ]
  },
  {
   "cell_type": "code",
   "execution_count": null,
   "id": "eeb43fc8",
   "metadata": {
    "slideshow": {
     "slide_type": "subslide"
    }
   },
   "outputs": [],
   "source": [
    "folium.LayerControl(collapsed=False).add_to(m)\n",
    "m"
   ]
  },
  {
   "cell_type": "code",
   "execution_count": null,
   "id": "83d9e778",
   "metadata": {
    "slideshow": {
     "slide_type": "subslide"
    }
   },
   "outputs": [],
   "source": [
    "m.save(\"map.html\")"
   ]
  },
  {
   "cell_type": "code",
   "execution_count": null,
   "id": "0153346a",
   "metadata": {
    "scrolled": false,
    "slideshow": {
     "slide_type": "subslide"
    }
   },
   "outputs": [],
   "source": [
    "!open ./map.html"
   ]
  },
  {
   "cell_type": "markdown",
   "id": "7515e373",
   "metadata": {
    "slideshow": {
     "slide_type": "subslide"
    }
   },
   "source": [
    "Even though this map does not use regular shapes do map each constituency, we learn, e.g., that the Tories do better in rural areas, while Labour underperformes in these. With notable exceptions, the LibDems are stronger in the rural south. "
   ]
  },
  {
   "cell_type": "markdown",
   "id": "f1c41343",
   "metadata": {
    "scrolled": false,
    "slideshow": {
     "slide_type": "slide"
    }
   },
   "source": [
    "While gradual color schemes are most appropriate for chloropeth maps, they only allow to show a single feature. \n",
    "\n",
    "Another problem in chloropeth maps is that they do not accurately depict data over geographic space with the use of large blocks. \n",
    "\n",
    "Dasyncretic maps address this issue. They use auxiliary information to portray the data more accurately. They intersect geographical objects to filter out spatial information that does not contribute to the data. \n",
    "\n",
    "<div>\n",
    "    <center>\n",
    "<img src=\"https://upload.wikimedia.org/wikipedia/commons/7/7e/Utah_Valley_dasymetric_map.png\" width=\"1000\"/>\n",
    "</center>\n",
    "</div>"
   ]
  },
  {
   "cell_type": "markdown",
   "id": "6fefc84b",
   "metadata": {
    "slideshow": {
     "slide_type": "subslide"
    }
   },
   "source": [
    "Another popular map format are dot maps. Consider the following map from the 1931 Polish census. "
   ]
  },
  {
   "cell_type": "markdown",
   "id": "b881663f",
   "metadata": {},
   "source": [
    "<div>\n",
    "    <center>\n",
    "<img src=\"https://upload.wikimedia.org/wikipedia/commons/2/25/GUS_languages1931_Poland.jpg\" width=\"1000\" />\n",
    "        </center>\n",
    "</div>"
   ]
  },
  {
   "cell_type": "markdown",
   "id": "f0fa8b6a",
   "metadata": {
    "slideshow": {
     "slide_type": "subslide"
    }
   },
   "source": [
    "Lets give this map a modern touch! We will draw from [Paul Dziemielas](https://dziemiela.com/personal/interwar_poland.html) geographical boundaries and census results. "
   ]
  },
  {
   "cell_type": "code",
   "execution_count": null,
   "id": "7ec9c938",
   "metadata": {},
   "outputs": [],
   "source": [
    "import requests\n",
    "r = requests.get('https://www.dziemiela.com/personal/Interwar_Poland_1934_20142.json', headers = {\n",
    "    'User-Agent': 'Mozilla/5.0 (Macintosh; Intel Mac OS X 10_15_7) AppleWebKit/537.36 (KHTML, like Gecko) Chrome/122.0.0.0 Safari/537.36'\n",
    "})\n",
    "topoJSON = r.json() # this is in topoJSON format!"
   ]
  },
  {
   "cell_type": "code",
   "execution_count": null,
   "id": "6573e91c",
   "metadata": {
    "scrolled": true
   },
   "outputs": [],
   "source": [
    "topoJSON['objects']['Palatinates']['geometries']"
   ]
  },
  {
   "cell_type": "code",
   "execution_count": null,
   "id": "6ee384fd",
   "metadata": {
    "slideshow": {
     "slide_type": "subslide"
    }
   },
   "outputs": [],
   "source": [
    "import folium\n",
    "m = folium.Map(width=1300, height=800, tiles = None,\n",
    "               location=[53, 23], zoom_start=5)\n",
    "folium.TileLayer(\n",
    "    tiles='https://server.arcgisonline.com/ArcGIS/rest/services/World_Terrain_Base/MapServer/tile/{z}/{y}/{x}',\n",
    "    attr='Esri',\n",
    "    name='Esri Satellite'\n",
    ").add_to(m)"
   ]
  },
  {
   "cell_type": "code",
   "execution_count": null,
   "id": "fd3e6331",
   "metadata": {},
   "outputs": [],
   "source": [
    "#topoJSON['objects']['Districts']['geometries']#[0]['properties']['GEOID']"
   ]
  },
  {
   "cell_type": "code",
   "execution_count": null,
   "id": "15357614",
   "metadata": {},
   "outputs": [],
   "source": [
    "folium.TopoJson(topoJSON,\n",
    "    object_path='objects.Districts', \n",
    "    style_function=lambda feature: {\n",
    "        \"fillColor\": None,\n",
    "        \"fillOpacity\": 0.0,\n",
    "        \"color\": \"lightgray\",\n",
    "        \"weight\": 1,\n",
    "        \"dashArray\": \"1\",\n",
    "    }, overlay=True, control=False).add_to(m)"
   ]
  },
  {
   "cell_type": "code",
   "execution_count": null,
   "id": "fdbab6af",
   "metadata": {
    "scrolled": false,
    "slideshow": {
     "slide_type": "subslide"
    }
   },
   "outputs": [],
   "source": [
    "folium.LayerControl().add_to(m)\n",
    "m"
   ]
  },
  {
   "cell_type": "markdown",
   "id": "f1fc191d",
   "metadata": {
    "slideshow": {
     "slide_type": "subslide"
    }
   },
   "source": [
    "Lets retrieve the census data from the same source."
   ]
  },
  {
   "cell_type": "code",
   "execution_count": null,
   "id": "e6d1033a",
   "metadata": {
    "slideshow": {
     "slide_type": "-"
    }
   },
   "outputs": [],
   "source": []
  },
  {
   "cell_type": "code",
   "execution_count": null,
   "id": "00724433",
   "metadata": {
    "slideshow": {
     "slide_type": "-"
    }
   },
   "outputs": [],
   "source": [
    "import requests, zipfile, io\n",
    "\n",
    "r = requests.get('https://www.dziemiela.com/personal/Interwar_Poland_1934_20142.zip', headers = {\n",
    "    'User-Agent': 'Mozilla/5.0 (Macintosh; Intel Mac OS X 10_15_7) AppleWebKit/537.36 (KHTML, like Gecko) Chrome/122.0.0.0 Safari/537.36'\n",
    "})\n",
    "z = zipfile.ZipFile(io.BytesIO(r.content))\n",
    "z.extractall(\"../data/polish_census\")"
   ]
  },
  {
   "cell_type": "markdown",
   "id": "12299cdd",
   "metadata": {
    "slideshow": {
     "slide_type": "subslide"
    }
   },
   "source": [
    "`fiona` is a module to handle geopackages. We have data for the 1931 and 1921 census, and a school census of 1926. We are only interested in the 1931 census. "
   ]
  },
  {
   "cell_type": "code",
   "execution_count": null,
   "id": "0d8eddf2",
   "metadata": {
    "slideshow": {
     "slide_type": "-"
    }
   },
   "outputs": [],
   "source": [
    "import fiona\n",
    "fiona.listlayers('../data/polish_census/Interwar_Poland_1934.gpkg')"
   ]
  },
  {
   "cell_type": "code",
   "execution_count": null,
   "id": "5ebcf3fc",
   "metadata": {
    "slideshow": {
     "slide_type": "subslide"
    }
   },
   "outputs": [],
   "source": [
    "import geopandas\n",
    "districts = geopandas.read_file(\"../data/polish_census/Interwar_Poland_1934.gpkg\", \n",
    "                                layer='Census_1931_Districts') \n",
    "districts.head(3)"
   ]
  },
  {
   "cell_type": "code",
   "execution_count": null,
   "id": "e1a0aa1f",
   "metadata": {
    "scrolled": true,
    "slideshow": {
     "slide_type": "-"
    }
   },
   "outputs": [],
   "source": [
    "print('\\n'.join(districts.columns))"
   ]
  },
  {
   "cell_type": "markdown",
   "id": "9c2bdf97",
   "metadata": {
    "slideshow": {
     "slide_type": "subslide"
    }
   },
   "source": [
    "Lets craft the data set that is used to plot dots. "
   ]
  },
  {
   "cell_type": "code",
   "execution_count": null,
   "id": "883c7a36",
   "metadata": {
    "slideshow": {
     "slide_type": "-"
    }
   },
   "outputs": [],
   "source": [
    "import numpy as np\n",
    "import pandas as pd\n",
    "data = districts[['GEOID', 'POLISH', 'UKRAINIAN', 'RUSKI', \n",
    "                    'BELARUSIAN', 'LITHUANIAN', 'GERMAN', 'YIDDISH', 'HEBREW']].set_index('GEOID').dropna()\n",
    "#data.head()"
   ]
  },
  {
   "cell_type": "code",
   "execution_count": null,
   "id": "a1fc77a1",
   "metadata": {},
   "outputs": [],
   "source": [
    "data = data.apply(lambda x: np.floor(x / 10000).astype(int), axis = 1)"
   ]
  },
  {
   "cell_type": "code",
   "execution_count": null,
   "id": "29784237",
   "metadata": {},
   "outputs": [],
   "source": [
    "data.head()"
   ]
  },
  {
   "cell_type": "markdown",
   "id": "6352380b",
   "metadata": {
    "slideshow": {
     "slide_type": "subslide"
    }
   },
   "source": [
    "As for the UK election, choose colors for each category. "
   ]
  },
  {
   "cell_type": "code",
   "execution_count": null,
   "id": "6fa2cb3e",
   "metadata": {
    "slideshow": {
     "slide_type": "-"
    }
   },
   "outputs": [],
   "source": [
    "colorpicker = {lang: color for lang, color in zip(data.columns, \n",
    "    ['#de3e16', '#f7d914', '#1cbd87', '#36a334', '#b569e0', '#64a8ed', '#b9d676', '#f781b2'])}"
   ]
  },
  {
   "cell_type": "code",
   "execution_count": null,
   "id": "50c87b09",
   "metadata": {
    "slideshow": {
     "slide_type": "-"
    }
   },
   "outputs": [],
   "source": [
    "import matplotlib.pyplot as plt\n",
    "\n",
    "y = [0, 1]\n",
    "x = [1, 1]\n",
    "\n",
    "fig, axes = plt.subplots(ncols=4,nrows=2, sharex=True, sharey=True,\n",
    "                         figsize=(5,2), subplot_kw={'xticks': [], 'yticks': []})\n",
    "\n",
    "for ax, key in zip(axes.flat, colorpicker.keys()):\n",
    "    ax.plot(x, y)\n",
    "    ax.fill_betweenx(y, 0, 1, facecolor=colorpicker[key])\n",
    "    ax.set_xlim(0, 0.1)\n",
    "    ax.set_ylim(0, 1)\n",
    "    ax.set_title(str(key))\n",
    "\n",
    "plt.tight_layout()\n",
    "plt.show()"
   ]
  },
  {
   "cell_type": "markdown",
   "id": "1613b8d8",
   "metadata": {
    "slideshow": {
     "slide_type": "subslide"
    }
   },
   "source": [
    "Even though topoJSON is a more economical data format, we want to generate random points in each geometric object. To do so, we need to recast the topoJSON in to geoJSON format. "
   ]
  },
  {
   "cell_type": "code",
   "execution_count": null,
   "id": "20b46a5e",
   "metadata": {},
   "outputs": [],
   "source": [
    "from pytopojson import feature\n",
    "feature_ = feature.Feature()\n",
    "geojson = feature_(topoJSON, 'Districts')"
   ]
  },
  {
   "cell_type": "code",
   "execution_count": null,
   "id": "55bb61f8",
   "metadata": {
    "slideshow": {
     "slide_type": "-"
    }
   },
   "outputs": [],
   "source": [
    "geojson['features'][0] # navigate through... / do not print"
   ]
  },
  {
   "cell_type": "code",
   "execution_count": null,
   "id": "60f7feea",
   "metadata": {
    "slideshow": {
     "slide_type": "subslide"
    }
   },
   "outputs": [],
   "source": [
    "gdf = geopandas.GeoDataFrame.from_features(geojson['features'])\n",
    "gdf.head(2)"
   ]
  },
  {
   "cell_type": "code",
   "execution_count": null,
   "id": "1359c408",
   "metadata": {},
   "outputs": [],
   "source": [
    "gdf['geometry'][2].bounds"
   ]
  },
  {
   "cell_type": "code",
   "execution_count": null,
   "id": "a70158e4",
   "metadata": {},
   "outputs": [],
   "source": [
    "gdf['geometry'][2]"
   ]
  },
  {
   "cell_type": "markdown",
   "id": "88a9eaf7",
   "metadata": {
    "slideshow": {
     "slide_type": "subslide"
    }
   },
   "source": [
    "Random (on the cartesian plane) points are generated in each object. "
   ]
  },
  {
   "cell_type": "code",
   "execution_count": null,
   "id": "547662db",
   "metadata": {
    "slideshow": {
     "slide_type": "-"
    }
   },
   "outputs": [],
   "source": [
    "import shapely, random\n",
    "def generate_random_points(number, GEOID):\n",
    "\n",
    "    # Select list entry of given object\n",
    "    polygon = gdf[gdf['GEOID'] == GEOID]['geometry']#[0]\n",
    "    # Extract bounding box (extent) from the GeoDataFrame\n",
    "    minx, miny, maxx, maxy = polygon.bounds.squeeze()\n",
    "    \n",
    "    # Generate random points within the bounding box\n",
    "    random_points = []\n",
    "    while len(random_points) < number:\n",
    "        random_point = shapely.geometry.Point(random.uniform(minx, maxx), random.uniform(miny, maxy))\n",
    "        # Check if the point is inside any of the polygons\n",
    "        if all(random_point.intersects(polygon)):\n",
    "            random_points.append(random_point)\n",
    "\n",
    "    return geopandas.GeoDataFrame(geometry=random_points)['geometry']"
   ]
  },
  {
   "cell_type": "code",
   "execution_count": null,
   "id": "c330d3f8",
   "metadata": {},
   "outputs": [],
   "source": [
    "generate_random_points(2, 'P1613')"
   ]
  },
  {
   "cell_type": "code",
   "execution_count": null,
   "id": "ee7fcb84",
   "metadata": {},
   "outputs": [],
   "source": [
    "generate_random_points(1, 'P1613')[0]"
   ]
  },
  {
   "cell_type": "markdown",
   "id": "8b68b679",
   "metadata": {
    "slideshow": {
     "slide_type": "subslide"
    }
   },
   "source": [
    "Finally, lets add the dots to the map. "
   ]
  },
  {
   "cell_type": "code",
   "execution_count": null,
   "id": "4d0c448a",
   "metadata": {
    "slideshow": {
     "slide_type": "-"
    }
   },
   "outputs": [],
   "source": [
    "m = folium.Map(width=1300, height=800, tiles = None,\n",
    "               location=[53, 23], zoom_start=5)\n",
    "tile = folium.TileLayer(\n",
    "    tiles='https://server.arcgisonline.com/ArcGIS/rest/services/World_Terrain_Base/MapServer/tile/{z}/{y}/{x}',\n",
    "    attr='Esri',\n",
    "    name='Esri Satellite'\n",
    ").add_to(m)\n",
    "\n",
    "folium.TopoJson(topoJSON,\n",
    "    object_path='objects.Districts', \n",
    "    style_function=lambda feature: {\n",
    "        \"fillColor\": None,\n",
    "        \"fillOpacity\": 0.0,\n",
    "        \"color\": \"lightgray\",\n",
    "        \"weight\": 1,\n",
    "        \"dashArray\": \"1\",\n",
    "    }, overlay=True, control=False).add_to(m)\n",
    "\n",
    "for lang, countsvector in dict(data).items():\n",
    "    color = colorpicker[lang]\n",
    "    fg = folium.FeatureGroup(name=lang).add_to(m)\n",
    "    for GEOID, counts in dict(countsvector).items(): \n",
    "        for point in generate_random_points(counts, GEOID): \n",
    "            folium.CircleMarker(location=[point.y, point.x], \n",
    "                    stroke=False,\n",
    "                    fill=True,\n",
    "                    color=color, \n",
    "                    fill_opacity=1,\n",
    "                    radius=2).add_to(fg)"
   ]
  },
  {
   "cell_type": "code",
   "execution_count": null,
   "id": "ddd3ccd1",
   "metadata": {
    "scrolled": false,
    "slideshow": {
     "slide_type": "subslide"
    }
   },
   "outputs": [],
   "source": [
    "folium.LayerControl(collapsed = False).add_to(m)\n",
    "m "
   ]
  },
  {
   "cell_type": "markdown",
   "id": "6b03685d",
   "metadata": {
    "slideshow": {
     "slide_type": "subslide"
    }
   },
   "source": [
    "<div>\n",
    "    <center>\n",
    "<img src=\"https://upload.wikimedia.org/wikipedia/commons/2/25/GUS_languages1931_Poland.jpg\" width=\"1000\"/>\n",
    "</center>\n",
    "    </div>"
   ]
  },
  {
   "cell_type": "markdown",
   "id": "2114ba5c",
   "metadata": {
    "slideshow": {
     "slide_type": "subslide"
    }
   },
   "source": [
    "So why did the Polish census agency decide for a dot map? Lets create a plurality map. "
   ]
  },
  {
   "cell_type": "code",
   "execution_count": null,
   "id": "3b3bbb36",
   "metadata": {},
   "outputs": [],
   "source": [
    "district_colors = districts[['GEOID', 'POLISH', 'UKRAINIAN', 'RUSKI', \n",
    "                            'BELARUSIAN', 'LITHUANIAN', 'GERMAN', 'YIDDISH', 'HEBREW']].set_index('GEOID').dropna().idxmax(axis=1)\n",
    "district_colors"
   ]
  },
  {
   "cell_type": "code",
   "execution_count": null,
   "id": "33477995",
   "metadata": {
    "slideshow": {
     "slide_type": "-"
    }
   },
   "outputs": [],
   "source": [
    "colorpicker"
   ]
  },
  {
   "cell_type": "markdown",
   "id": "26a67243",
   "metadata": {
    "slideshow": {
     "slide_type": "subslide"
    }
   },
   "source": [
    "Lets add the palatinates as well. "
   ]
  },
  {
   "cell_type": "code",
   "execution_count": null,
   "id": "00f49175",
   "metadata": {
    "slideshow": {
     "slide_type": "-"
    }
   },
   "outputs": [],
   "source": [
    "palatinates = geopandas.read_file(\"../data/polish_census/Interwar_Poland_1934.gpkg\", layer='Census_1931_Palatinates')\n",
    "palatinate_colors = palatinates[['GEOID', 'POLISH', 'UKRAINIAN', 'RUSKI', \n",
    "                                 'BELARUSIAN', 'LITHUANIAN', 'GERMAN', 'YIDDISH', 'HEBREW']].set_index('GEOID').dropna().idxmax(axis=1)"
   ]
  },
  {
   "cell_type": "code",
   "execution_count": null,
   "id": "eaf7a342",
   "metadata": {
    "slideshow": {
     "slide_type": "subslide"
    }
   },
   "outputs": [],
   "source": [
    "m = folium.Map(width=800, height=800, tiles = None,\n",
    "               location=[53, 23], zoom_start=5)\n",
    "base_map = folium.FeatureGroup(name='Basemap', overlay=True, control=False)\n",
    "folium.TileLayer(\n",
    "    tiles='https://server.arcgisonline.com/ArcGIS/rest/services/World_Terrain_Base/MapServer/tile/{z}/{y}/{x}',\n",
    "    attr='Esri',\n",
    "    name='Esri Satellite'\n",
    ").add_to(base_map)\n",
    "base_map.add_to(m)\n",
    "\n",
    "folium.TopoJson(topoJSON,\n",
    "    name = \"Districts\",\n",
    "    object_path='objects.Districts', \n",
    "    style_function=lambda feature: {\n",
    "        \"fillColor\": colorpicker[district_colors[feature['properties']['GEOID']]],\n",
    "        \"fillOpacity\": 0.8,\n",
    "        \"color\": \"lightgray\",\n",
    "        \"weight\": 1,\n",
    "        \"dashArray\": \"1\",\n",
    "    }, overlay=False).add_to(m)\n",
    "\n",
    "folium.TopoJson(topoJSON,\n",
    "    name = 'Palatinates',\n",
    "    object_path='objects.Palatinates', \n",
    "    style_function=lambda feature: {\n",
    "        \"fillColor\": colorpicker[palatinate_colors[feature['properties']['GEOID']]],\n",
    "        \"fillOpacity\": 0.8,\n",
    "        \"color\": \"lightgray\",\n",
    "        \"weight\": 1,\n",
    "        \"dashArray\": \"1\",\n",
    "    }, overlay=False).add_to(m)"
   ]
  },
  {
   "cell_type": "code",
   "execution_count": null,
   "id": "4827a8ca",
   "metadata": {
    "slideshow": {
     "slide_type": "subslide"
    }
   },
   "outputs": [],
   "source": [
    "folium.LayerControl(collapsed = False).add_to(m)\n",
    "m"
   ]
  },
  {
   "cell_type": "markdown",
   "id": "a3933129",
   "metadata": {
    "slideshow": {
     "slide_type": "subslide"
    }
   },
   "source": [
    "The actual map from the census did only consider the categories 'Polish' or 'Other'. "
   ]
  },
  {
   "cell_type": "code",
   "execution_count": null,
   "id": "8e0ff9d4",
   "metadata": {
    "slideshow": {
     "slide_type": "-"
    }
   },
   "outputs": [],
   "source": [
    "district_colors = districts[['GEOID', 'POLISH', 'UKRAINIAN', 'RUSKI', \n",
    "                            'BELARUSIAN', 'LITHUANIAN', 'GERMAN', 'YIDDISH', 'HEBREW']].set_index('GEOID').dropna()\n",
    "\n",
    "district_colors = pd.DataFrame({\"POLISH\": district_colors['POLISH'], \n",
    "                                \"OTHER\": district_colors.drop('POLISH', axis=1).sum(axis=1)}).idxmax(axis=1)"
   ]
  },
  {
   "cell_type": "code",
   "execution_count": null,
   "id": "d602df75",
   "metadata": {
    "slideshow": {
     "slide_type": "-"
    }
   },
   "outputs": [],
   "source": [
    "palatinates = geopandas.read_file(\"../data/polish_census/Interwar_Poland_1934.gpkg\", layer='Census_1931_Palatinates')\n",
    "palatinate_colors = palatinates[['GEOID', 'POLISH', 'UKRAINIAN', 'RUSKI', \n",
    "                                 'BELARUSIAN', 'LITHUANIAN', 'GERMAN', 'YIDDISH', 'HEBREW']].set_index('GEOID').dropna()\n",
    "\n",
    "palatinate_colors = pd.DataFrame({\"POLISH\": palatinate_colors['POLISH'], \n",
    "                                  \"OTHER\": palatinate_colors.drop('POLISH', axis=1).sum(axis=1)}).idxmax(axis=1)"
   ]
  },
  {
   "cell_type": "code",
   "execution_count": null,
   "id": "b0911e2a",
   "metadata": {
    "slideshow": {
     "slide_type": "-"
    }
   },
   "outputs": [],
   "source": [
    "colorpicker[\"OTHER\"] = '#b9d676'"
   ]
  },
  {
   "cell_type": "code",
   "execution_count": null,
   "id": "439148b3",
   "metadata": {
    "slideshow": {
     "slide_type": "subslide"
    }
   },
   "outputs": [],
   "source": [
    "m = folium.Map(width=800, height=800, tiles = None,\n",
    "               location=[53, 23], zoom_start=5)\n",
    "base_map = folium.FeatureGroup(name='Basemap', overlay=True, control=False)\n",
    "folium.TileLayer(\n",
    "    tiles='https://server.arcgisonline.com/ArcGIS/rest/services/World_Terrain_Base/MapServer/tile/{z}/{y}/{x}',\n",
    "    attr='Esri',\n",
    "    name='Esri Satellite'\n",
    ").add_to(base_map)\n",
    "base_map.add_to(m)\n",
    "\n",
    "folium.TopoJson(topoJSON,\n",
    "    name = \"Districts\",\n",
    "    object_path='objects.Districts', \n",
    "    style_function=lambda feature: {\n",
    "        \"fillColor\": colorpicker[district_colors[feature['properties']['GEOID']]],\n",
    "        \"fillOpacity\": 0.8,\n",
    "        \"color\": \"lightgray\",\n",
    "        \"weight\": 1,\n",
    "        \"dashArray\": \"1\",\n",
    "    }, overlay=False).add_to(m)\n",
    "\n",
    "folium.TopoJson(topoJSON,\n",
    "    name = 'Palatinates',\n",
    "    object_path='objects.Palatinates', \n",
    "    style_function=lambda feature: {\n",
    "        \"fillColor\": colorpicker[palatinate_colors[feature['properties']['GEOID']]],\n",
    "        \"fillOpacity\": 0.8,\n",
    "        \"color\": \"lightgray\",\n",
    "        \"weight\": 1,\n",
    "        \"dashArray\": \"1\",\n",
    "    }, overlay=False).add_to(m)"
   ]
  },
  {
   "cell_type": "code",
   "execution_count": null,
   "id": "a9106051",
   "metadata": {
    "slideshow": {
     "slide_type": "subslide"
    }
   },
   "outputs": [],
   "source": [
    "folium.LayerControl(collapsed = False).add_to(m)\n",
    "m "
   ]
  }
 ],
 "metadata": {
  "celltoolbar": "Slideshow",
  "kernelspec": {
   "display_name": "Python 3 (ipykernel)",
   "language": "python",
   "name": "python3"
  },
  "language_info": {
   "codemirror_mode": {
    "name": "ipython",
    "version": 3
   },
   "file_extension": ".py",
   "mimetype": "text/x-python",
   "name": "python",
   "nbconvert_exporter": "python",
   "pygments_lexer": "ipython3",
   "version": "3.9.12"
  }
 },
 "nbformat": 4,
 "nbformat_minor": 5
}
