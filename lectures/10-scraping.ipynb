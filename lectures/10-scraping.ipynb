{
 "cells": [
  {
   "cell_type": "markdown",
   "id": "8190afa7",
   "metadata": {},
   "source": [
    "# STA 220 Data & Web Technologies for Data Analysis\n",
    "\n",
    "### Lecture 10, 10/31/24, Scraping\n",
    "\n",
    "### Announcements\n",
    "- \n",
    "\n",
    "### Today's topics\n",
    " - Web Scraping: \n",
    "     - Foodwise\n",
    "     - Tornado Watch\n",
    "\n",
    "### Ressources\n",
    " - [Foodwise](https://foodwise.org/)\n",
    " - [Tornado Watch](https://www.tornadohq.com/)"
   ]
  },
  {
   "cell_type": "markdown",
   "id": "8ddcdb20",
   "metadata": {},
   "source": [
    "### Writing Scrapers\n",
    "\n",
    "Lets scrape the wiki table ourselves. Attention: We are using request, so pay attention to the file that is being returned. Check on devtools the html element for `<thead>` and see what is returned in the network. "
   ]
  },
  {
   "cell_type": "code",
   "execution_count": 1,
   "id": "03ac6e10",
   "metadata": {},
   "outputs": [],
   "source": [
    "import requests\n",
    "import lxml.html as lx\n",
    "import pandas as pd"
   ]
  },
  {
   "cell_type": "code",
   "execution_count": 2,
   "id": "4d23a7d8",
   "metadata": {},
   "outputs": [],
   "source": [
    "result = requests.get(url = 'https://en.wikipedia.org/wiki/List_of_United_States_cities_by_area')\n",
    "html = lx.fromstring(result.text)"
   ]
  },
  {
   "cell_type": "code",
   "execution_count": 3,
   "id": "7519f9a7",
   "metadata": {},
   "outputs": [
    {
     "data": {
      "text/plain": [
       "'<!DOCTYPE html>\\n<html class=\"client-nojs vector-feature-language-in-header-enabled vector-feature-la'"
      ]
     },
     "execution_count": 3,
     "metadata": {},
     "output_type": "execute_result"
    }
   ],
   "source": [
    "result.text[:100]"
   ]
  },
  {
   "cell_type": "code",
   "execution_count": null,
   "id": "476cb4ce",
   "metadata": {},
   "outputs": [],
   "source": [
    "tables = html.xpath('//table[2]')\n",
    "table = tables[0]"
   ]
  },
  {
   "cell_type": "code",
   "execution_count": null,
   "id": "bac682ac",
   "metadata": {
    "scrolled": true
   },
   "outputs": [],
   "source": [
    "table.text_content()"
   ]
  },
  {
   "cell_type": "code",
   "execution_count": null,
   "id": "763e1ce5",
   "metadata": {},
   "outputs": [],
   "source": [
    "html.xpath('//*[@id=\"mw-content-text\"]/div[1]/table[2]/thead')"
   ]
  },
  {
   "cell_type": "code",
   "execution_count": null,
   "id": "d96db40a",
   "metadata": {
    "scrolled": true
   },
   "outputs": [],
   "source": [
    "html.xpath('//table[2]/tbody/tr[4]//text()')"
   ]
  },
  {
   "cell_type": "code",
   "execution_count": null,
   "id": "89e4ca3a",
   "metadata": {},
   "outputs": [],
   "source": [
    "def retrieve_rows(html): \n",
    "    rows = html.xpath('//table[2]/tbody/tr')\n",
    "    cells = []\n",
    "    for row in rows: \n",
    "        # ./td|th means we start at the node (not searching the whole doc again), and choose td OR th children\n",
    "        cells.append([cell.text_content() for cell in row.xpath('./td|th')]) # no text, as some cells are in <b>\n",
    "    return cells"
   ]
  },
  {
   "cell_type": "code",
   "execution_count": null,
   "id": "c2eefec1",
   "metadata": {},
   "outputs": [],
   "source": [
    "retrieve_rows(html)"
   ]
  },
  {
   "cell_type": "code",
   "execution_count": null,
   "id": "0202ccb4",
   "metadata": {},
   "outputs": [],
   "source": [
    "df = pd.DataFrame(retrieve_rows(html))\n",
    "df.head(10)"
   ]
  },
  {
   "cell_type": "markdown",
   "id": "398cac70",
   "metadata": {},
   "source": [
    "### Example: Foodwise\n",
    "\n",
    "Foodwise, formerly CUESA (Center for Urban Education about Sustainable Agriculture) provides [a chart](https://foodwise.org/eat-seasonally/seasonality-chart-vegetables/) on when certain vegetables are in season. We want to create this chart for ourselves. All the info we need is on `foodwise`, so lets scrape! "
   ]
  },
  {
   "cell_type": "markdown",
   "id": "57e5057b",
   "metadata": {},
   "source": [
    "First, observe that the search mask (Food type, Month) invokes an API. However, the params are complicated to assemble, also, the returned object is an html. So we have to scrape the html. First check, using devtools, that the desired information is returned by the API (under `doc`). "
   ]
  },
  {
   "cell_type": "code",
   "execution_count": null,
   "id": "0cc17ebe",
   "metadata": {},
   "outputs": [],
   "source": [
    "import requests\n",
    "import lxml.html as lx\n",
    "import requests_cache\n",
    "import time\n",
    "requests_cache.install_cache(\"lecture10\")"
   ]
  },
  {
   "cell_type": "code",
   "execution_count": null,
   "id": "ba31b3ac",
   "metadata": {},
   "outputs": [],
   "source": [
    "url = \"https://foodwise.org/eat-seasonally/seasonality-charts/?_food_type=vegetable\""
   ]
  },
  {
   "cell_type": "code",
   "execution_count": null,
   "id": "3f9277a4",
   "metadata": {},
   "outputs": [],
   "source": [
    "headers = {\n",
    "    'user-agent': 'Mozilla/5.0 (Macintosh; Intel Mac OS X 10_15_7) AppleWebKit/537.36 (KHTML, like Gecko) Chrome/106.0.0.0 Safari/537.36'\n",
    "}"
   ]
  },
  {
   "cell_type": "markdown",
   "id": "d891e26f",
   "metadata": {},
   "source": [
    "Here, the server needs the `user-agent` key in the header. "
   ]
  },
  {
   "cell_type": "code",
   "execution_count": null,
   "id": "1cb0965e",
   "metadata": {},
   "outputs": [],
   "source": [
    "response = requests.get(url, headers = headers)\n",
    "response.raise_for_status()"
   ]
  },
  {
   "cell_type": "code",
   "execution_count": null,
   "id": "b1ecc30f",
   "metadata": {
    "scrolled": true
   },
   "outputs": [],
   "source": [
    "response.text[:100]"
   ]
  },
  {
   "cell_type": "markdown",
   "id": "149afe86",
   "metadata": {},
   "source": [
    "##### First approach"
   ]
  },
  {
   "cell_type": "code",
   "execution_count": null,
   "id": "54161480",
   "metadata": {},
   "outputs": [],
   "source": [
    "url = \"https://foodwise.org/foods/agretti/\"\n",
    "response = requests.get(url)"
   ]
  },
  {
   "cell_type": "code",
   "execution_count": null,
   "id": "52d468fb",
   "metadata": {},
   "outputs": [],
   "source": [
    "response.raise_for_status()"
   ]
  },
  {
   "cell_type": "code",
   "execution_count": null,
   "id": "6144dd69",
   "metadata": {},
   "outputs": [],
   "source": [
    "response.text # works after executed chunk below, as we use cache"
   ]
  },
  {
   "cell_type": "markdown",
   "id": "7107ff0b",
   "metadata": {},
   "source": [
    "We have to provide the correct header! "
   ]
  },
  {
   "cell_type": "code",
   "execution_count": null,
   "id": "663f2221",
   "metadata": {},
   "outputs": [],
   "source": [
    "response = requests.get(url, headers = headers)\n",
    "response.raise_for_status"
   ]
  },
  {
   "cell_type": "code",
   "execution_count": null,
   "id": "b28a5e27",
   "metadata": {},
   "outputs": [],
   "source": [
    "response.text[:100]"
   ]
  },
  {
   "cell_type": "code",
   "execution_count": null,
   "id": "afde9a40",
   "metadata": {},
   "outputs": [],
   "source": [
    "html = lx.fromstring(response.text) # Parse the HTML\n",
    "html"
   ]
  },
  {
   "cell_type": "code",
   "execution_count": null,
   "id": "ab65eb5a",
   "metadata": {},
   "outputs": [],
   "source": [
    "html.xpath('//section[@class=\"sidebar__section\"][h2[contains(text(), \"In Season\")]]/text()')[1]"
   ]
  },
  {
   "cell_type": "code",
   "execution_count": null,
   "id": "35790d07",
   "metadata": {},
   "outputs": [],
   "source": [
    "string = html.xpath('//section[@class=\"sidebar__section\"][h2[contains(text(), \"In Season\")]]/text()')[1]\n",
    "string"
   ]
  },
  {
   "cell_type": "code",
   "execution_count": null,
   "id": "a5c867ce",
   "metadata": {},
   "outputs": [],
   "source": [
    "from re import sub\n",
    "sub(r'\\W', ' ', string).split() # we are going to talk about RegEx some other time"
   ]
  },
  {
   "cell_type": "code",
   "execution_count": null,
   "id": "a641285d",
   "metadata": {},
   "outputs": [],
   "source": [
    "def get_months(produce): \n",
    "    time.sleep(0.05)\n",
    "    url = \"https://foodwise.org/foods/\" + produce + \"/\"\n",
    "    response = requests.get(url, headers = headers)\n",
    "    response.raise_for_status()\n",
    "    html = lx.fromstring(response.text)\n",
    "    string = html.xpath('//section[@class=\"sidebar__section\"][h2[contains(text(), \"In Season\")]]/text()')[1]\n",
    "    month = sub(r'(In Season)|\\W', ' ', string).split()\n",
    "    return month"
   ]
  },
  {
   "cell_type": "code",
   "execution_count": null,
   "id": "d47a4095",
   "metadata": {},
   "outputs": [],
   "source": [
    "month = get_months('carrots')\n",
    "month "
   ]
  },
  {
   "cell_type": "markdown",
   "id": "9cfd305e",
   "metadata": {},
   "source": [
    "##### How to get the product in the first place? "
   ]
  },
  {
   "cell_type": "code",
   "execution_count": null,
   "id": "00b3bafc",
   "metadata": {},
   "outputs": [],
   "source": [
    "url = 'https://foodwise.org/eat-seasonally/seasonality-charts/'\n",
    "response = requests.get(url, headers = headers)\n",
    "response.raise_for_status()"
   ]
  },
  {
   "cell_type": "code",
   "execution_count": null,
   "id": "dd467d12",
   "metadata": {},
   "outputs": [],
   "source": [
    "html = lx.fromstring(response.text) # Parse the HTML\n",
    "html"
   ]
  },
  {
   "cell_type": "code",
   "execution_count": null,
   "id": "7395de97",
   "metadata": {},
   "outputs": [],
   "source": [
    "produce = html.xpath('//div[@class=\"card-image-title__text-content\"]/h3/text()')\n",
    "produce   "
   ]
  },
  {
   "cell_type": "code",
   "execution_count": null,
   "id": "3a36a741",
   "metadata": {},
   "outputs": [],
   "source": [
    "def get_produce(page):\n",
    "    url = 'https://foodwise.org/eat-seasonally/seasonality-charts/'\n",
    "    response = requests.get(url, headers = headers, params = {\n",
    "        '_food_type': 'vegetable',\n",
    "        '_paged': page\n",
    "    })\n",
    "    response.raise_for_status()\n",
    "    html = lx.fromstring(response.text) # Parse the HTML\n",
    "    produce = html.xpath('//div[@class=\"card-image-title__text-content\"]/h3/text()')\n",
    "    return produce"
   ]
  },
  {
   "cell_type": "code",
   "execution_count": null,
   "id": "34908976",
   "metadata": {},
   "outputs": [],
   "source": [
    "get_produce(1)"
   ]
  },
  {
   "cell_type": "code",
   "execution_count": null,
   "id": "c331b989",
   "metadata": {
    "scrolled": true
   },
   "outputs": [],
   "source": [
    "produce = [item for sublist in [get_produce(i) for i in range(1,5)] for item in sublist]\n",
    "produce"
   ]
  },
  {
   "cell_type": "markdown",
   "id": "9cfba471",
   "metadata": {},
   "source": [
    "##### Iterate over produce items"
   ]
  },
  {
   "cell_type": "code",
   "execution_count": null,
   "id": "0e612b64",
   "metadata": {},
   "outputs": [],
   "source": [
    "year = ['January', 'February', 'March', 'April', 'May', 'June', 'July', 'August', 'September', \n",
    "        'October', 'November', 'December']"
   ]
  },
  {
   "cell_type": "code",
   "execution_count": null,
   "id": "82385686",
   "metadata": {},
   "outputs": [],
   "source": [
    "month = get_months('Tatsoi')"
   ]
  },
  {
   "cell_type": "code",
   "execution_count": null,
   "id": "7aab59f0",
   "metadata": {},
   "outputs": [],
   "source": [
    "month"
   ]
  },
  {
   "cell_type": "code",
   "execution_count": null,
   "id": "a5127bc1",
   "metadata": {
    "scrolled": true
   },
   "outputs": [],
   "source": [
    "d = {'Produce': 'Tatsoi'}\n",
    "d.update({item: True if item in month else False for item in year})\n",
    "d"
   ]
  },
  {
   "cell_type": "code",
   "execution_count": null,
   "id": "bff419a9",
   "metadata": {},
   "outputs": [],
   "source": [
    "def assemble_row(produce): \n",
    "    print(produce)\n",
    "    month = get_months(produce)\n",
    "    d = {'Produce': produce}\n",
    "    d.update({item: True if item in month else False for item in year})\n",
    "    return d"
   ]
  },
  {
   "cell_type": "code",
   "execution_count": null,
   "id": "4312712e",
   "metadata": {},
   "outputs": [],
   "source": [
    "assemble_row(\"Tatsoi\")"
   ]
  },
  {
   "cell_type": "code",
   "execution_count": null,
   "id": "100811ac",
   "metadata": {},
   "outputs": [],
   "source": [
    "import pandas as pd"
   ]
  },
  {
   "cell_type": "code",
   "execution_count": null,
   "id": "fdb728b4",
   "metadata": {},
   "outputs": [],
   "source": [
    "pd.DataFrame([assemble_row(p) for p in produce[:3]])"
   ]
  },
  {
   "cell_type": "code",
   "execution_count": null,
   "id": "40a66ae7",
   "metadata": {},
   "outputs": [],
   "source": [
    "produce[:3]"
   ]
  },
  {
   "cell_type": "code",
   "execution_count": null,
   "id": "b518968f",
   "metadata": {
    "scrolled": false
   },
   "outputs": [],
   "source": [
    "df = [assemble_row(i) for i in produce] # runs for 45 secs"
   ]
  },
  {
   "cell_type": "code",
   "execution_count": null,
   "id": "d8b2c1f2",
   "metadata": {},
   "outputs": [],
   "source": [
    "def get_months(produce): \n",
    "    time.sleep(0.05)\n",
    "    url = \"https://foodwise.org/foods/\" + produce + \"/\"\n",
    "    response = requests.get(url, headers = headers)\n",
    "    response.raise_for_status()\n",
    "    html = lx.fromstring(response.text)\n",
    "    try: \n",
    "        string = html.xpath('//section[@class=\"sidebar__section\"][h2[contains(text(), \"In Season\")]]/text()')[1]\n",
    "        month = sub(r'(In Season)|\\W', ' ', string).split() \n",
    "    except:\n",
    "        month = []\n",
    "    return month"
   ]
  },
  {
   "cell_type": "code",
   "execution_count": null,
   "id": "8044286a",
   "metadata": {
    "scrolled": true
   },
   "outputs": [],
   "source": [
    "[assemble_row(i) for i in produce]"
   ]
  },
  {
   "cell_type": "markdown",
   "id": "bc30c56c",
   "metadata": {},
   "source": [
    "Try to catch the error, or check what happened! "
   ]
  },
  {
   "cell_type": "code",
   "execution_count": null,
   "id": "7544ccad",
   "metadata": {},
   "outputs": [],
   "source": [
    "# Not run! \n",
    "def get_months(produce): \n",
    "    time.sleep(0.05)\n",
    "    url = \"https://foodwise.org/foods/\" + produce + \"/\"\n",
    "    response = requests.get(url, headers = headers)\n",
    "    try: response.raise_for_status()\n",
    "    except requests.HTTPError:\n",
    "        month = []\n",
    "        return month \n",
    "    else:\n",
    "        html = lx.fromstring(response.text)\n",
    "        try: \n",
    "            string = html.xpath('//section[@class=\"sidebar__section\"][h2[contains(text(), \"In Season\")]]/text()')[1]\n",
    "            month = sub(r'(In Season)|\\W', ' ', string).split() \n",
    "        except:\n",
    "            month = []\n",
    "            return month \n",
    "        return month"
   ]
  },
  {
   "cell_type": "markdown",
   "id": "fefe1f58",
   "metadata": {},
   "source": [
    "We have to account for new links.... Retrieve the `href` attribute from the anchor."
   ]
  },
  {
   "cell_type": "code",
   "execution_count": null,
   "id": "a2fcf422",
   "metadata": {},
   "outputs": [],
   "source": [
    "url = 'https://foodwise.org/eat-seasonally/seasonality-charts/?_food_type=vegetable&_paged=3' #try page 3,4\n",
    "response = requests.get(url, headers = headers)\n",
    "response.raise_for_status()\n",
    "html = lx.fromstring(response.text) # Parse the HTML\n",
    "produce = html.xpath('//article[@class=\"card-image-title__container\"]/a/@href') #returns href attribute of anchor link\n",
    "produce"
   ]
  },
  {
   "cell_type": "code",
   "execution_count": null,
   "id": "33ce82c2",
   "metadata": {},
   "outputs": [],
   "source": [
    "def get_url(i):\n",
    "    url = 'https://foodwise.org/eat-seasonally/seasonality-charts/?_food_type=vegetable&_paged=' + str(i)\n",
    "    response = requests.get(url, headers = headers)\n",
    "    response.raise_for_status()\n",
    "    html = lx.fromstring(response.text) # Parse the HTML\n",
    "    #returns href attribute of anchor link\n",
    "    produce_link = html.xpath('//article[@class=\"card-image-title__container\"]/a/@href') \n",
    "    return produce_link"
   ]
  },
  {
   "cell_type": "code",
   "execution_count": null,
   "id": "1dbdf34d",
   "metadata": {
    "scrolled": true
   },
   "outputs": [],
   "source": [
    "produce_links = [item for sublist in [get_url(i) for i in range(1,5)] for item in sublist]\n",
    "produce_links"
   ]
  },
  {
   "cell_type": "markdown",
   "id": "e91a9ba2",
   "metadata": {},
   "source": [
    "Lets find the (new) produce name from its site. "
   ]
  },
  {
   "cell_type": "code",
   "execution_count": null,
   "id": "d52f9047",
   "metadata": {},
   "outputs": [],
   "source": [
    "result = requests.get('https://foodwise.org/foods/peppers-chile/', headers = headers)\n",
    "result.raise_for_status()"
   ]
  },
  {
   "cell_type": "code",
   "execution_count": null,
   "id": "71680b2f",
   "metadata": {},
   "outputs": [],
   "source": [
    "html = lx.fromstring(result.text)"
   ]
  },
  {
   "cell_type": "code",
   "execution_count": null,
   "id": "481e3553",
   "metadata": {},
   "outputs": [],
   "source": [
    "html.xpath(\"//h1/text()\")[0]"
   ]
  },
  {
   "cell_type": "code",
   "execution_count": null,
   "id": "9a3dbf7a",
   "metadata": {},
   "outputs": [],
   "source": [
    "def get_months(produce_link): \n",
    "    time.sleep(0.05)\n",
    "    response = requests.get(produce_link, headers = headers)\n",
    "    html = lx.fromstring(response.text)\n",
    "    try: \n",
    "        string = html.xpath('//section[@class=\"sidebar__section\"][h2[contains(text(), \"In Season\")]]/text()')[1]\n",
    "    except:\n",
    "          return [None, []] \n",
    "    else: \n",
    "        month = sub(r'(In Season)|\\W', ' ', string).split() \n",
    "        name = html.xpath(\"//h1/text()\")[0]\n",
    "        return [name, month]"
   ]
  },
  {
   "cell_type": "code",
   "execution_count": null,
   "id": "55e9f25b",
   "metadata": {},
   "outputs": [],
   "source": [
    "get_months('https://foodwise.org/foods/nettles/')"
   ]
  },
  {
   "cell_type": "code",
   "execution_count": null,
   "id": "36f41ced",
   "metadata": {},
   "outputs": [],
   "source": [
    "def assemble_row(produce_link): \n",
    "    name, month = get_months(produce_link)\n",
    "    d = {'Produce': name}\n",
    "    d.update({item: True if item in month else False for item in year})\n",
    "    return d"
   ]
  },
  {
   "cell_type": "code",
   "execution_count": null,
   "id": "5dabe684",
   "metadata": {},
   "outputs": [],
   "source": [
    "assemble_row('https://foodwise.org/foods/nettles/')"
   ]
  },
  {
   "cell_type": "code",
   "execution_count": null,
   "id": "01376b80",
   "metadata": {},
   "outputs": [],
   "source": [
    "df = [assemble_row(i) for i in produce_links] \n",
    "df"
   ]
  },
  {
   "cell_type": "code",
   "execution_count": null,
   "id": "cb2dc76f",
   "metadata": {},
   "outputs": [],
   "source": [
    "tbl = pd.DataFrame(df)\n",
    "tbl.shape"
   ]
  },
  {
   "cell_type": "code",
   "execution_count": null,
   "id": "f1270a35",
   "metadata": {},
   "outputs": [],
   "source": [
    "tbl.head()"
   ]
  },
  {
   "cell_type": "code",
   "execution_count": null,
   "id": "700ca94d",
   "metadata": {},
   "outputs": [],
   "source": [
    "tbl.set_index(\"Produce\")"
   ]
  },
  {
   "cell_type": "markdown",
   "id": "83a370b6",
   "metadata": {},
   "source": [
    "### Tornado Watch \n",
    "\n",
    "We are interested in scraping and plotting the locations of all tornado warnings in the last 48 hours. "
   ]
  },
  {
   "cell_type": "code",
   "execution_count": null,
   "id": "02f14b1c",
   "metadata": {},
   "outputs": [],
   "source": [
    "import requests\n",
    "import lxml.html as lx\n",
    "import time\n",
    "import pandas as pd"
   ]
  },
  {
   "cell_type": "code",
   "execution_count": null,
   "id": "c0c86b69",
   "metadata": {},
   "outputs": [],
   "source": [
    "result = requests.get('https://www.tornadohq.com/')\n",
    "result.raise_for_status"
   ]
  },
  {
   "cell_type": "code",
   "execution_count": null,
   "id": "b04be05a",
   "metadata": {},
   "outputs": [],
   "source": [
    "html = lx.fromstring(result.text) # Parse the HTML"
   ]
  },
  {
   "cell_type": "code",
   "execution_count": null,
   "id": "96dc258d",
   "metadata": {
    "scrolled": true
   },
   "outputs": [],
   "source": [
    "warnings = html.xpath('//pre')\n",
    "warnings"
   ]
  },
  {
   "cell_type": "code",
   "execution_count": null,
   "id": "e4cc0903",
   "metadata": {},
   "outputs": [],
   "source": [
    "warning = warnings[0].text\n",
    "warning"
   ]
  },
  {
   "cell_type": "markdown",
   "id": "5dbd3aa2",
   "metadata": {},
   "source": [
    "Lets match the latitude-longitude pair after `LAT...LON`. "
   ]
  },
  {
   "cell_type": "code",
   "execution_count": null,
   "id": "80aee95b",
   "metadata": {},
   "outputs": [],
   "source": [
    "from re import findall"
   ]
  },
  {
   "cell_type": "code",
   "execution_count": null,
   "id": "5d773ce3",
   "metadata": {},
   "outputs": [],
   "source": [
    "findall('(?<=LAT\\.{3}LON\\s)(\\d+\\s\\d+)', warning)[0].split()"
   ]
  },
  {
   "cell_type": "markdown",
   "id": "d2377fbb",
   "metadata": {},
   "source": [
    "Rename the coordinates in readable format. "
   ]
  },
  {
   "cell_type": "code",
   "execution_count": null,
   "id": "931de12d",
   "metadata": {},
   "outputs": [],
   "source": [
    "coord_list = [findall('(?<=LAT\\.{3}LON\\s)(\\d+\\s\\d+)', warning.text)[0].split() for warning in warnings]"
   ]
  },
  {
   "cell_type": "code",
   "execution_count": null,
   "id": "e500fc0c",
   "metadata": {},
   "outputs": [],
   "source": [
    "coord = pd.DataFrame(coord_list)\n",
    "coord.columns = ['N', 'W']\n",
    "coord = coord.applymap(lambda x: float(x) / 100) # convert location in readable format\n",
    "coord['W'] = -coord['W'] # longitude to west is negative\n",
    "coord.head()"
   ]
  },
  {
   "cell_type": "markdown",
   "id": "e877858d",
   "metadata": {},
   "source": [
    "Plot the results (consider a [mapbox token](https://studio.mapbox.com/) to plot.)!"
   ]
  },
  {
   "cell_type": "code",
   "execution_count": null,
   "id": "069301ab",
   "metadata": {},
   "outputs": [],
   "source": [
    "import plotly.express as px\n",
    "import geopandas as gpd\n",
    "\n",
    "px.set_mapbox_access_token(open(\"./../keys/mapbox.txt\").read())\n",
    "fig = px.scatter_mapbox(coord,\n",
    "                        lat='N',\n",
    "                        lon='W',\n",
    "                        zoom=4)\n",
    "fig.show()"
   ]
  },
  {
   "cell_type": "markdown",
   "id": "8b0ce34c",
   "metadata": {},
   "source": [
    "### Summary \n",
    "\n",
    "- Scraping does not necessarily return the desired, make use of error handling \n",
    "- Make use of the advantages of devtools to see how the website is structured"
   ]
  }
 ],
 "metadata": {
  "kernelspec": {
   "display_name": "Python 3 (ipykernel)",
   "language": "python",
   "name": "python3"
  },
  "language_info": {
   "codemirror_mode": {
    "name": "ipython",
    "version": 3
   },
   "file_extension": ".py",
   "mimetype": "text/x-python",
   "name": "python",
   "nbconvert_exporter": "python",
   "pygments_lexer": "ipython3",
   "version": "3.9.12"
  }
 },
 "nbformat": 4,
 "nbformat_minor": 5
}
