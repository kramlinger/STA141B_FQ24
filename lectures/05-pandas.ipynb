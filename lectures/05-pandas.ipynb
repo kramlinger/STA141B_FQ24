{
 "cells": [
  {
   "cell_type": "markdown",
   "id": "ff704263",
   "metadata": {
    "slideshow": {
     "slide_type": "slide"
    }
   },
   "source": [
    "# STA 141B Data & Web Technologies for Data Analysis\n",
    "\n",
    "### Lecture 6, 10/17/24, Pandas\n"
   ]
  },
  {
   "cell_type": "markdown",
   "id": "d720fbd5",
   "metadata": {
    "slideshow": {
     "slide_type": "slide"
    }
   },
   "source": [
    "### Announcements\n",
    "\n",
    "- Homework 2 is due this Sunday, 11:59 PM. \n",
    "- Midterm next week on Thursday, Oct 17. Sample exam is online. "
   ]
  },
  {
   "cell_type": "markdown",
   "id": "229980e2",
   "metadata": {},
   "source": [
    "### Today's topics\n",
    "\n",
    " - Pandas\n",
    " \n",
    "### Data Sets\n",
    "\n",
    " - `dogs_full.csv`\n",
    " - `fluidmilk.xlsx`\n",
    "\n",
    "### References\n",
    "\n",
    " - Python for Data Analysis, Ch. 5, 10\n",
    " - [Python Data Science Handbook](https://jakevdp.github.io/PythonDataScienceHandbook/), Ch. 3"
   ]
  },
  {
   "cell_type": "markdown",
   "id": "213dd869",
   "metadata": {
    "slideshow": {
     "slide_type": "slide"
    }
   },
   "source": [
    "## Pandas\n",
    "\n",
    "Pandas is a Python package that provides tools for manipulating tabular data. The name \"pandas\" is short for \"**PAN**el **DA**ta\", an econometrics term. Since we're using Anaconda, Pandas is already installed.\n",
    "\n",
    "Pandas is documented [here](http://pandas.pydata.org/pandas-docs/stable/)."
   ]
  },
  {
   "cell_type": "code",
   "execution_count": null,
   "id": "3677019a",
   "metadata": {},
   "outputs": [],
   "source": [
    "import pandas as pd"
   ]
  },
  {
   "cell_type": "markdown",
   "id": "57b1eefd",
   "metadata": {
    "slideshow": {
     "slide_type": "slide"
    }
   },
   "source": [
    "### Series\n",
    "\n",
    "A Pandas Series a one-dimensional labeled array capable of holding data of any type (integer, string, float, python objects, etc.). It is a generalization of a NumPy array.\n",
    "\n",
    "In addition to elements, every series includes an <b>index</b>."
   ]
  },
  {
   "cell_type": "code",
   "execution_count": null,
   "id": "8caa7520",
   "metadata": {},
   "outputs": [],
   "source": [
    "x = pd.Series([1, 2, 3])\n",
    "type(x)"
   ]
  },
  {
   "cell_type": "code",
   "execution_count": null,
   "id": "e1d4a627",
   "metadata": {},
   "outputs": [],
   "source": [
    "x"
   ]
  },
  {
   "cell_type": "code",
   "execution_count": null,
   "id": "bae4bed9",
   "metadata": {},
   "outputs": [],
   "source": [
    "x = pd.Series([1,2,3], index = [\"a\", \"b\", \"c\"])\n",
    "x"
   ]
  },
  {
   "cell_type": "markdown",
   "id": "651274c4",
   "metadata": {
    "slideshow": {
     "slide_type": "subslide"
    }
   },
   "source": [
    "A series can be indexed in all of the same ways as a NumPy array, but also by index values. This means a series can also be used like an ordered dictionary (although its keys are not unique). "
   ]
  },
  {
   "cell_type": "code",
   "execution_count": null,
   "id": "4966ec8d",
   "metadata": {},
   "outputs": [],
   "source": [
    "x[0]"
   ]
  },
  {
   "cell_type": "code",
   "execution_count": null,
   "id": "d706119f",
   "metadata": {},
   "outputs": [],
   "source": [
    "x[0:1]"
   ]
  },
  {
   "cell_type": "code",
   "execution_count": null,
   "id": "f0165a5b",
   "metadata": {},
   "outputs": [],
   "source": [
    "x[\"a\"]"
   ]
  },
  {
   "cell_type": "code",
   "execution_count": null,
   "id": "3217645e",
   "metadata": {
    "slideshow": {
     "slide_type": "subslide"
    }
   },
   "outputs": [],
   "source": [
    "x[\"a\":\"b\"]"
   ]
  },
  {
   "cell_type": "code",
   "execution_count": null,
   "id": "55b129f3",
   "metadata": {},
   "outputs": [],
   "source": [
    "x[\"b\":\"a\"]"
   ]
  },
  {
   "cell_type": "code",
   "execution_count": null,
   "id": "533293b9",
   "metadata": {
    "slideshow": {
     "slide_type": "subslide"
    }
   },
   "outputs": [],
   "source": [
    "x = pd.Series([1,2,3], index = [\"c\", \"b\", \"a\"])\n",
    "x"
   ]
  },
  {
   "cell_type": "code",
   "execution_count": null,
   "id": "bd5f132c",
   "metadata": {},
   "outputs": [],
   "source": [
    "x[\"a\":\"b\"]"
   ]
  },
  {
   "cell_type": "code",
   "execution_count": null,
   "id": "81b205cd",
   "metadata": {
    "scrolled": true
   },
   "outputs": [],
   "source": [
    "x[\"c\":\"b\"]"
   ]
  },
  {
   "cell_type": "code",
   "execution_count": null,
   "id": "4efa7e4f",
   "metadata": {},
   "outputs": [],
   "source": [
    "x = pd.Series([1,2,3], index = [\"c\", \"a\", \"b\"])\n",
    "x[\"c\":\"b\"]"
   ]
  },
  {
   "cell_type": "code",
   "execution_count": null,
   "id": "644dfea5",
   "metadata": {},
   "outputs": [],
   "source": [
    "x = pd.Series([1,2,3], index = [\"c\", \"a\", \"a\"])\n",
    "x[\"c\":\"a\"]"
   ]
  },
  {
   "cell_type": "markdown",
   "id": "64099d66",
   "metadata": {
    "slideshow": {
     "slide_type": "subslide"
    }
   },
   "source": [
    "A series may have integer indices as well. "
   ]
  },
  {
   "cell_type": "code",
   "execution_count": null,
   "id": "ca5ca87b",
   "metadata": {},
   "outputs": [],
   "source": [
    "x = pd.Series([1, 2, 3], index = [10, 12, 14])\n",
    "x"
   ]
  },
  {
   "cell_type": "markdown",
   "id": "99cc6dbb",
   "metadata": {
    "slideshow": {
     "slide_type": "subslide"
    }
   },
   "source": [
    "For a indexing series (and as we'll see later, also data frames):\n",
    "\n",
    "* `[ ]` is by position, name, or condition. **Exception:** for an integer index it's by name or condition only.\n",
    "* `.iloc[ ]` is by position\n",
    "* `.loc[ ]` is by name or condition"
   ]
  },
  {
   "cell_type": "code",
   "execution_count": null,
   "id": "7c5c26ef",
   "metadata": {},
   "outputs": [],
   "source": [
    "y = pd.Series([1,2,3])\n",
    "z = y[1:3]\n",
    "z"
   ]
  },
  {
   "cell_type": "code",
   "execution_count": null,
   "id": "d1c11512",
   "metadata": {},
   "outputs": [],
   "source": [
    "z[1]"
   ]
  },
  {
   "cell_type": "code",
   "execution_count": null,
   "id": "447108ff",
   "metadata": {},
   "outputs": [],
   "source": [
    "y.iloc[0]"
   ]
  },
  {
   "cell_type": "code",
   "execution_count": null,
   "id": "bb166266",
   "metadata": {},
   "outputs": [],
   "source": [
    "y.loc[1]"
   ]
  },
  {
   "cell_type": "code",
   "execution_count": null,
   "id": "fc03df51",
   "metadata": {
    "slideshow": {
     "slide_type": "subslide"
    }
   },
   "outputs": [],
   "source": [
    "z = pd.Series([1, 2, 3, 4], index = [3j, 2j, 1j, -1j])\n",
    "z"
   ]
  },
  {
   "cell_type": "code",
   "execution_count": null,
   "id": "e5b2d38b",
   "metadata": {},
   "outputs": [],
   "source": [
    "z[3j]"
   ]
  },
  {
   "cell_type": "code",
   "execution_count": null,
   "id": "1cbc0fb0",
   "metadata": {},
   "outputs": [],
   "source": [
    "z.loc[-1j]"
   ]
  },
  {
   "cell_type": "code",
   "execution_count": null,
   "id": "da1260aa",
   "metadata": {},
   "outputs": [],
   "source": [
    "z.index"
   ]
  },
  {
   "cell_type": "markdown",
   "id": "c6903d98",
   "metadata": {
    "slideshow": {
     "slide_type": "slide"
    }
   },
   "source": [
    "### Data Frames\n",
    "\n",
    "A data frame is a table or a two-dimensional array-like structure in which each column contains values of one variable and each row contains one set of values from each column.\n",
    "\n",
    "It represents tabular data as a collection of Series."
   ]
  },
  {
   "cell_type": "code",
   "execution_count": null,
   "id": "6d0f8b3e",
   "metadata": {},
   "outputs": [],
   "source": [
    "df = pd.DataFrame({\"x\": [1, 2, 3], \"y\": [\"a\", \"b\", \"c\"]})\n",
    "df"
   ]
  },
  {
   "cell_type": "markdown",
   "id": "ac720ae6",
   "metadata": {
    "slideshow": {
     "slide_type": "subslide"
    }
   },
   "source": [
    "Data frames support the similar indexing methods as series. However, for indexing with `[ ]`,\n",
    "\n",
    "* Scalar values get columns by name\n",
    "* Conditions or slices get rows"
   ]
  },
  {
   "cell_type": "code",
   "execution_count": null,
   "id": "68997c04",
   "metadata": {},
   "outputs": [],
   "source": [
    "df.iloc[0,0]"
   ]
  },
  {
   "cell_type": "code",
   "execution_count": null,
   "id": "ba70a40f",
   "metadata": {},
   "outputs": [],
   "source": [
    "df[0:1]"
   ]
  },
  {
   "cell_type": "code",
   "execution_count": null,
   "id": "d69bfe07",
   "metadata": {},
   "outputs": [],
   "source": [
    "df[\"y\"]"
   ]
  },
  {
   "cell_type": "code",
   "execution_count": null,
   "id": "11726153",
   "metadata": {
    "scrolled": true,
    "slideshow": {
     "slide_type": "subslide"
    }
   },
   "outputs": [],
   "source": [
    "df['x']"
   ]
  },
  {
   "cell_type": "code",
   "execution_count": null,
   "id": "4d69b339",
   "metadata": {},
   "outputs": [],
   "source": [
    "df.iloc[0]"
   ]
  },
  {
   "cell_type": "code",
   "execution_count": null,
   "id": "0c5a7805",
   "metadata": {
    "scrolled": true
   },
   "outputs": [],
   "source": [
    "df "
   ]
  },
  {
   "cell_type": "code",
   "execution_count": null,
   "id": "7b5e0ca8",
   "metadata": {
    "slideshow": {
     "slide_type": "subslide"
    }
   },
   "outputs": [],
   "source": [
    "df.loc[:,\"x\"] "
   ]
  },
  {
   "cell_type": "code",
   "execution_count": null,
   "id": "b4220c63",
   "metadata": {},
   "outputs": [],
   "source": [
    "df[df[\"x\"] > 2] # more conventient "
   ]
  },
  {
   "cell_type": "code",
   "execution_count": null,
   "id": "ae12d0ff",
   "metadata": {},
   "outputs": [],
   "source": [
    "df.loc[df['x'] > 2,:]  # more principled (?)"
   ]
  },
  {
   "cell_type": "markdown",
   "id": "3164330f",
   "metadata": {
    "slideshow": {
     "slide_type": "-"
    }
   },
   "source": [
    "Since we are subsetting a DataFrame, a DataFrame is returned. "
   ]
  },
  {
   "cell_type": "code",
   "execution_count": null,
   "id": "329bceb2",
   "metadata": {
    "slideshow": {
     "slide_type": "subslide"
    }
   },
   "outputs": [],
   "source": [
    "df.shape"
   ]
  },
  {
   "cell_type": "code",
   "execution_count": null,
   "id": "06823a46",
   "metadata": {},
   "outputs": [],
   "source": [
    "df.size"
   ]
  },
  {
   "cell_type": "code",
   "execution_count": null,
   "id": "42664fe1",
   "metadata": {},
   "outputs": [],
   "source": [
    "type(df)"
   ]
  },
  {
   "cell_type": "code",
   "execution_count": null,
   "id": "232f67b4",
   "metadata": {},
   "outputs": [],
   "source": [
    "df.dtypes"
   ]
  },
  {
   "cell_type": "markdown",
   "id": "36058be7",
   "metadata": {},
   "source": [
    "More indexing and selection data using pandas can be found [here](https://pandas.pydata.org/pandas-docs/stable/user_guide/indexing.html#indexing-slicing-with-labels)"
   ]
  },
  {
   "cell_type": "markdown",
   "id": "3c3f429c",
   "metadata": {
    "slideshow": {
     "slide_type": "slide"
    }
   },
   "source": [
    "### Missing Data\n",
    "\n",
    "Pandas represents missing data with `NaN` and `None`, but these values do not exclusively mean missing data. For instance, `NaN` stands for \"Not a Number\" and is also the result of undefined computations. Pay attention to your data and code to determine whether values are missing or have some other meaning.\n",
    "\n",
    "You can create `NaN` values with NumPy."
   ]
  },
  {
   "cell_type": "code",
   "execution_count": null,
   "id": "c2004230",
   "metadata": {},
   "outputs": [],
   "source": [
    "import numpy as np \n",
    "np.nan"
   ]
  },
  {
   "cell_type": "code",
   "execution_count": null,
   "id": "8be4c47c",
   "metadata": {
    "slideshow": {
     "slide_type": "-"
    }
   },
   "outputs": [],
   "source": [
    "df = pd.DataFrame({\"x\": [1, np.nan, 2], \"y\": np.arange(3), \"z\": [\"x\", \"y\", None]})\n",
    "df"
   ]
  },
  {
   "cell_type": "markdown",
   "id": "deef4b70",
   "metadata": {
    "slideshow": {
     "slide_type": "subslide"
    }
   },
   "source": [
    "Use the `.isna()` or `.isnull()` methods to detect missing values."
   ]
  },
  {
   "cell_type": "code",
   "execution_count": null,
   "id": "5ae6e719",
   "metadata": {},
   "outputs": [],
   "source": [
    "df.isna()"
   ]
  },
  {
   "cell_type": "code",
   "execution_count": null,
   "id": "55c56138",
   "metadata": {},
   "outputs": [],
   "source": [
    "df.isnull()"
   ]
  },
  {
   "cell_type": "code",
   "execution_count": null,
   "id": "6437e9cb",
   "metadata": {
    "slideshow": {
     "slide_type": "subslide"
    }
   },
   "outputs": [],
   "source": [
    "df"
   ]
  },
  {
   "cell_type": "code",
   "execution_count": null,
   "id": "ac17421f",
   "metadata": {
    "slideshow": {
     "slide_type": "subslide"
    }
   },
   "outputs": [],
   "source": [
    "df.info()"
   ]
  },
  {
   "cell_type": "code",
   "execution_count": null,
   "id": "6652964f",
   "metadata": {
    "slideshow": {
     "slide_type": "subslide"
    }
   },
   "outputs": [],
   "source": [
    "df"
   ]
  },
  {
   "cell_type": "code",
   "execution_count": null,
   "id": "1fbc921a",
   "metadata": {
    "slideshow": {
     "slide_type": "subslide"
    }
   },
   "outputs": [],
   "source": [
    "(~df.isna()).sum().sum()"
   ]
  },
  {
   "cell_type": "code",
   "execution_count": null,
   "id": "a19c09ee",
   "metadata": {},
   "outputs": [],
   "source": [
    "df.isna().sum().sum() # how many are not missing"
   ]
  },
  {
   "cell_type": "code",
   "execution_count": null,
   "id": "6bc3c249",
   "metadata": {},
   "outputs": [],
   "source": [
    "df.sum().sum()"
   ]
  },
  {
   "cell_type": "markdown",
   "id": "53463314",
   "metadata": {},
   "source": [
    "Lets deal with this warning. "
   ]
  },
  {
   "cell_type": "code",
   "execution_count": null,
   "id": "872f836e",
   "metadata": {
    "scrolled": true
   },
   "outputs": [],
   "source": [
    "df.sum(numeric_only=True).sum()"
   ]
  },
  {
   "cell_type": "markdown",
   "id": "07aedde1",
   "metadata": {
    "slideshow": {
     "slide_type": "slide"
    }
   },
   "source": [
    "### Data Alignment\n",
    "\n",
    "Pandas supports vectorized operations, but elements are <b>automatically</b> aligned by index. **Beware!!** This is a major difference compared to R."
   ]
  },
  {
   "cell_type": "code",
   "execution_count": null,
   "id": "467dfb5b",
   "metadata": {},
   "outputs": [],
   "source": [
    "x = pd.Series([1, 2, 3], index = [\"a\", \"b\", \"c\"])\n",
    "y = pd.Series([1, 2, 3], index = [\"b\", \"a\", \"c\"])\n",
    "x"
   ]
  },
  {
   "cell_type": "code",
   "execution_count": null,
   "id": "4a1106f2",
   "metadata": {},
   "outputs": [],
   "source": [
    "y"
   ]
  },
  {
   "cell_type": "code",
   "execution_count": null,
   "id": "1d78884e",
   "metadata": {},
   "outputs": [],
   "source": [
    "x * y"
   ]
  },
  {
   "cell_type": "markdown",
   "id": "660bc912",
   "metadata": {
    "slideshow": {
     "slide_type": "subslide"
    }
   },
   "source": [
    "You can use the `.reset_index()` method to reset the indexes on a series or data frame. Watch out: The method returns a new DataFrame, but does not overwrite the old object. "
   ]
  },
  {
   "cell_type": "code",
   "execution_count": null,
   "id": "d4f60471",
   "metadata": {},
   "outputs": [],
   "source": [
    "x.reset_index().reset_index()# keep old index as a new column"
   ]
  },
  {
   "cell_type": "code",
   "execution_count": null,
   "id": "9cd8ab1d",
   "metadata": {},
   "outputs": [],
   "source": [
    "df.reset_index()"
   ]
  },
  {
   "cell_type": "code",
   "execution_count": null,
   "id": "bb644e12",
   "metadata": {},
   "outputs": [],
   "source": [
    "y.reset_index(drop = True) # throw away the old index"
   ]
  },
  {
   "cell_type": "markdown",
   "id": "7c9ad69d",
   "metadata": {
    "slideshow": {
     "slide_type": "slide"
    }
   },
   "source": [
    "### Reading Data\n",
    "\n",
    "Pandas provides functions for reading (and writing) a variety of common formats. Most of their names begin with `read_`. For instance, we can read the dogs data from a CSV file:"
   ]
  },
  {
   "cell_type": "code",
   "execution_count": null,
   "id": "68bcd845",
   "metadata": {},
   "outputs": [],
   "source": [
    "dogs = pd.read_csv(\"../data/dogs_full.csv\")"
   ]
  },
  {
   "cell_type": "code",
   "execution_count": null,
   "id": "c533e4e1",
   "metadata": {
    "scrolled": false
   },
   "outputs": [],
   "source": [
    "dogs.head()"
   ]
  },
  {
   "cell_type": "markdown",
   "id": "d1ca3756",
   "metadata": {
    "slideshow": {
     "slide_type": "slide"
    }
   },
   "source": [
    "### Inspecting Data\n",
    "\n",
    "Series and data frames provide many of the same methods and attributes as NumPy arrays."
   ]
  },
  {
   "cell_type": "markdown",
   "id": "d327cf62",
   "metadata": {},
   "source": [
    "For a data frame, the `.dtypes` attribute gives the column types.\n",
    "\n",
    "The type \"object\" means some non-numeric Python object, often a string."
   ]
  },
  {
   "cell_type": "code",
   "execution_count": null,
   "id": "8be4e952",
   "metadata": {},
   "outputs": [],
   "source": [
    "dogs.dtypes"
   ]
  },
  {
   "cell_type": "markdown",
   "id": "f0b82c57",
   "metadata": {
    "slideshow": {
     "slide_type": "subslide"
    }
   },
   "source": [
    "There are also several methods for quickly summarizing data."
   ]
  },
  {
   "cell_type": "code",
   "execution_count": null,
   "id": "1f10be24",
   "metadata": {},
   "outputs": [],
   "source": [
    "dogs.describe()"
   ]
  },
  {
   "cell_type": "markdown",
   "id": "e50d84d4",
   "metadata": {
    "slideshow": {
     "slide_type": "subslide"
    }
   },
   "source": [
    "First, get the string columns (`object`), then describe"
   ]
  },
  {
   "cell_type": "code",
   "execution_count": null,
   "id": "38967214",
   "metadata": {},
   "outputs": [],
   "source": [
    "dogs.select_dtypes(include = [\"object\"]).describe()"
   ]
  },
  {
   "cell_type": "code",
   "execution_count": null,
   "id": "f6d6bdf4",
   "metadata": {
    "slideshow": {
     "slide_type": "subslide"
    }
   },
   "outputs": [],
   "source": [
    "dogs.select_dtypes(include = [\"int64\"]).describe()"
   ]
  },
  {
   "cell_type": "markdown",
   "id": "7622994e",
   "metadata": {
    "slideshow": {
     "slide_type": "slide"
    }
   },
   "source": [
    "### Aggregation\n",
    "\n",
    "Pandas also provides several methods for aggregating data, such as `.mean()`, `.median()`, `.std()`, and `.value_counts()`. They ignore missing values by default."
   ]
  },
  {
   "cell_type": "code",
   "execution_count": null,
   "id": "716f7ee4",
   "metadata": {},
   "outputs": [],
   "source": [
    "dogs.median(numeric_only=True)"
   ]
  },
  {
   "cell_type": "code",
   "execution_count": null,
   "id": "cf79f1df",
   "metadata": {
    "slideshow": {
     "slide_type": "subslide"
    }
   },
   "outputs": [],
   "source": [
    "dogs[\"price\"].median()"
   ]
  },
  {
   "cell_type": "code",
   "execution_count": null,
   "id": "3af7cf85",
   "metadata": {},
   "outputs": [],
   "source": [
    "dogs[\"group\"].value_counts() # like R's table() with 1 arg"
   ]
  },
  {
   "cell_type": "markdown",
   "id": "7bc3ad1a",
   "metadata": {
    "slideshow": {
     "slide_type": "subslide"
    }
   },
   "source": [
    "For counting one group against another (crosstabulating), use `pd.crosstab()`."
   ]
  },
  {
   "cell_type": "code",
   "execution_count": null,
   "id": "38b8e9cd",
   "metadata": {},
   "outputs": [],
   "source": [
    "pd.crosstab(dogs[\"group\"], dogs[\"kids\"]) # like R's table() with 2+ arg"
   ]
  },
  {
   "cell_type": "markdown",
   "id": "9f63b92e",
   "metadata": {
    "slideshow": {
     "slide_type": "slide"
    }
   },
   "source": [
    "### Applying Functions\n",
    "\n",
    "You can also use Pandas to apply your own aggregation functions to columns or rows.\n",
    "\n",
    "* `.apply()` applies a function column-by-column or row-by-row.\n",
    "* `.applymap()` applies a function element-by-element.\n",
    "\n",
    "This is another way to vectorizing code, but only works for DataFrame. \n"
   ]
  },
  {
   "cell_type": "code",
   "execution_count": null,
   "id": "d776d49e",
   "metadata": {},
   "outputs": [],
   "source": [
    "def spread(x):\n",
    "    '''Returns spread. Input is a single column (or row)'''\n",
    "    return x.max() - x.min()\n",
    "    \n",
    "dogs.select_dtypes(include = [\"float64\", \"int64\"]).apply(spread)"
   ]
  },
  {
   "cell_type": "markdown",
   "id": "dc50033a",
   "metadata": {
    "slideshow": {
     "slide_type": "slide"
    }
   },
   "source": [
    "### Grouping"
   ]
  },
  {
   "cell_type": "markdown",
   "id": "712150c8",
   "metadata": {},
   "source": [
    "Use the `.groupby()` method to group data before computing aggregate statistics."
   ]
  },
  {
   "cell_type": "code",
   "execution_count": null,
   "id": "5f922682",
   "metadata": {},
   "outputs": [],
   "source": [
    "dogs.head()"
   ]
  },
  {
   "cell_type": "code",
   "execution_count": null,
   "id": "878bd289",
   "metadata": {
    "slideshow": {
     "slide_type": "subslide"
    }
   },
   "outputs": [],
   "source": [
    "dogs.groupby(\"group\").mean(numeric_only=True).reset_index()"
   ]
  },
  {
   "cell_type": "markdown",
   "id": "6a1db5a9",
   "metadata": {
    "slideshow": {
     "slide_type": "subslide"
    }
   },
   "source": [
    "By default, the groups become the index. You can keep them as regular columns by setting `as_index = False` when grouping."
   ]
  },
  {
   "cell_type": "code",
   "execution_count": null,
   "id": "a3ddcedf",
   "metadata": {},
   "outputs": [],
   "source": [
    "dogs.groupby(\"group\", as_index = False).mean(numeric_only=True)"
   ]
  },
  {
   "cell_type": "markdown",
   "id": "7e50e784",
   "metadata": {
    "slideshow": {
     "slide_type": "subslide"
    }
   },
   "source": [
    "You can group by multiple columns."
   ]
  },
  {
   "cell_type": "code",
   "execution_count": null,
   "id": "4031cbd1",
   "metadata": {},
   "outputs": [],
   "source": [
    "dogs.groupby([\"group\", \"kids\"]).mean(numeric_only=True).head()"
   ]
  },
  {
   "cell_type": "markdown",
   "id": "6c671dce",
   "metadata": {
    "slideshow": {
     "slide_type": "subslide"
    }
   },
   "source": [
    "On groups, the `.apply()` method computes group-by-group. It is the most general form of two other methods:\n",
    "\n",
    "* `.agg()`, which applies a function to each group to compute summary statistics\n",
    "* `.transform()`, which applies a function to each group to compute transformations (such as standardization)"
   ]
  },
  {
   "cell_type": "markdown",
   "id": "9076d18e",
   "metadata": {
    "slideshow": {
     "slide_type": "slide"
    }
   },
   "source": [
    "## Tidying a Dataset\n",
    "\n",
    "Do Americans prefer low fat milk over whole milk?\n",
    "\n",
    "The USDA publishes data about dairy production. We can answer the question with the [Milk Sales Dataset](https://www.ers.usda.gov/webdocs/DataFiles/48685/fluidmilk.xlsx?v=5010.6).\n",
    "\n",
    "Many of Python's visualization packages expect [tidy data](https://vita.had.co.nz/papers/tidy-data.pdf), which means:\n",
    "\n",
    "1. Each feature must have its own column.\n",
    "2. Each observation must have its own row.\n",
    "3. Each value must have its own cell.\n",
    "\n",
    "Let's tidy up the Milk Sales Dataset so we can make a line plot that shows how milk sales have changed over time."
   ]
  },
  {
   "cell_type": "code",
   "execution_count": null,
   "id": "69313cb3",
   "metadata": {
    "slideshow": {
     "slide_type": "subslide"
    }
   },
   "outputs": [],
   "source": [
    "import numpy as np\n",
    "import pandas as pd"
   ]
  },
  {
   "cell_type": "code",
   "execution_count": null,
   "id": "41102177",
   "metadata": {
    "scrolled": false
   },
   "outputs": [],
   "source": [
    "milk = pd.read_excel(\"../data/fluidmilk.xlsx\")\n",
    "milk.head()"
   ]
  },
  {
   "cell_type": "code",
   "execution_count": null,
   "id": "2ea8e849",
   "metadata": {
    "scrolled": true,
    "slideshow": {
     "slide_type": "subslide"
    }
   },
   "outputs": [],
   "source": [
    "milk = pd.read_excel(\"../data/fluidmilk.xlsx\", skiprows = 1)\n",
    "milk.head()"
   ]
  },
  {
   "cell_type": "code",
   "execution_count": null,
   "id": "ff62e9f6",
   "metadata": {},
   "outputs": [],
   "source": [
    "milk.columns"
   ]
  },
  {
   "cell_type": "code",
   "execution_count": null,
   "id": "857b9684",
   "metadata": {
    "scrolled": true,
    "slideshow": {
     "slide_type": "subslide"
    }
   },
   "outputs": [],
   "source": [
    "milk.columns = milk.columns.str.replace('\\n', '')\n",
    "milk.head()"
   ]
  },
  {
   "cell_type": "code",
   "execution_count": null,
   "id": "85abfb81",
   "metadata": {
    "slideshow": {
     "slide_type": "subslide"
    }
   },
   "outputs": [],
   "source": [
    "milk = milk.rename(columns=lambda x: x.strip(' 012'))\n",
    "milk.head()"
   ]
  },
  {
   "cell_type": "code",
   "execution_count": null,
   "id": "8a81ce1e",
   "metadata": {
    "scrolled": true,
    "slideshow": {
     "slide_type": "subslide"
    }
   },
   "outputs": [],
   "source": [
    "milk = milk.rename(columns = {'Unnamed:': 'Year'})\n",
    "milk.head()"
   ]
  },
  {
   "cell_type": "code",
   "execution_count": null,
   "id": "24e9ef5e",
   "metadata": {
    "scrolled": true,
    "slideshow": {
     "slide_type": "subslide"
    }
   },
   "outputs": [],
   "source": [
    "milk.columns.values[[2,3,5,6]] = np.array(['Reduced', 'Low', \n",
    "                                            'Flavored Whole', 'Flavored Other'])"
   ]
  },
  {
   "cell_type": "code",
   "execution_count": null,
   "id": "862fa2fd",
   "metadata": {},
   "outputs": [],
   "source": [
    "milk.head()"
   ]
  },
  {
   "cell_type": "code",
   "execution_count": null,
   "id": "8014a438",
   "metadata": {
    "slideshow": {
     "slide_type": "subslide"
    }
   },
   "outputs": [],
   "source": [
    "milk.dtypes"
   ]
  },
  {
   "cell_type": "code",
   "execution_count": null,
   "id": "dfb94ddc",
   "metadata": {
    "slideshow": {
     "slide_type": "subslide"
    }
   },
   "outputs": [],
   "source": [
    "milk = milk.set_index('Year')  "
   ]
  },
  {
   "cell_type": "code",
   "execution_count": null,
   "id": "0d4232b4",
   "metadata": {},
   "outputs": [],
   "source": [
    "milk.head()"
   ]
  },
  {
   "cell_type": "code",
   "execution_count": null,
   "id": "f6ebaf4c",
   "metadata": {
    "scrolled": true,
    "slideshow": {
     "slide_type": "slide"
    }
   },
   "outputs": [],
   "source": [
    "milk = pd.read_excel(\"../data/fluidmilk.xlsx\", skiprows = 1)\n",
    "milk.columns = milk.columns.str.replace('\\n', '')\n",
    "milk = milk.rename(columns=lambda df: df.strip(' 12'))\n",
    "milk.columns.values[[0,2,3,5,6]] = np.array(['Year', 'Reduced', 'Low', \n",
    "                                             'Flavored Whole', 'Flavored Other'])\n",
    "milk = milk[:-4] # get rid of the last four rows\n",
    "milk = milk.set_index(\"Year\") \n",
    "milk.head()"
   ]
  },
  {
   "cell_type": "code",
   "execution_count": null,
   "id": "d10cb953",
   "metadata": {
    "slideshow": {
     "slide_type": "subslide"
    }
   },
   "outputs": [],
   "source": [
    "milk = milk.stack() \n",
    "milk"
   ]
  },
  {
   "cell_type": "code",
   "execution_count": null,
   "id": "3eb11e1b",
   "metadata": {
    "scrolled": true,
    "slideshow": {
     "slide_type": "subslide"
    }
   },
   "outputs": [],
   "source": [
    "milk.index"
   ]
  },
  {
   "cell_type": "code",
   "execution_count": null,
   "id": "5cc522c5",
   "metadata": {
    "slideshow": {
     "slide_type": "subslide"
    }
   },
   "outputs": [],
   "source": [
    "milk = milk.reset_index()\n",
    "milk"
   ]
  },
  {
   "cell_type": "code",
   "execution_count": null,
   "id": "a053b1c1",
   "metadata": {},
   "outputs": [],
   "source": [
    "milk.columns.values[[False, True, True]] = np.array([\"Kind\", \"Sales\"])"
   ]
  },
  {
   "cell_type": "code",
   "execution_count": null,
   "id": "649c4173",
   "metadata": {
    "slideshow": {
     "slide_type": "subslide"
    }
   },
   "outputs": [],
   "source": [
    "milk.head()"
   ]
  },
  {
   "cell_type": "code",
   "execution_count": null,
   "id": "39a79eca",
   "metadata": {
    "scrolled": true
   },
   "outputs": [],
   "source": [
    "milk.tail()"
   ]
  }
 ],
 "metadata": {
  "celltoolbar": "Slideshow",
  "kernelspec": {
   "display_name": "Python 3 (ipykernel)",
   "language": "python",
   "name": "python3"
  },
  "language_info": {
   "codemirror_mode": {
    "name": "ipython",
    "version": 3
   },
   "file_extension": ".py",
   "mimetype": "text/x-python",
   "name": "python",
   "nbconvert_exporter": "python",
   "pygments_lexer": "ipython3",
   "version": "3.9.12"
  },
  "rise": {
   "progress": true,
   "scroll": true,
   "theme": "white"
  }
 },
 "nbformat": 4,
 "nbformat_minor": 5
}
