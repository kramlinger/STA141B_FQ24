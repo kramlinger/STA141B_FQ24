{
 "cells": [
  {
   "cell_type": "markdown",
   "id": "ff704263",
   "metadata": {
    "slideshow": {
     "slide_type": "slide"
    }
   },
   "source": [
    "# STA 141B Data & Web Technologies for Data Analysis\n",
    "\n",
    "### Lecture 5, 10/15/24, Numpy\n"
   ]
  },
  {
   "cell_type": "markdown",
   "id": "d720fbd5",
   "metadata": {
    "slideshow": {
     "slide_type": "slide"
    }
   },
   "source": [
    "### Announcements\n",
    "\n",
    "- Homework 2 is due this Sunday, 11:59 PM. \n",
    "- Midterm next week on Thursday, Oct 17. Sample exam is online. "
   ]
  },
  {
   "cell_type": "markdown",
   "id": "f15bba7a",
   "metadata": {
    "slideshow": {
     "slide_type": "slide"
    }
   },
   "source": [
    "### Last week's topics\n",
    "\n",
    " - Basics of Python \n",
    "- Memory handling in Python\n",
    "    - Reference semantics\n",
    "    - Interning"
   ]
  },
  {
   "cell_type": "markdown",
   "id": "522ed175",
   "metadata": {
    "slideshow": {
     "slide_type": "slide"
    }
   },
   "source": [
    "### Today's topics\n",
    "\n",
    " - Modules and Packages\n",
    " - NumPy "
   ]
  },
  {
   "cell_type": "markdown",
   "id": "133a9b0b",
   "metadata": {
    "slideshow": {
     "slide_type": "slide"
    }
   },
   "source": [
    "### Modules and Packages \n",
    "\n",
    "A module is a text file that contains Python code, usually a `.py` file. Any Python file is a module as well, its name being the file's base name without the `.py` extension. A package is a collection of Python modules. \n",
    "\n",
    "In R, it is called a script or package. Python's `import` command lets us load code from a module to use in our script or notebook. `import` is like a combination of R's `source` and `library` functions.\n",
    "\n",
    "Python provides many built-in modules for common tasks (see the [list](https://docs.python.org/3/library/index.html)). Packages provide even more modules.\n",
    "\n",
    "We can access functions from modules via `.`: "
   ]
  },
  {
   "cell_type": "code",
   "execution_count": null,
   "id": "408100eb",
   "metadata": {
    "slideshow": {
     "slide_type": "slide"
    }
   },
   "outputs": [],
   "source": [
    "pi"
   ]
  },
  {
   "cell_type": "code",
   "execution_count": null,
   "id": "edb270a8",
   "metadata": {},
   "outputs": [],
   "source": [
    "import math\n",
    "math.pi"
   ]
  },
  {
   "cell_type": "markdown",
   "id": "5fa72f71",
   "metadata": {
    "slideshow": {
     "slide_type": "subslide"
    }
   },
   "source": [
    "You can give imported modules an alias to cut down on typing: "
   ]
  },
  {
   "cell_type": "code",
   "execution_count": null,
   "id": "1ef128e7",
   "metadata": {},
   "outputs": [],
   "source": [
    "import math as m\n",
    "m.pi"
   ]
  },
  {
   "cell_type": "markdown",
   "id": "fc627151",
   "metadata": {
    "slideshow": {
     "slide_type": "subslide"
    }
   },
   "source": [
    "We can import single functions within a module or package by running"
   ]
  },
  {
   "cell_type": "code",
   "execution_count": null,
   "id": "90ac8709",
   "metadata": {},
   "outputs": [],
   "source": [
    "from math import pi\n",
    "pi"
   ]
  },
  {
   "cell_type": "markdown",
   "id": "f5cccc9f",
   "metadata": {
    "slideshow": {
     "slide_type": "subslide"
    }
   },
   "source": [
    "Of course, other `math` functions are not imported this way: "
   ]
  },
  {
   "cell_type": "code",
   "execution_count": null,
   "id": "cd44dea0",
   "metadata": {},
   "outputs": [],
   "source": [
    "ceil(4.3)"
   ]
  },
  {
   "cell_type": "code",
   "execution_count": null,
   "id": "0f8063d4",
   "metadata": {},
   "outputs": [],
   "source": [
    "m.ceil(4.3)"
   ]
  },
  {
   "cell_type": "markdown",
   "id": "b86faf04",
   "metadata": {
    "slideshow": {
     "slide_type": "subslide"
    }
   },
   "source": [
    "Importing only the required functions keep the namespace clean. We can import all functions from one package by running"
   ]
  },
  {
   "cell_type": "code",
   "execution_count": null,
   "id": "abc035cb",
   "metadata": {},
   "outputs": [],
   "source": [
    "from math import * # this is called wildcard import"
   ]
  },
  {
   "cell_type": "code",
   "execution_count": null,
   "id": "9bcafc72",
   "metadata": {},
   "outputs": [],
   "source": [
    "ceil(4.3)"
   ]
  },
  {
   "cell_type": "markdown",
   "id": "458ea702",
   "metadata": {
    "slideshow": {
     "slide_type": "-"
    }
   },
   "source": [
    "Use this with care, in particular if the namespaces of some modules collide! "
   ]
  },
  {
   "cell_type": "markdown",
   "id": "a860ed3a",
   "metadata": {
    "slideshow": {
     "slide_type": "slide"
    }
   },
   "source": [
    "The Python style guide allows to import several functions in one line. This is an exception to the one-line-one-statement rule."
   ]
  },
  {
   "cell_type": "code",
   "execution_count": null,
   "id": "0f0e685a",
   "metadata": {},
   "outputs": [],
   "source": [
    "from math import pi, ceil"
   ]
  },
  {
   "cell_type": "markdown",
   "id": "fd62a19a",
   "metadata": {
    "slideshow": {
     "slide_type": "slide"
    }
   },
   "source": [
    "Which of the built-in modules are important?\n",
    "\n",
    "Module      | Description\n",
    "----------- | -----------\n",
    "sys         | info about Python (version, etc)\n",
    "pdb         | Python debugger\n",
    "pathlib     | tools for file paths\n",
    "collections | additional data structures\n",
    "string      | string processing\n",
    "re          | regular expressions\n",
    "datetime    | date processing\n",
    "urlparse    | tools for URLs\n",
    "itertools   | tools for iterators\n",
    "functools   | tools for functions\n",
    "\n",
    "Python's built-in `math` and `statistics` modules are missing features we need for serious scientific computing, so we use the \"SciPy Stack\" instead."
   ]
  },
  {
   "cell_type": "markdown",
   "id": "5d29c3e6",
   "metadata": {
    "slideshow": {
     "slide_type": "slide"
    }
   },
   "source": [
    "The SciPy Stack is a collection of packages for scientific computing (marked with a `*` below). Most scientists working in Python use the SciPy Stack. The 3 most important packages in the stack are:\n",
    "\n",
    "Package      | Description\n",
    "------------ | -----------\n",
    "numpy\\*      | arrays, matrices, math/stat functions\n",
    "scipy\\*      | additional math/stat functions\n",
    "pandas\\*     | data frames"
   ]
  },
  {
   "cell_type": "markdown",
   "id": "5e4f6fee",
   "metadata": {
    "slideshow": {
     "slide_type": "slide"
    }
   },
   "source": [
    "There are also several packages available for creating static plots.\n",
    "\n",
    "Package      | Description\n",
    "------------ | -----------\n",
    "matplotlib\\* | visualizations\n",
    "seaborn      | \"statistical\" visualizations\n",
    "plotnine     | ggplot2 for Python"
   ]
  },
  {
   "cell_type": "markdown",
   "id": "eb16778e",
   "metadata": {
    "slideshow": {
     "slide_type": "slide"
    }
   },
   "source": [
    "Finally, there are many other packages we may use for specific statistical tasks. Some of these are:\n",
    "\n",
    "Package      | Description\n",
    "------------ | -----------\n",
    "requests     | web (HTTP) requests\n",
    "lxml         | web page parsing (XML & HTML)\n",
    "beatifulsoup | web page parsing (HTML)\n",
    "nltk         | natural language processing\n",
    "spacy        | natural language processing\n",
    "textblob     | natural language processing\n",
    "statsmodels  | classical statistical models\n",
    "scikit-learn | machine learning models\n",
    "pillow       | image processing\n",
    "scikit-image | image processing\n",
    "opencv       | image processing"
   ]
  },
  {
   "cell_type": "markdown",
   "id": "9a5f733d",
   "metadata": {
    "slideshow": {
     "slide_type": "slide"
    }
   },
   "source": [
    "### NumPy\n",
    "NumPy is a Python package that provides tools for numerical computing (the name stands for \"Numerical Python\"). If you use Anaconda, NumPy is already installed.\n",
    "\n",
    "NumPy is documented [here][link4].\n",
    "\n",
    "[link4]: https://numpy.org/doc/stable/"
   ]
  },
  {
   "cell_type": "code",
   "execution_count": null,
   "id": "6d85fe38",
   "metadata": {},
   "outputs": [],
   "source": [
    "import numpy as np # standard naming convention for numpy"
   ]
  },
  {
   "cell_type": "markdown",
   "id": "443a3615",
   "metadata": {},
   "source": [
    "NumPy's core feature is the n-dimensional array of <kbd>numpy.ndarray</kbd> object type. NumPy arrays are the basis for almost all of Python's scientific computing packages. They are the Python equivalent of R's built-in vectors.\n",
    "\n",
    "NumPy arrays use reference semantics, just as <kbd>list</kbd> type objects. "
   ]
  },
  {
   "cell_type": "markdown",
   "id": "3cf9bc6e",
   "metadata": {
    "slideshow": {
     "slide_type": "slide"
    }
   },
   "source": [
    "#### Creating NumPy Arrays\n",
    "\n",
    "You can create NumPy arrays from lists:"
   ]
  },
  {
   "cell_type": "code",
   "execution_count": null,
   "id": "35a2a015",
   "metadata": {},
   "outputs": [],
   "source": [
    "a = np.array([1,2,3])\n",
    "a"
   ]
  },
  {
   "cell_type": "code",
   "execution_count": null,
   "id": "6dd1e688",
   "metadata": {},
   "outputs": [],
   "source": [
    "type(a)"
   ]
  },
  {
   "cell_type": "markdown",
   "id": "24b89573",
   "metadata": {
    "slideshow": {
     "slide_type": "slide"
    }
   },
   "source": [
    "A numpy array is a grid of values, all of the same type and is indexed by a tuple of nonnegative integers. A list is the Python equivalent of an array, but is resizeable and can contain elements of different types."
   ]
  },
  {
   "cell_type": "code",
   "execution_count": null,
   "id": "5d99a41b",
   "metadata": {},
   "outputs": [],
   "source": [
    "np.array([1, 2.0, 'horse']) # recasts all entries to char"
   ]
  },
  {
   "cell_type": "code",
   "execution_count": null,
   "id": "747a0078",
   "metadata": {},
   "outputs": [],
   "source": [
    "np.array([1,2.0,3]) # recasts all entries to float"
   ]
  },
  {
   "cell_type": "code",
   "execution_count": null,
   "id": "3df82724",
   "metadata": {
    "slideshow": {
     "slide_type": "subslide"
    }
   },
   "outputs": [],
   "source": [
    "x = np.array([1,2,3]) \n",
    "y = np.array([4.1, 5.2, 6.3])\n",
    "x + y"
   ]
  },
  {
   "cell_type": "code",
   "execution_count": null,
   "id": "3f451d9e",
   "metadata": {
    "slideshow": {
     "slide_type": "fragment"
    }
   },
   "outputs": [],
   "source": [
    "z = [2, 3, 4] #list!\n",
    "x + z # list + array = array"
   ]
  },
  {
   "cell_type": "code",
   "execution_count": null,
   "id": "0b1a4258",
   "metadata": {},
   "outputs": [],
   "source": [
    "x + 4"
   ]
  },
  {
   "cell_type": "code",
   "execution_count": null,
   "id": "1e64d7e4",
   "metadata": {},
   "outputs": [],
   "source": [
    "x + np.array([2, 3, 4, 5])"
   ]
  },
  {
   "cell_type": "markdown",
   "id": "3ba0ee7e",
   "metadata": {
    "slideshow": {
     "slide_type": "slide"
    }
   },
   "source": [
    "You can create multidimensional arrays, like matrices, from nested lists."
   ]
  },
  {
   "cell_type": "code",
   "execution_count": null,
   "id": "ee6bac26",
   "metadata": {},
   "outputs": [],
   "source": [
    "m = np.array([[1, 2, 3], [4, 5, 6]])\n",
    "m"
   ]
  },
  {
   "cell_type": "code",
   "execution_count": null,
   "id": "1640c214",
   "metadata": {},
   "outputs": [],
   "source": [
    "type(m)"
   ]
  },
  {
   "cell_type": "code",
   "execution_count": null,
   "id": "1ae64bbb",
   "metadata": {},
   "outputs": [],
   "source": [
    "np.shape(m)"
   ]
  },
  {
   "cell_type": "code",
   "execution_count": null,
   "id": "a7fa3e28",
   "metadata": {},
   "outputs": [],
   "source": [
    "np.size(m)"
   ]
  },
  {
   "cell_type": "markdown",
   "id": "42a661c0",
   "metadata": {
    "slideshow": {
     "slide_type": "slide"
    }
   },
   "source": [
    "`numpy.matrix` is a subclass of `numpy.ndarray`. It inherits the laters attributes and is restricted to two dimensions. There is no N-dimensional matrix in numpy, only N-dimensional array: see [this](https://numpy.org/doc/stable/reference/arrays.ndarray.html)."
   ]
  },
  {
   "cell_type": "code",
   "execution_count": null,
   "id": "ec8e20ce",
   "metadata": {
    "slideshow": {
     "slide_type": "-"
    }
   },
   "outputs": [],
   "source": [
    "m = np.matrix([[1, 2, 3], [4, 5, 6]])\n",
    "m"
   ]
  },
  {
   "cell_type": "code",
   "execution_count": null,
   "id": "03b5c0a5",
   "metadata": {},
   "outputs": [],
   "source": [
    "type(m)"
   ]
  },
  {
   "cell_type": "code",
   "execution_count": null,
   "id": "7bebb5bd",
   "metadata": {},
   "outputs": [],
   "source": [
    "np.shape(m)"
   ]
  },
  {
   "cell_type": "markdown",
   "id": "d923af3b",
   "metadata": {
    "slideshow": {
     "slide_type": "slide"
    }
   },
   "source": [
    "NumPy also provides several helper functions to create arrays. See the [documentation](https://numpy.org/doc/stable/user/basics.creation.html) for a full list."
   ]
  },
  {
   "cell_type": "code",
   "execution_count": null,
   "id": "442077cf",
   "metadata": {},
   "outputs": [],
   "source": [
    "np.arange(0, 10, 2)"
   ]
  },
  {
   "cell_type": "code",
   "execution_count": null,
   "id": "0e837e75",
   "metadata": {},
   "outputs": [],
   "source": [
    "np.array(range(0, 10, 2))"
   ]
  },
  {
   "cell_type": "code",
   "execution_count": null,
   "id": "d9f2d320",
   "metadata": {},
   "outputs": [],
   "source": [
    "np.ones(10)"
   ]
  },
  {
   "cell_type": "code",
   "execution_count": null,
   "id": "43d13262",
   "metadata": {},
   "outputs": [],
   "source": [
    "np.zeros(10)"
   ]
  },
  {
   "cell_type": "markdown",
   "id": "b66e3e34",
   "metadata": {
    "slideshow": {
     "slide_type": "slide"
    }
   },
   "source": [
    "#### Inspecting Arrays\n",
    "\n",
    "The array attributes `.shape` and `.size` contain information about the structure of the array. A plethora of array methods are also provided. "
   ]
  },
  {
   "cell_type": "code",
   "execution_count": null,
   "id": "8479e41b",
   "metadata": {},
   "outputs": [],
   "source": [
    "x"
   ]
  },
  {
   "cell_type": "code",
   "execution_count": null,
   "id": "4378dda1",
   "metadata": {},
   "outputs": [],
   "source": [
    "np.size(x)"
   ]
  },
  {
   "cell_type": "code",
   "execution_count": null,
   "id": "53bb1b04",
   "metadata": {},
   "outputs": [],
   "source": [
    "x.shape # returns a tuple! "
   ]
  },
  {
   "cell_type": "code",
   "execution_count": null,
   "id": "4470eebe",
   "metadata": {},
   "outputs": [],
   "source": [
    "m.shape"
   ]
  },
  {
   "cell_type": "code",
   "execution_count": null,
   "id": "69ab2c7c",
   "metadata": {},
   "outputs": [],
   "source": [
    "x.size # like R's length()"
   ]
  },
  {
   "cell_type": "code",
   "execution_count": null,
   "id": "64e54c16",
   "metadata": {},
   "outputs": [],
   "source": [
    "m.size"
   ]
  },
  {
   "cell_type": "code",
   "execution_count": null,
   "id": "8308f109",
   "metadata": {},
   "outputs": [],
   "source": [
    "len(x) # not as neat, but gives same result"
   ]
  },
  {
   "cell_type": "code",
   "execution_count": null,
   "id": "351ae29b",
   "metadata": {
    "slideshow": {
     "slide_type": "subslide"
    }
   },
   "outputs": [],
   "source": [
    "x.sum()"
   ]
  },
  {
   "cell_type": "code",
   "execution_count": null,
   "id": "0e06b727",
   "metadata": {},
   "outputs": [],
   "source": [
    "sum(x) # not as neat, but gives same result"
   ]
  },
  {
   "cell_type": "markdown",
   "id": "d62d313e",
   "metadata": {
    "slideshow": {
     "slide_type": "subslide"
    }
   },
   "source": [
    "The array attribute `.dtype` contains the data type of the array's elements."
   ]
  },
  {
   "cell_type": "code",
   "execution_count": null,
   "id": "fbffa6a4",
   "metadata": {},
   "outputs": [],
   "source": [
    "x.dtype"
   ]
  },
  {
   "cell_type": "code",
   "execution_count": null,
   "id": "e8443c1f",
   "metadata": {},
   "outputs": [],
   "source": [
    "x"
   ]
  },
  {
   "cell_type": "code",
   "execution_count": null,
   "id": "879c5678",
   "metadata": {},
   "outputs": [],
   "source": [
    "y"
   ]
  },
  {
   "cell_type": "code",
   "execution_count": null,
   "id": "3d5f47b2",
   "metadata": {},
   "outputs": [],
   "source": [
    "y.dtype"
   ]
  },
  {
   "cell_type": "code",
   "execution_count": null,
   "id": "f8a9935f",
   "metadata": {},
   "outputs": [],
   "source": [
    "(x + y).dtype"
   ]
  },
  {
   "cell_type": "markdown",
   "id": "d1161f71",
   "metadata": {},
   "source": [
    "See [here][link5] or [here][link6] for a complete list of Numpy data types.\n",
    "\n",
    "[link5]: https://docs.scipy.org/doc/numpy-1.15.0/user/basics.types.html\n",
    "[link6]: https://jakevdp.github.io/PythonDataScienceHandbook/02.01-understanding-data-types.html#NumPy-Standard-Data-Types "
   ]
  },
  {
   "cell_type": "markdown",
   "id": "9e9641a1",
   "metadata": {
    "slideshow": {
     "slide_type": "slide"
    }
   },
   "source": [
    " The pythonic role of packages is to not only contribute one class (e.g., `ndarray`), but more functions related to the packages role. This is why a variety of additional functions are provided as well.  "
   ]
  },
  {
   "cell_type": "code",
   "execution_count": null,
   "id": "bf55a359",
   "metadata": {},
   "outputs": [],
   "source": [
    "np.sin(x)"
   ]
  },
  {
   "cell_type": "markdown",
   "id": "4ca2f357",
   "metadata": {},
   "source": [
    "Keep in mind that this is not the same as the `math.sin` function we have imported above. Indeed, this function throws an error:"
   ]
  },
  {
   "cell_type": "code",
   "execution_count": null,
   "id": "ed985f3f",
   "metadata": {},
   "outputs": [],
   "source": [
    "sin(x) # or math.sin(x)"
   ]
  },
  {
   "cell_type": "markdown",
   "id": "32298df7",
   "metadata": {
    "slideshow": {
     "slide_type": "slide"
    }
   },
   "source": [
    "#### Indexing\n",
    "\n",
    "You can subset NumPy arrays with indexes or Boolean arrays. Again, this is similar to R.\n",
    "\n",
    "But be careful! Python uses `and` and `or` to combine conditions, but NumPy uses `&` and `|`!"
   ]
  },
  {
   "cell_type": "code",
   "execution_count": null,
   "id": "08afcfa9",
   "metadata": {},
   "outputs": [],
   "source": [
    "x"
   ]
  },
  {
   "cell_type": "code",
   "execution_count": null,
   "id": "2a69d15a",
   "metadata": {},
   "outputs": [],
   "source": [
    "x[0]"
   ]
  },
  {
   "cell_type": "code",
   "execution_count": null,
   "id": "2b171426",
   "metadata": {},
   "outputs": [],
   "source": [
    "x[1]"
   ]
  },
  {
   "cell_type": "code",
   "execution_count": null,
   "id": "f19b44bf",
   "metadata": {},
   "outputs": [],
   "source": [
    "x == x[0:]"
   ]
  },
  {
   "cell_type": "code",
   "execution_count": null,
   "id": "ee939057",
   "metadata": {
    "slideshow": {
     "slide_type": "subslide"
    }
   },
   "outputs": [],
   "source": [
    "m"
   ]
  },
  {
   "cell_type": "code",
   "execution_count": null,
   "id": "fe5c22fd",
   "metadata": {
    "slideshow": {
     "slide_type": "-"
    }
   },
   "outputs": [],
   "source": [
    "m.shape"
   ]
  },
  {
   "cell_type": "code",
   "execution_count": null,
   "id": "7c96af5c",
   "metadata": {},
   "outputs": [],
   "source": [
    "m[1,0]"
   ]
  },
  {
   "cell_type": "code",
   "execution_count": null,
   "id": "9c13591f",
   "metadata": {
    "slideshow": {
     "slide_type": "subslide"
    }
   },
   "outputs": [],
   "source": [
    "x % 2 == 0"
   ]
  },
  {
   "cell_type": "code",
   "execution_count": null,
   "id": "fd509ea4",
   "metadata": {},
   "outputs": [],
   "source": [
    "x[x % 2 == 0] # true or false"
   ]
  },
  {
   "cell_type": "markdown",
   "id": "2f9f29bc",
   "metadata": {},
   "source": [
    "Note that although only one element is selected, a one-dimensional array is returned! "
   ]
  },
  {
   "cell_type": "markdown",
   "id": "fee10b67",
   "metadata": {
    "slideshow": {
     "slide_type": "subslide"
    }
   },
   "source": [
    "In multidimensional arrays, separate indexes for each dimension with commas. The bare slice `:` selects everything in one dimension, just as we have seen in the last lectures. "
   ]
  },
  {
   "cell_type": "code",
   "execution_count": null,
   "id": "dbc298ab",
   "metadata": {},
   "outputs": [],
   "source": [
    "m"
   ]
  },
  {
   "cell_type": "code",
   "execution_count": null,
   "id": "36f31bad",
   "metadata": {},
   "outputs": [],
   "source": [
    "m[:, 0]"
   ]
  },
  {
   "cell_type": "code",
   "execution_count": null,
   "id": "0cefbebe",
   "metadata": {},
   "outputs": [],
   "source": [
    "m[1, :]"
   ]
  },
  {
   "cell_type": "code",
   "execution_count": null,
   "id": "25f35553",
   "metadata": {},
   "outputs": [],
   "source": [
    "m[:, 0:2]"
   ]
  },
  {
   "cell_type": "code",
   "execution_count": null,
   "id": "bc7d044d",
   "metadata": {},
   "outputs": [],
   "source": [
    "m[0,:]"
   ]
  },
  {
   "cell_type": "markdown",
   "id": "8882fcb8",
   "metadata": {
    "slideshow": {
     "slide_type": "slide"
    }
   },
   "source": [
    "Matrix algebra can performed using `@`. "
   ]
  },
  {
   "cell_type": "code",
   "execution_count": null,
   "id": "74dd7921",
   "metadata": {
    "slideshow": {
     "slide_type": "-"
    }
   },
   "outputs": [],
   "source": [
    "m"
   ]
  },
  {
   "cell_type": "code",
   "execution_count": null,
   "id": "c62954ec",
   "metadata": {
    "slideshow": {
     "slide_type": "-"
    }
   },
   "outputs": [],
   "source": [
    "(np.transpose(m) @ m ).shape"
   ]
  },
  {
   "cell_type": "code",
   "execution_count": null,
   "id": "42245d95",
   "metadata": {
    "slideshow": {
     "slide_type": "-"
    }
   },
   "outputs": [],
   "source": [
    "m @ np.transpose(np.matrix([[1, 2, 3]]))"
   ]
  },
  {
   "cell_type": "markdown",
   "id": "2699211d",
   "metadata": {
    "slideshow": {
     "slide_type": "slide"
    }
   },
   "source": [
    "So what is NumPy good for?\n",
    "\n",
    "NumPy also provides functions for:\n",
    "- Linear algebra (multiplication, transposition, decomposition, ...)\n",
    "- Random number generation\n",
    "- Elementary statistics\n",
    "- Signal processing\n",
    "- And more...\n",
    "\n",
    "There isn't time to cover all of these in detail in lecture, but you can learn more from the documentation and references."
   ]
  },
  {
   "cell_type": "markdown",
   "id": "7746da25",
   "metadata": {
    "slideshow": {
     "slide_type": "slide"
    }
   },
   "source": [
    "## Using NumPy for Monte Carlo Integration\n",
    "### Example - approximate $\\pi$ using Monte Carlo method\n",
    "\n",
    "Consider a circle with radius 1 circumscribed by a square with side length 2.\n",
    "\n",
    "The area of the circle is $\\pi$, so for a uniform distribution on the square, the probability a point will fall in the circle is $\\pi / 4$.\n",
    "\n",
    "We can estimate the probability to estimate $\\pi$."
   ]
  },
  {
   "cell_type": "code",
   "execution_count": null,
   "id": "66e583e7",
   "metadata": {
    "slideshow": {
     "slide_type": "subslide"
    }
   },
   "outputs": [],
   "source": [
    "import numpy as np\n",
    "\n",
    "def approx_pi(n): \n",
    "    # First, we need to sample points (x, y) with x in (0, 1) and y the same\n",
    "    u = np.random.rand(n, 2) # returns array of dim n # uniform distribution from 0 to 1\n",
    "\n",
    "    # Check whether sampled point lies in the circle\n",
    "    in_circle = u[:,0]**2 + u[:,1]**2 <= 1\n",
    "\n",
    "    # Estimate pi\n",
    "    pi = 4 * in_circle.mean()\n",
    "    return pi"
   ]
  },
  {
   "cell_type": "code",
   "execution_count": null,
   "id": "cc68cf24",
   "metadata": {},
   "outputs": [],
   "source": [
    "approx_pi(1_00_000)"
   ]
  },
  {
   "cell_type": "code",
   "execution_count": null,
   "id": "ded60cb3",
   "metadata": {},
   "outputs": [],
   "source": [
    "np.pi"
   ]
  },
  {
   "cell_type": "code",
   "execution_count": null,
   "id": "bbef8486",
   "metadata": {},
   "outputs": [],
   "source": [
    "math.pi"
   ]
  },
  {
   "cell_type": "markdown",
   "id": "07dc1444",
   "metadata": {
    "slideshow": {
     "slide_type": "subslide"
    }
   },
   "source": [
    "We have used the package `numpy.random`, a subpackage or NumPy. "
   ]
  },
  {
   "cell_type": "code",
   "execution_count": null,
   "id": "4b17a542",
   "metadata": {
    "scrolled": true
   },
   "outputs": [],
   "source": [
    "help(np.random)"
   ]
  },
  {
   "cell_type": "markdown",
   "id": "735d0ed7",
   "metadata": {
    "slideshow": {
     "slide_type": "slide"
    }
   },
   "source": [
    "There are other packages that produce random numbers, like `random`. "
   ]
  },
  {
   "cell_type": "code",
   "execution_count": null,
   "id": "fc75ff49",
   "metadata": {},
   "outputs": [],
   "source": [
    "import random\n",
    "random.seed(1) # np.random.seed(1) # alternative, but different seed! "
   ]
  },
  {
   "cell_type": "markdown",
   "id": "d5c45544",
   "metadata": {
    "slideshow": {
     "slide_type": "subslide"
    }
   },
   "source": [
    "Lets see how how fast our approximation converges. "
   ]
  },
  {
   "cell_type": "code",
   "execution_count": null,
   "id": "25da6574",
   "metadata": {},
   "outputs": [],
   "source": [
    "log10_nsims = np.linspace(start=0.5, stop=6, num=100)"
   ]
  },
  {
   "cell_type": "code",
   "execution_count": null,
   "id": "58f5b3b5",
   "metadata": {},
   "outputs": [],
   "source": [
    "nsims = (10**log10_nsims).astype(int)"
   ]
  },
  {
   "cell_type": "code",
   "execution_count": null,
   "id": "fb6969d0",
   "metadata": {},
   "outputs": [],
   "source": [
    "nsims"
   ]
  },
  {
   "cell_type": "code",
   "execution_count": null,
   "id": "560e98dd",
   "metadata": {
    "scrolled": true,
    "slideshow": {
     "slide_type": "subslide"
    }
   },
   "outputs": [],
   "source": [
    "pi = [approx_pi(n) for n in nsims]\n",
    "pi"
   ]
  },
  {
   "cell_type": "markdown",
   "id": "ef12b873",
   "metadata": {
    "slideshow": {
     "slide_type": "slide"
    }
   },
   "source": [
    "Lets visualise this numerical convergence. "
   ]
  },
  {
   "cell_type": "code",
   "execution_count": null,
   "id": "c01769a3",
   "metadata": {
    "scrolled": true
   },
   "outputs": [],
   "source": [
    "import matplotlib.pyplot as plt\n",
    "plt.plot(log10_nsims, pi)\n",
    "plt.axhline(y=np.pi, color='r', linestyle='-') # add red line \n",
    "plt.xlabel(\"$\\log_{10}($nsims$)$\") # add label with LaTex\n",
    "plt.show() "
   ]
  }
 ],
 "metadata": {
  "celltoolbar": "Slideshow",
  "kernelspec": {
   "display_name": "Python 3 (ipykernel)",
   "language": "python",
   "name": "python3"
  },
  "language_info": {
   "codemirror_mode": {
    "name": "ipython",
    "version": 3
   },
   "file_extension": ".py",
   "mimetype": "text/x-python",
   "name": "python",
   "nbconvert_exporter": "python",
   "pygments_lexer": "ipython3",
   "version": "3.9.12"
  },
  "rise": {
   "progress": true,
   "scroll": true,
   "theme": "white"
  }
 },
 "nbformat": 4,
 "nbformat_minor": 5
}
