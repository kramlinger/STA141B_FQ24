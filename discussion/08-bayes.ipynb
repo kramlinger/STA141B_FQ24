{
 "cells": [
  {
   "cell_type": "markdown",
   "id": "5fc6daa9",
   "metadata": {},
   "source": [
    "Male and female names have some distinctive characteristics.\n",
    "Names ending in a, e, and i are likely to be female, while names ending in k, o, r, s, and\n",
    "t are likely to be male. Let’s build a classifier to model these differences more precisely."
   ]
  },
  {
   "cell_type": "code",
   "execution_count": 1,
   "id": "63ad5592",
   "metadata": {},
   "outputs": [],
   "source": [
    "from nltk.corpus import names\n",
    "import nltk\n",
    "import random\n",
    "import numpy as np"
   ]
  },
  {
   "cell_type": "code",
   "execution_count": 2,
   "id": "e6f6eab7",
   "metadata": {},
   "outputs": [],
   "source": [
    "names = ([(name, 'male') for name in names.words('male.txt')] + \n",
    "         [(name, 'female') for name in names.words('female.txt')])\n",
    "random.shuffle(names)"
   ]
  },
  {
   "cell_type": "code",
   "execution_count": 3,
   "id": "fd4cecf8",
   "metadata": {},
   "outputs": [
    {
     "data": {
      "text/plain": [
       "[('Howie', 'male'), ('Valentine', 'male'), ('Worthy', 'male'), ('Ray', 'male')]"
      ]
     },
     "execution_count": 3,
     "metadata": {},
     "output_type": "execute_result"
    }
   ],
   "source": [
    "names[:4]"
   ]
  },
  {
   "cell_type": "code",
   "execution_count": 4,
   "id": "e30c25ad",
   "metadata": {},
   "outputs": [],
   "source": [
    "def gender_features(word):\n",
    "    return word[-2:] # different in lecture! "
   ]
  },
  {
   "cell_type": "code",
   "execution_count": 5,
   "id": "6c169ea1",
   "metadata": {},
   "outputs": [
    {
     "data": {
      "text/plain": [
       "'ty'"
      ]
     },
     "execution_count": 5,
     "metadata": {},
     "output_type": "execute_result"
    }
   ],
   "source": [
    "gender_features(\"Trinity\")"
   ]
  },
  {
   "cell_type": "code",
   "execution_count": 6,
   "id": "491464e9",
   "metadata": {},
   "outputs": [],
   "source": [
    "featuresets = [({'feature': gender_features(n)}, g) for n, g in names]\n",
    "train_set, test_set = featuresets[500:], featuresets[:500]"
   ]
  },
  {
   "cell_type": "code",
   "execution_count": 7,
   "id": "7c2c37ba",
   "metadata": {},
   "outputs": [],
   "source": [
    "classifier = nltk.NaiveBayesClassifier.train(train_set)"
   ]
  },
  {
   "cell_type": "code",
   "execution_count": 8,
   "id": "230240e7",
   "metadata": {},
   "outputs": [
    {
     "data": {
      "text/plain": [
       "0.19243843268072308"
      ]
     },
     "execution_count": 8,
     "metadata": {},
     "output_type": "execute_result"
    }
   ],
   "source": [
    "classifier.prob_classify({'feature': gender_features('Esther')}).prob('female')"
   ]
  },
  {
   "cell_type": "markdown",
   "id": "2054cadb",
   "metadata": {},
   "source": [
    "Lets bring the data into `sklearn`-format. "
   ]
  },
  {
   "cell_type": "code",
   "execution_count": 9,
   "id": "e7212fd7",
   "metadata": {},
   "outputs": [],
   "source": [
    "probs = [classifier.prob_classify(a).prob('female') for a, b in test_set]\n",
    "#probs = [(p, 1-p) for p in probs]"
   ]
  },
  {
   "cell_type": "code",
   "execution_count": 10,
   "id": "2db142c7",
   "metadata": {},
   "outputs": [
    {
     "data": {
      "text/plain": [
       "[0.7332986700974907, 0.8706673657347003]"
      ]
     },
     "execution_count": 10,
     "metadata": {},
     "output_type": "execute_result"
    }
   ],
   "source": [
    "probs[:2]"
   ]
  },
  {
   "cell_type": "code",
   "execution_count": 11,
   "id": "1bb5fd46",
   "metadata": {},
   "outputs": [],
   "source": [
    "labels = [1 if a == 'female' else 0 for _, a in test_set]"
   ]
  },
  {
   "cell_type": "code",
   "execution_count": 12,
   "id": "bbff008f",
   "metadata": {},
   "outputs": [
    {
     "data": {
      "text/plain": [
       "[0, 0]"
      ]
     },
     "execution_count": 12,
     "metadata": {},
     "output_type": "execute_result"
    }
   ],
   "source": [
    "labels[:2]"
   ]
  },
  {
   "cell_type": "markdown",
   "id": "3a3a7009",
   "metadata": {},
   "source": [
    "Now, lets plot the ROC curve. "
   ]
  },
  {
   "cell_type": "code",
   "execution_count": 13,
   "id": "96fa4828",
   "metadata": {},
   "outputs": [],
   "source": [
    "import matplotlib.pyplot as plt\n",
    "from sklearn.metrics import RocCurveDisplay"
   ]
  },
  {
   "cell_type": "code",
   "execution_count": 14,
   "id": "aba899a0",
   "metadata": {
    "scrolled": false
   },
   "outputs": [
    {
     "data": {
      "image/png": "[encoded data removed]",
      "text/plain": [
       "<Figure size 432x288 with 1 Axes>"
      ]
     },
     "metadata": {
      "needs_background": "light"
     },
     "output_type": "display_data"
    }
   ],
   "source": [
    "display = RocCurveDisplay.from_predictions(\n",
    "    labels,\n",
    "    probs\n",
    ")\n",
    "_ = display.ax_.set(\n",
    "    xlabel=\"False Positive Rate\",\n",
    "    ylabel=\"True Positive Rate\"\n",
    ")"
   ]
  },
  {
   "cell_type": "markdown",
   "id": "aeab4e89",
   "metadata": {},
   "source": [
    "How good is this classifier compared to other ones? What if one were to use the last three letters? "
   ]
  },
  {
   "cell_type": "code",
   "execution_count": 15,
   "id": "c090d055",
   "metadata": {},
   "outputs": [
    {
     "data": {
      "image/png": "[encoded data removed]",
      "text/plain": [
       "<Figure size 432x288 with 1 Axes>"
      ]
     },
     "metadata": {
      "needs_background": "light"
     },
     "output_type": "display_data"
    }
   ],
   "source": [
    "def gender_features(word):\n",
    "    return word[-3:] \n",
    "featuresets = [({'feature': gender_features(n)}, g) for n, g in names]\n",
    "train_set, test_set = featuresets[500:], featuresets[:500]\n",
    "classifier = nltk.NaiveBayesClassifier.train(featuresets)\n",
    "probs = [classifier.prob_classify(a).prob('female') for a, b in test_set]\n",
    "labels = [1 if a == 'female' else 0 for _, a in test_set]\n",
    "display = RocCurveDisplay.from_predictions(\n",
    "    labels,\n",
    "    probs\n",
    ")\n",
    "_ = display.ax_.set(\n",
    "    xlabel=\"False Positive Rate\",\n",
    "    ylabel=\"True Positive Rate\"\n",
    ")"
   ]
  },
  {
   "cell_type": "markdown",
   "id": "50ddf67e",
   "metadata": {},
   "source": [
    "The first letter is useless: "
   ]
  },
  {
   "cell_type": "code",
   "execution_count": 16,
   "id": "60c8d841",
   "metadata": {},
   "outputs": [
    {
     "data": {
      "image/png": "[encoded data removed]",
      "text/plain": [
       "<Figure size 432x288 with 1 Axes>"
      ]
     },
     "metadata": {
      "needs_background": "light"
     },
     "output_type": "display_data"
    }
   ],
   "source": [
    "def gender_features(word):\n",
    "    return word[1] \n",
    "featuresets = [({'feature': gender_features(n)}, g) for n, g in names]\n",
    "train_set, test_set = featuresets[500:], featuresets[:500]\n",
    "classifier = nltk.NaiveBayesClassifier.train(featuresets)\n",
    "probs = [classifier.prob_classify(a).prob('female') for a, b in test_set]\n",
    "labels = [1 if a == 'female' else 0 for _, a in test_set]\n",
    "display = RocCurveDisplay.from_predictions(\n",
    "    labels,\n",
    "    probs\n",
    ")\n",
    "_ = display.ax_.set(\n",
    "    xlabel=\"False Positive Rate\",\n",
    "    ylabel=\"True Positive Rate\"\n",
    ")"
   ]
  },
  {
   "cell_type": "markdown",
   "id": "4909a0db",
   "metadata": {},
   "source": [
    "We can also engineer multiple features. "
   ]
  },
  {
   "cell_type": "code",
   "execution_count": 18,
   "id": "abd4ab95",
   "metadata": {},
   "outputs": [],
   "source": [
    "def gender_features2(name):\n",
    "    features = {}\n",
    "    features[\"firstletter\"] = name[0].lower()\n",
    "    features[\"lastletter\"] = name[-1].lower()\n",
    "    for letter in 'abcdefghijklmnopqrstuvwxyz':\n",
    "        features[\"count(%s)\" % letter] = name.lower().count(letter)\n",
    "        features[\"has(%s)\" % letter] = (letter in name.lower())\n",
    "    return features"
   ]
  },
  {
   "cell_type": "code",
   "execution_count": 19,
   "id": "b8067155",
   "metadata": {},
   "outputs": [
    {
     "data": {
      "text/plain": [
       "{'firstletter': 'd',\n",
       " 'lastletter': 'e',\n",
       " 'count(a)': 1,\n",
       " 'has(a)': True,\n",
       " 'count(b)': 0,\n",
       " 'has(b)': False,\n",
       " 'count(c)': 0,\n",
       " 'has(c)': False,\n",
       " 'count(d)': 1,\n",
       " 'has(d)': True,\n",
       " 'count(e)': 2,\n",
       " 'has(e)': True,\n",
       " 'count(f)': 0,\n",
       " 'has(f)': False,\n",
       " 'count(g)': 0,\n",
       " 'has(g)': False,\n",
       " 'count(h)': 0,\n",
       " 'has(h)': False,\n",
       " 'count(i)': 1,\n",
       " 'has(i)': True,\n",
       " 'count(j)': 0,\n",
       " 'has(j)': False,\n",
       " 'count(k)': 0,\n",
       " 'has(k)': False,\n",
       " 'count(l)': 2,\n",
       " 'has(l)': True,\n",
       " 'count(m)': 0,\n",
       " 'has(m)': False,\n",
       " 'count(n)': 1,\n",
       " 'has(n)': True,\n",
       " 'count(o)': 0,\n",
       " 'has(o)': False,\n",
       " 'count(p)': 0,\n",
       " 'has(p)': False,\n",
       " 'count(q)': 0,\n",
       " 'has(q)': False,\n",
       " 'count(r)': 0,\n",
       " 'has(r)': False,\n",
       " 'count(s)': 0,\n",
       " 'has(s)': False,\n",
       " 'count(t)': 0,\n",
       " 'has(t)': False,\n",
       " 'count(u)': 0,\n",
       " 'has(u)': False,\n",
       " 'count(v)': 0,\n",
       " 'has(v)': False,\n",
       " 'count(w)': 0,\n",
       " 'has(w)': False,\n",
       " 'count(x)': 0,\n",
       " 'has(x)': False,\n",
       " 'count(y)': 0,\n",
       " 'has(y)': False,\n",
       " 'count(z)': 0,\n",
       " 'has(z)': False}"
      ]
     },
     "execution_count": 19,
     "metadata": {},
     "output_type": "execute_result"
    }
   ],
   "source": [
    "gender_features2(\"Danielle\")"
   ]
  },
  {
   "cell_type": "code",
   "execution_count": 20,
   "id": "8e83e539",
   "metadata": {},
   "outputs": [
    {
     "data": {
      "image/png": "[encoded data removed]",
      "text/plain": [
       "<Figure size 432x288 with 1 Axes>"
      ]
     },
     "metadata": {
      "needs_background": "light"
     },
     "output_type": "display_data"
    }
   ],
   "source": [
    "featuresets = [(gender_features2(n), g) for n, g in names]\n",
    "train_set, test_set = featuresets[500:], featuresets[:500]\n",
    "classifier = nltk.NaiveBayesClassifier.train(featuresets)\n",
    "probs = [classifier.prob_classify(a).prob('female') for a, b in test_set]\n",
    "labels = [1 if a == 'female' else 0 for _, a in test_set]\n",
    "display = RocCurveDisplay.from_predictions(\n",
    "    labels,\n",
    "    probs\n",
    ")\n",
    "_ = display.ax_.set(\n",
    "    xlabel=\"False Positive Rate\",\n",
    "    ylabel=\"True Positive Rate\"\n",
    ")"
   ]
  }
 ],
 "metadata": {
  "kernelspec": {
   "display_name": "Python 3",
   "language": "python",
   "name": "python3"
  },
  "language_info": {
   "codemirror_mode": {
    "name": "ipython",
    "version": 3
   },
   "file_extension": ".py",
   "mimetype": "text/x-python",
   "name": "python",
   "nbconvert_exporter": "python",
   "pygments_lexer": "ipython3",
   "version": "3.8.8"
  }
 },
 "nbformat": 4,
 "nbformat_minor": 5
}
