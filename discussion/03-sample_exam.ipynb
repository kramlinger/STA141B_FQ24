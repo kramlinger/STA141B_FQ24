{
 "cells": [
  {
   "cell_type": "markdown",
   "id": "f5e211ed",
   "metadata": {},
   "source": [
    "# Basics \n",
    "## (a)"
   ]
  },
  {
   "cell_type": "code",
   "execution_count": 4,
   "id": "dc82986a",
   "metadata": {},
   "outputs": [
    {
     "name": "stdout",
     "output_type": "stream",
     "text": [
      "hip\n",
      "hep\n"
     ]
    }
   ],
   "source": [
    "x = \"pangolin\"\n",
    "y = set(x)\n",
    "\n",
    "try: y[1] == \"p\" # (i)\n",
    "except: print(\"hip\")\n",
    "try: x[1] = \"s\" # (ii)\n",
    "except: print(\"hep\")\n",
    "if len(y) == len(x): # (iii)\n",
    "    print(\"hop\")"
   ]
  },
  {
   "cell_type": "code",
   "execution_count": 5,
   "id": "720fd613",
   "metadata": {},
   "outputs": [
    {
     "name": "stdout",
     "output_type": "stream",
     "text": [
      "pangolin\n",
      "{'o', 'i', 'g', 'l', 'n', 'p', 'a'}\n"
     ]
    }
   ],
   "source": [
    "print(x)\n",
    "print(y) # no duplicates allowed in set"
   ]
  },
  {
   "cell_type": "code",
   "execution_count": 3,
   "id": "9c38448c",
   "metadata": {},
   "outputs": [
    {
     "ename": "TypeError",
     "evalue": "'set' object is not subscriptable",
     "output_type": "error",
     "traceback": [
      "\u001b[0;31m---------------------------------------------------------------------------\u001b[0m",
      "\u001b[0;31mTypeError\u001b[0m                                 Traceback (most recent call last)",
      "\u001b[0;32m<ipython-input-3-23699bca173a>\u001b[0m in \u001b[0;36m<module>\u001b[0;34m\u001b[0m\n\u001b[0;32m----> 1\u001b[0;31m \u001b[0my\u001b[0m\u001b[0;34m[\u001b[0m\u001b[0;36m1\u001b[0m\u001b[0;34m]\u001b[0m \u001b[0;34m==\u001b[0m \u001b[0;34m\"p\"\u001b[0m \u001b[0;31m# (i)\u001b[0m\u001b[0;34m\u001b[0m\u001b[0;34m\u001b[0m\u001b[0m\n\u001b[0m",
      "\u001b[0;31mTypeError\u001b[0m: 'set' object is not subscriptable"
     ]
    }
   ],
   "source": [
    "y[1] == \"p\" # (i)"
   ]
  },
  {
   "cell_type": "code",
   "execution_count": 6,
   "id": "46e6745a",
   "metadata": {
    "scrolled": true
   },
   "outputs": [
    {
     "ename": "TypeError",
     "evalue": "'str' object does not support item assignment",
     "output_type": "error",
     "traceback": [
      "\u001b[0;31m---------------------------------------------------------------------------\u001b[0m",
      "\u001b[0;31mTypeError\u001b[0m                                 Traceback (most recent call last)",
      "\u001b[0;32m<ipython-input-6-ad3cd68e8025>\u001b[0m in \u001b[0;36m<module>\u001b[0;34m\u001b[0m\n\u001b[0;32m----> 1\u001b[0;31m \u001b[0mx\u001b[0m\u001b[0;34m[\u001b[0m\u001b[0;36m1\u001b[0m\u001b[0;34m]\u001b[0m \u001b[0;34m=\u001b[0m \u001b[0;34m\"s\"\u001b[0m \u001b[0;31m#(ii)\u001b[0m\u001b[0;34m\u001b[0m\u001b[0;34m\u001b[0m\u001b[0m\n\u001b[0m",
      "\u001b[0;31mTypeError\u001b[0m: 'str' object does not support item assignment"
     ]
    }
   ],
   "source": [
    "x[1] = \"s\" #(ii)"
   ]
  },
  {
   "cell_type": "code",
   "execution_count": 7,
   "id": "ec20a07f",
   "metadata": {},
   "outputs": [
    {
     "data": {
      "text/plain": [
       "False"
      ]
     },
     "execution_count": 7,
     "metadata": {},
     "output_type": "execute_result"
    }
   ],
   "source": [
    "len(y) == len(x) # (iii)"
   ]
  },
  {
   "cell_type": "markdown",
   "id": "41147e17",
   "metadata": {},
   "source": [
    "### Remarks:\n",
    "- Different python objects:\n",
    "| Feature               | List          | Tuple         | Set           | Dictionary   |\n",
    "|-----------------------|---------------|---------------|---------------|--------------|\n",
    "| **Example**     |```[1, 2, 3]```|```(1, 2, 3)```|```{1, 2, 3}```|```{\"key1\": 1, \"key2\": 2}```|\n",
    "| **Mutable**           | Yes           | No            | Yes (add or remove, but not change)| Yes          |\n",
    "| **Ordered**           | Yes           | Yes           | No            | Yes (since Python 3.7) |\n",
    "| **Allows Duplicates**  | Yes           | Yes           | No            | Keys: No, Values: Yes |\n",
    "| **Indexed**           | Yes           | Yes           | No            | Keys         |\n",
    "| **Usage**             | General collection | Immutable collection | Unique elements | Key-value mapping |\n",
    "- try (A) except (B): If any error during (A) then print (B). (If (A) has no errors then nothing is printed out, unless (A) asks to print the output explicitly.)\n"
   ]
  },
  {
   "cell_type": "markdown",
   "id": "fc4d6b72",
   "metadata": {},
   "source": [
    "## (b)"
   ]
  },
  {
   "cell_type": "code",
   "execution_count": 8,
   "id": "8198f845",
   "metadata": {},
   "outputs": [
    {
     "name": "stdout",
     "output_type": "stream",
     "text": [
      "<class 'list'> [None, None]\n"
     ]
    }
   ],
   "source": [
    "def f(x, y = 2): x if y < 1 else x - y # function with no return (output)\n",
    "x = [f(x, i) for i, x in enumerate((1, 2))]\n",
    "print(type(x), str(x))"
   ]
  },
  {
   "cell_type": "code",
   "execution_count": 9,
   "id": "033f1737",
   "metadata": {},
   "outputs": [
    {
     "data": {
      "text/plain": [
       "<function __main__.f(x, y=2)>"
      ]
     },
     "execution_count": 9,
     "metadata": {},
     "output_type": "execute_result"
    }
   ],
   "source": [
    "f"
   ]
  },
  {
   "cell_type": "code",
   "execution_count": 10,
   "id": "7c9192b7",
   "metadata": {},
   "outputs": [
    {
     "data": {
      "text/plain": [
       "[None, None]"
      ]
     },
     "execution_count": 10,
     "metadata": {},
     "output_type": "execute_result"
    }
   ],
   "source": [
    "x"
   ]
  },
  {
   "cell_type": "code",
   "execution_count": 12,
   "id": "3452513f",
   "metadata": {},
   "outputs": [
    {
     "name": "stdout",
     "output_type": "stream",
     "text": [
      "[(0, 1), (1, 2)]\n",
      "0 1\n",
      "1 2\n"
     ]
    }
   ],
   "source": [
    "# enumerate\n",
    "print(list(enumerate((1, 2))))\n",
    "for i, x in enumerate((1, 2)):\n",
    "    print(i, x)"
   ]
  },
  {
   "cell_type": "markdown",
   "id": "59aa8e8b",
   "metadata": {},
   "source": [
    "## (c)"
   ]
  },
  {
   "cell_type": "code",
   "execution_count": 47,
   "id": "b8438a40",
   "metadata": {},
   "outputs": [
    {
     "name": "stdout",
     "output_type": "stream",
     "text": [
      "<class 'generator'>\n",
      "<class 'list'> []\n"
     ]
    }
   ],
   "source": [
    "x = (i for i in range(3))\n",
    "y = [i for i in x if i < 2]\n",
    "z = list(x)\n",
    "\n",
    "print(type(x))\n",
    "print(type(z), str(z))"
   ]
  },
  {
   "cell_type": "code",
   "execution_count": 48,
   "id": "993fce22",
   "metadata": {},
   "outputs": [
    {
     "name": "stdout",
     "output_type": "stream",
     "text": [
      "<generator object <genexpr> at 0x7fa9e748e890>\n",
      "[0, 1]\n",
      "[]\n"
     ]
    }
   ],
   "source": [
    "print(x)\n",
    "print(y)\n",
    "print(z)"
   ]
  },
  {
   "cell_type": "code",
   "execution_count": 49,
   "id": "639a4cc3",
   "metadata": {},
   "outputs": [
    {
     "name": "stdout",
     "output_type": "stream",
     "text": [
      "[0, 1, 2]\n"
     ]
    }
   ],
   "source": [
    "# generators can only be used once; this is why z was an empty list above.\n",
    "x = (i for i in range(3))\n",
    "z = list(x)\n",
    "print(z)"
   ]
  },
  {
   "cell_type": "markdown",
   "id": "a3e8b47f",
   "metadata": {},
   "source": [
    "## (d)"
   ]
  },
  {
   "cell_type": "code",
   "execution_count": 50,
   "id": "bdaebc70",
   "metadata": {},
   "outputs": [
    {
     "name": "stdout",
     "output_type": "stream",
     "text": [
      "hep\n"
     ]
    }
   ],
   "source": [
    "f = lambda n: 1 if n==0 else n*f(n-1) # n factorial (n \\ge 0)\n",
    "\n",
    "try: f(4.0) # (i)\n",
    "except: print(\"hip\")\n",
    "try: f(-1) # (ii)\n",
    "except: print(\"hep\")"
   ]
  },
  {
   "cell_type": "code",
   "execution_count": 51,
   "id": "22b56edb",
   "metadata": {},
   "outputs": [
    {
     "data": {
      "text/plain": [
       "24.0"
      ]
     },
     "execution_count": 51,
     "metadata": {},
     "output_type": "execute_result"
    }
   ],
   "source": [
    "f(4.0)"
   ]
  },
  {
   "cell_type": "code",
   "execution_count": 52,
   "id": "1a0b1140",
   "metadata": {},
   "outputs": [
    {
     "ename": "RecursionError",
     "evalue": "maximum recursion depth exceeded in comparison",
     "output_type": "error",
     "traceback": [
      "\u001b[0;31m---------------------------------------------------------------------------\u001b[0m",
      "\u001b[0;31mRecursionError\u001b[0m                            Traceback (most recent call last)",
      "\u001b[0;32m<ipython-input-52-8e6746a6b70d>\u001b[0m in \u001b[0;36m<module>\u001b[0;34m\u001b[0m\n\u001b[0;32m----> 1\u001b[0;31m \u001b[0mf\u001b[0m\u001b[0;34m(\u001b[0m\u001b[0;34m-\u001b[0m\u001b[0;36m1\u001b[0m\u001b[0;34m)\u001b[0m\u001b[0;34m\u001b[0m\u001b[0;34m\u001b[0m\u001b[0m\n\u001b[0m",
      "\u001b[0;32m<ipython-input-50-107e5ff8183e>\u001b[0m in \u001b[0;36m<lambda>\u001b[0;34m(n)\u001b[0m\n\u001b[0;32m----> 1\u001b[0;31m \u001b[0mf\u001b[0m \u001b[0;34m=\u001b[0m \u001b[0;32mlambda\u001b[0m \u001b[0mn\u001b[0m\u001b[0;34m:\u001b[0m \u001b[0;36m1\u001b[0m \u001b[0;32mif\u001b[0m \u001b[0mn\u001b[0m\u001b[0;34m==\u001b[0m\u001b[0;36m0\u001b[0m \u001b[0;32melse\u001b[0m \u001b[0mn\u001b[0m\u001b[0;34m*\u001b[0m\u001b[0mf\u001b[0m\u001b[0;34m(\u001b[0m\u001b[0mn\u001b[0m\u001b[0;34m-\u001b[0m\u001b[0;36m1\u001b[0m\u001b[0;34m)\u001b[0m \u001b[0;31m# n factorial (n \\ge 0)\u001b[0m\u001b[0;34m\u001b[0m\u001b[0;34m\u001b[0m\u001b[0m\n\u001b[0m\u001b[1;32m      2\u001b[0m \u001b[0;34m\u001b[0m\u001b[0m\n\u001b[1;32m      3\u001b[0m \u001b[0;32mtry\u001b[0m\u001b[0;34m:\u001b[0m \u001b[0mf\u001b[0m\u001b[0;34m(\u001b[0m\u001b[0;36m4.0\u001b[0m\u001b[0;34m)\u001b[0m \u001b[0;31m# (i)\u001b[0m\u001b[0;34m\u001b[0m\u001b[0;34m\u001b[0m\u001b[0m\n\u001b[1;32m      4\u001b[0m \u001b[0;32mexcept\u001b[0m\u001b[0;34m:\u001b[0m \u001b[0mprint\u001b[0m\u001b[0;34m(\u001b[0m\u001b[0;34m\"hip\"\u001b[0m\u001b[0;34m)\u001b[0m\u001b[0;34m\u001b[0m\u001b[0;34m\u001b[0m\u001b[0m\n\u001b[1;32m      5\u001b[0m \u001b[0;32mtry\u001b[0m\u001b[0;34m:\u001b[0m \u001b[0mf\u001b[0m\u001b[0;34m(\u001b[0m\u001b[0;34m-\u001b[0m\u001b[0;36m1\u001b[0m\u001b[0;34m)\u001b[0m \u001b[0;31m# (ii)\u001b[0m\u001b[0;34m\u001b[0m\u001b[0;34m\u001b[0m\u001b[0m\n",
      "... last 1 frames repeated, from the frame below ...\n",
      "\u001b[0;32m<ipython-input-50-107e5ff8183e>\u001b[0m in \u001b[0;36m<lambda>\u001b[0;34m(n)\u001b[0m\n\u001b[0;32m----> 1\u001b[0;31m \u001b[0mf\u001b[0m \u001b[0;34m=\u001b[0m \u001b[0;32mlambda\u001b[0m \u001b[0mn\u001b[0m\u001b[0;34m:\u001b[0m \u001b[0;36m1\u001b[0m \u001b[0;32mif\u001b[0m \u001b[0mn\u001b[0m\u001b[0;34m==\u001b[0m\u001b[0;36m0\u001b[0m \u001b[0;32melse\u001b[0m \u001b[0mn\u001b[0m\u001b[0;34m*\u001b[0m\u001b[0mf\u001b[0m\u001b[0;34m(\u001b[0m\u001b[0mn\u001b[0m\u001b[0;34m-\u001b[0m\u001b[0;36m1\u001b[0m\u001b[0;34m)\u001b[0m \u001b[0;31m# n factorial (n \\ge 0)\u001b[0m\u001b[0;34m\u001b[0m\u001b[0;34m\u001b[0m\u001b[0m\n\u001b[0m\u001b[1;32m      2\u001b[0m \u001b[0;34m\u001b[0m\u001b[0m\n\u001b[1;32m      3\u001b[0m \u001b[0;32mtry\u001b[0m\u001b[0;34m:\u001b[0m \u001b[0mf\u001b[0m\u001b[0;34m(\u001b[0m\u001b[0;36m4.0\u001b[0m\u001b[0;34m)\u001b[0m \u001b[0;31m# (i)\u001b[0m\u001b[0;34m\u001b[0m\u001b[0;34m\u001b[0m\u001b[0m\n\u001b[1;32m      4\u001b[0m \u001b[0;32mexcept\u001b[0m\u001b[0;34m:\u001b[0m \u001b[0mprint\u001b[0m\u001b[0;34m(\u001b[0m\u001b[0;34m\"hip\"\u001b[0m\u001b[0;34m)\u001b[0m\u001b[0;34m\u001b[0m\u001b[0;34m\u001b[0m\u001b[0m\n\u001b[1;32m      5\u001b[0m \u001b[0;32mtry\u001b[0m\u001b[0;34m:\u001b[0m \u001b[0mf\u001b[0m\u001b[0;34m(\u001b[0m\u001b[0;34m-\u001b[0m\u001b[0;36m1\u001b[0m\u001b[0;34m)\u001b[0m \u001b[0;31m# (ii)\u001b[0m\u001b[0;34m\u001b[0m\u001b[0;34m\u001b[0m\u001b[0m\n",
      "\u001b[0;31mRecursionError\u001b[0m: maximum recursion depth exceeded in comparison"
     ]
    }
   ],
   "source": [
    "f(-1)"
   ]
  },
  {
   "cell_type": "markdown",
   "id": "ebd5ec54",
   "metadata": {},
   "source": [
    "## (e)"
   ]
  },
  {
   "cell_type": "code",
   "execution_count": 75,
   "id": "a916e27e",
   "metadata": {},
   "outputs": [],
   "source": [
    "x = (2, 3)[:1]\n",
    "y = {2: 3, 3: x, x: 2}\n",
    "del x"
   ]
  },
  {
   "cell_type": "code",
   "execution_count": 76,
   "id": "78bb964c",
   "metadata": {},
   "outputs": [
    {
     "name": "stdout",
     "output_type": "stream",
     "text": [
      "(2,)\n",
      "{2: 3, 3: (2,), (2,): 2}\n"
     ]
    }
   ],
   "source": [
    "x = (2, 3)[:1] # ends right before index 1\n",
    "y = {2: 3, 3: x, x: 2}\n",
    "print(x) # tuple with one element; not collapsed to int\n",
    "del x\n",
    "print(y)"
   ]
  },
  {
   "cell_type": "code",
   "execution_count": 78,
   "id": "0a21a195",
   "metadata": {},
   "outputs": [
    {
     "name": "stdout",
     "output_type": "stream",
     "text": [
      "False\n",
      "2\n",
      "3\n"
     ]
    }
   ],
   "source": [
    "print(y[(2,)] == y.get(2))\n",
    "print(y[(2,)])\n",
    "print(y.get(2)) # get values of key 2\n",
    "######\n",
    "try: y[(2,)] == y.get(2) # (i)\n",
    "except: print('hip')"
   ]
  },
  {
   "cell_type": "code",
   "execution_count": 79,
   "id": "01f906d9",
   "metadata": {},
   "outputs": [],
   "source": [
    "try: y[3.0] = 'hep' # (ii)\n",
    "except: print('hep')"
   ]
  },
  {
   "cell_type": "code",
   "execution_count": 81,
   "id": "f1bb6775",
   "metadata": {},
   "outputs": [
    {
     "name": "stdout",
     "output_type": "stream",
     "text": [
      "hop\n"
     ]
    },
    {
     "ename": "NameError",
     "evalue": "name 'x' is not defined",
     "output_type": "error",
     "traceback": [
      "\u001b[0;31m---------------------------------------------------------------------------\u001b[0m",
      "\u001b[0;31mNameError\u001b[0m                                 Traceback (most recent call last)",
      "\u001b[0;32m<ipython-input-81-3d927a46bcf2>\u001b[0m in \u001b[0;36m<module>\u001b[0;34m\u001b[0m\n\u001b[1;32m      1\u001b[0m \u001b[0;32mtry\u001b[0m\u001b[0;34m:\u001b[0m \u001b[0my\u001b[0m\u001b[0;34m[\u001b[0m\u001b[0mx\u001b[0m\u001b[0;34m]\u001b[0m \u001b[0;34m=\u001b[0m \u001b[0;36m3\u001b[0m \u001b[0;31m# (iii)\u001b[0m\u001b[0;34m\u001b[0m\u001b[0;34m\u001b[0m\u001b[0m\n\u001b[1;32m      2\u001b[0m \u001b[0;32mexcept\u001b[0m\u001b[0;34m:\u001b[0m \u001b[0mprint\u001b[0m\u001b[0;34m(\u001b[0m\u001b[0;34m'hop'\u001b[0m\u001b[0;34m)\u001b[0m\u001b[0;34m\u001b[0m\u001b[0;34m\u001b[0m\u001b[0m\n\u001b[0;32m----> 3\u001b[0;31m \u001b[0my\u001b[0m\u001b[0;34m[\u001b[0m\u001b[0mx\u001b[0m\u001b[0;34m]\u001b[0m \u001b[0;34m=\u001b[0m \u001b[0;36m3\u001b[0m\u001b[0;34m\u001b[0m\u001b[0;34m\u001b[0m\u001b[0m\n\u001b[0m",
      "\u001b[0;31mNameError\u001b[0m: name 'x' is not defined"
     ]
    }
   ],
   "source": [
    "try: y[x] = 3 # (iii)\n",
    "except: print('hop')\n",
    "y[x] = 3"
   ]
  },
  {
   "cell_type": "markdown",
   "id": "68fb6c13",
   "metadata": {},
   "source": [
    "# Memory\n",
    "## (a)"
   ]
  },
  {
   "cell_type": "code",
   "execution_count": 82,
   "id": "489303dc",
   "metadata": {},
   "outputs": [
    {
     "name": "stdout",
     "output_type": "stream",
     "text": [
      "[True, True, True, True]\n",
      "[False, True, True, True]\n"
     ]
    }
   ],
   "source": [
    "from copy import deepcopy\n",
    "\n",
    "x = [{'quiche': 4}, 444, 4.0, 'quiche']\n",
    "y = x.copy()\n",
    "z = deepcopy(x)\n",
    "\n",
    "print([i is j for i,j in zip(x, y)]) # (i); Shallow copy\n",
    "print([i is j for i,j in zip(x, z)]) # (ii); Deep copy"
   ]
  },
  {
   "cell_type": "markdown",
   "id": "ed3321d1",
   "metadata": {},
   "source": [
    "- ```copy```: Creating new object that shares the reference\n",
    "- ```deepcopy```: Creating new object that recursively ```copy```\n",
    "- Reference Semantics: A list is a collection of references"
   ]
  },
  {
   "cell_type": "code",
   "execution_count": 83,
   "id": "8a0d290e",
   "metadata": {},
   "outputs": [
    {
     "name": "stdout",
     "output_type": "stream",
     "text": [
      "False\n",
      "True\n",
      "False\n",
      "False\n"
     ]
    }
   ],
   "source": [
    "list1 = [[1, 10000], 20000, 3]\n",
    "list2 = [[1, 10000], 20000, 3]\n",
    "list3 = list1\n",
    "list4 = list1.copy()\n",
    "list5 = deepcopy(list1)\n",
    "\n",
    "# General comparison\n",
    "print(list1 is list2) # new object (but with the same value)\n",
    "print(list1 is list3) # assign; same object\n",
    "print(list1 is list4) # copy: new object\n",
    "print(list1 is list5) # deepcopy: new object"
   ]
  },
  {
   "cell_type": "code",
   "execution_count": 84,
   "id": "d2dfbc16",
   "metadata": {},
   "outputs": [
    {
     "name": "stdout",
     "output_type": "stream",
     "text": [
      "False\n",
      "True\n",
      "True\n",
      "True\n"
     ]
    }
   ],
   "source": [
    "# Nonnested comparison: No interning\n",
    "print(list1[1] is list2[1])\n",
    "print(list1[1] is list3[1])\n",
    "print(list1[1] is list4[1]) # copy: same reference\n",
    "print(list1[1] is list5[1]) # deepcopy: acts like copy in non-nested object (recursive copy)"
   ]
  },
  {
   "cell_type": "code",
   "execution_count": 87,
   "id": "bbf3f451",
   "metadata": {},
   "outputs": [
    {
     "name": "stdout",
     "output_type": "stream",
     "text": [
      "True\n",
      "True\n",
      "True\n",
      "True\n"
     ]
    }
   ],
   "source": [
    "# Nonnested comparison: Interning\n",
    "print(list1[2] is list2[2])\n",
    "print(list1[2] is list3[2])\n",
    "print(list1[2] is list4[2]) \n",
    "print(list1[2] is list5[2]) "
   ]
  },
  {
   "cell_type": "code",
   "execution_count": 85,
   "id": "c6fe1368",
   "metadata": {},
   "outputs": [
    {
     "name": "stdout",
     "output_type": "stream",
     "text": [
      "False\n",
      "True\n",
      "True\n",
      "False\n"
     ]
    }
   ],
   "source": [
    "# Nested comparision\n",
    "print(list1[0] is list2[0]) # new object (but with the same value)\n",
    "print(list1[0] is list3[0]) # assign; same object\n",
    "print(list1[0] is list4[0]) # copy: use the same reference so same object,\n",
    "### Everything within is the same (see below)\n",
    "print(list1[0] is list5[0]) # deepcopy: new object that shares the reference (see below)"
   ]
  },
  {
   "cell_type": "code",
   "execution_count": 86,
   "id": "03917d1e",
   "metadata": {},
   "outputs": [
    {
     "name": "stdout",
     "output_type": "stream",
     "text": [
      "False\n",
      "True\n",
      "True\n",
      "True\n"
     ]
    }
   ],
   "source": [
    "print(list1[0][1] is list2[0][1]) \n",
    "print(list1[0][1] is list3[0][1]) \n",
    "print(list1[0][1] is list4[0][1]) \n",
    "print(list1[0][1] is list5[0][1]) # deepcopy: recursive copy; in the nested elements, same reference, same object"
   ]
  },
  {
   "cell_type": "markdown",
   "id": "eb245afd",
   "metadata": {},
   "source": [
    "## (b)"
   ]
  },
  {
   "cell_type": "code",
   "execution_count": 88,
   "id": "3695bffd",
   "metadata": {},
   "outputs": [
    {
     "name": "stdout",
     "output_type": "stream",
     "text": [
      "hop\n"
     ]
    }
   ],
   "source": [
    "x = ['dreams', {3, 4}, None, '!']\n",
    "try: y = ('dreams', {4, 3}, None, x)\n",
    "except: print('hip')\n",
    "try: x[x.index('!')] = y\n",
    "except: print('hep')\n",
    "try: \n",
    "    if x[3][3] is x: print('hop')\n",
    "except: print('hup')"
   ]
  },
  {
   "cell_type": "code",
   "execution_count": 89,
   "id": "fb135f40",
   "metadata": {},
   "outputs": [
    {
     "data": {
      "text/plain": [
       "['dreams', {3, 4}, None, '!']"
      ]
     },
     "execution_count": 89,
     "metadata": {},
     "output_type": "execute_result"
    }
   ],
   "source": [
    "x = ['dreams', {3, 4}, None, '!']\n",
    "x"
   ]
  },
  {
   "cell_type": "code",
   "execution_count": 90,
   "id": "96552905",
   "metadata": {},
   "outputs": [
    {
     "data": {
      "text/plain": [
       "('dreams', {3, 4}, None, ['dreams', {3, 4}, None, '!'])"
      ]
     },
     "execution_count": 90,
     "metadata": {},
     "output_type": "execute_result"
    }
   ],
   "source": [
    "y = ('dreams', {4, 3}, None, x)\n",
    "y"
   ]
  },
  {
   "cell_type": "code",
   "execution_count": 91,
   "id": "9ea91919",
   "metadata": {},
   "outputs": [
    {
     "data": {
      "text/plain": [
       "['dreams', {3, 4}, None, ('dreams', {3, 4}, None, [...])]"
      ]
     },
     "execution_count": 91,
     "metadata": {},
     "output_type": "execute_result"
    }
   ],
   "source": [
    "x[x.index('!')] = y\n",
    "x"
   ]
  },
  {
   "cell_type": "code",
   "execution_count": 92,
   "id": "09f08eba",
   "metadata": {},
   "outputs": [
    {
     "data": {
      "text/plain": [
       "True"
      ]
     },
     "execution_count": 92,
     "metadata": {},
     "output_type": "execute_result"
    }
   ],
   "source": [
    "x[3][3] is x"
   ]
  },
  {
   "cell_type": "markdown",
   "id": "d0919abe",
   "metadata": {},
   "source": [
    "## (c)"
   ]
  },
  {
   "cell_type": "code",
   "execution_count": 93,
   "id": "bc43ccab",
   "metadata": {},
   "outputs": [
    {
     "name": "stdout",
     "output_type": "stream",
     "text": [
      "[True, True, False]\n"
     ]
    }
   ],
   "source": [
    "import sys \n",
    "\n",
    "f = lambda: sys.intern('purple turtle')\n",
    "x = f()\n",
    "y = x, f(),'purple turtle'\n",
    "del x\n",
    "z = f()\n",
    "\n",
    "print([z is i for i in y])"
   ]
  },
  {
   "cell_type": "markdown",
   "id": "f1725925",
   "metadata": {},
   "source": [
    "# Numpy and pandas\n",
    "## (a)"
   ]
  },
  {
   "cell_type": "code",
   "execution_count": 94,
   "id": "e5e29bfd",
   "metadata": {},
   "outputs": [
    {
     "name": "stdout",
     "output_type": "stream",
     "text": [
      "hip\n"
     ]
    }
   ],
   "source": [
    "import numpy as np\n",
    "\n",
    "x = np.array([int('1'), 1.4])\n",
    "if isinstance(x[0], int): print('hep')\n",
    "if isinstance(x[0], float): print('hip')\n",
    "if isinstance(x[0], str): print('hop')"
   ]
  },
  {
   "cell_type": "code",
   "execution_count": 95,
   "id": "71c78342",
   "metadata": {},
   "outputs": [
    {
     "data": {
      "text/plain": [
       "array([1. , 1.4])"
      ]
     },
     "execution_count": 95,
     "metadata": {},
     "output_type": "execute_result"
    }
   ],
   "source": [
    "x"
   ]
  },
  {
   "cell_type": "code",
   "execution_count": 96,
   "id": "004efc73",
   "metadata": {},
   "outputs": [
    {
     "data": {
      "text/plain": [
       "1.0"
      ]
     },
     "execution_count": 96,
     "metadata": {},
     "output_type": "execute_result"
    }
   ],
   "source": [
    "x[0]"
   ]
  },
  {
   "cell_type": "markdown",
   "id": "f408d453",
   "metadata": {},
   "source": [
    "## (b)"
   ]
  },
  {
   "cell_type": "code",
   "execution_count": 97,
   "id": "abfc67c5",
   "metadata": {},
   "outputs": [
    {
     "name": "stdout",
     "output_type": "stream",
     "text": [
      "(2, 3, 1)\n",
      "(3, 1)\n"
     ]
    }
   ],
   "source": [
    "x = np.array([[[1], [2.0], [4.1]], \n",
    "              [[2.1], [3], [None]]])\n",
    "y = np.matrix(x[0])\n",
    "\n",
    "\n",
    "print(x.shape) # (i); Count from the outside\n",
    "print(y.shape) # (ii)"
   ]
  },
  {
   "cell_type": "code",
   "execution_count": 99,
   "id": "2cedb79b",
   "metadata": {},
   "outputs": [
    {
     "name": "stdout",
     "output_type": "stream",
     "text": [
      "[[[1]\n",
      "  [2.0]\n",
      "  [4.1]]\n",
      "\n",
      " [[2.1]\n",
      "  [3]\n",
      "  [None]]]\n",
      "[[1]\n",
      " [2.0]\n",
      " [4.1]]\n"
     ]
    }
   ],
   "source": [
    "print(x)\n",
    "print(y)"
   ]
  },
  {
   "cell_type": "markdown",
   "id": "e7e85d1d",
   "metadata": {},
   "source": [
    "## (c)"
   ]
  },
  {
   "cell_type": "code",
   "execution_count": 100,
   "id": "04fbcce0",
   "metadata": {},
   "outputs": [],
   "source": [
    "x = np.array([[3, 2, 4.0], [0, -4, 1]])\n",
    "\n",
    "try: (x - 3) + x\n",
    "except: print('hep')\n",
    "try: x + np.transpose([[1, 2.0], [3, 4], [3, 4]])\n",
    "except: print('hip')\n",
    "try: x[:2,0] @ [1, 2.0]\n",
    "except: print('hop')"
   ]
  },
  {
   "cell_type": "code",
   "execution_count": 101,
   "id": "b10ed1d6",
   "metadata": {},
   "outputs": [
    {
     "data": {
      "text/plain": [
       "array([[ 3.,  2.,  4.],\n",
       "       [ 0., -4.,  1.]])"
      ]
     },
     "execution_count": 101,
     "metadata": {},
     "output_type": "execute_result"
    }
   ],
   "source": [
    "x"
   ]
  },
  {
   "cell_type": "code",
   "execution_count": 102,
   "id": "b5df0071",
   "metadata": {},
   "outputs": [
    {
     "data": {
      "text/plain": [
       "array([[  3.,   1.,   5.],\n",
       "       [ -3., -11.,  -1.]])"
      ]
     },
     "execution_count": 102,
     "metadata": {},
     "output_type": "execute_result"
    }
   ],
   "source": [
    "(x - 3) + x # elementwise operation for not-matching-dimension"
   ]
  },
  {
   "cell_type": "code",
   "execution_count": 103,
   "id": "f1a735a2",
   "metadata": {},
   "outputs": [
    {
     "data": {
      "text/plain": [
       "array([[4., 5., 7.],\n",
       "       [2., 0., 5.]])"
      ]
     },
     "execution_count": 103,
     "metadata": {},
     "output_type": "execute_result"
    }
   ],
   "source": [
    "x + np.transpose([[1, 2.0], [3, 4], [3, 4]])"
   ]
  },
  {
   "cell_type": "code",
   "execution_count": 106,
   "id": "e32ed21b",
   "metadata": {},
   "outputs": [
    {
     "data": {
      "text/plain": [
       "3.0"
      ]
     },
     "execution_count": 106,
     "metadata": {},
     "output_type": "execute_result"
    }
   ],
   "source": [
    "x[:2,0] @ [1, 2.0]  # matrix multiplication"
   ]
  },
  {
   "cell_type": "markdown",
   "id": "a5d6d495",
   "metadata": {},
   "source": [
    "## (d)"
   ]
  },
  {
   "cell_type": "code",
   "execution_count": 107,
   "id": "df98601a",
   "metadata": {},
   "outputs": [
    {
     "name": "stdout",
     "output_type": "stream",
     "text": [
      "[1, 0, 1]\n"
     ]
    }
   ],
   "source": [
    "import pandas as pd\n",
    "\n",
    "x = pd.Series([1,2,0,3], index = [2, 1, 0, 4])\n",
    "\n",
    "print([x[2], x.iloc[2], x.loc[2]]) #loc: labels, iloc: locations"
   ]
  },
  {
   "cell_type": "code",
   "execution_count": 108,
   "id": "45177819",
   "metadata": {},
   "outputs": [
    {
     "data": {
      "text/plain": [
       "2    1\n",
       "1    2\n",
       "0    0\n",
       "4    3\n",
       "dtype: int64"
      ]
     },
     "execution_count": 108,
     "metadata": {},
     "output_type": "execute_result"
    }
   ],
   "source": [
    "x"
   ]
  },
  {
   "cell_type": "markdown",
   "id": "c1692d12",
   "metadata": {},
   "source": [
    "## (e)"
   ]
  },
  {
   "cell_type": "code",
   "execution_count": 109,
   "id": "1455c5ea",
   "metadata": {},
   "outputs": [
    {
     "name": "stdout",
     "output_type": "stream",
     "text": [
      "[<class 'numpy.int64'>, <class 'numpy.int64'>, <class 'numpy.float64'>]\n"
     ]
    }
   ],
   "source": [
    "y = x.reset_index()\n",
    "y = y.rename(columns = {'index': 'A', 0: 'B'})\n",
    "\n",
    "try: z = y.iloc[:,1] * x / 3 # (i)\n",
    "except: print('hip')\n",
    "try: y['C'] = z # (ii)\n",
    "except: print('hep')\n",
    "    \n",
    "print([type(y.iloc[0,i]) for i in range(y.shape[1])])  # (iii)"
   ]
  },
  {
   "cell_type": "code",
   "execution_count": 110,
   "id": "156c0515",
   "metadata": {
    "scrolled": true
   },
   "outputs": [
    {
     "data": {
      "text/html": [
       "<div>\n",
       "<style scoped>\n",
       "    .dataframe tbody tr th:only-of-type {\n",
       "        vertical-align: middle;\n",
       "    }\n",
       "\n",
       "    .dataframe tbody tr th {\n",
       "        vertical-align: top;\n",
       "    }\n",
       "\n",
       "    .dataframe thead th {\n",
       "        text-align: right;\n",
       "    }\n",
       "</style>\n",
       "<table border=\"1\" class=\"dataframe\">\n",
       "  <thead>\n",
       "    <tr style=\"text-align: right;\">\n",
       "      <th></th>\n",
       "      <th>A</th>\n",
       "      <th>B</th>\n",
       "    </tr>\n",
       "  </thead>\n",
       "  <tbody>\n",
       "    <tr>\n",
       "      <th>0</th>\n",
       "      <td>2</td>\n",
       "      <td>1</td>\n",
       "    </tr>\n",
       "    <tr>\n",
       "      <th>1</th>\n",
       "      <td>1</td>\n",
       "      <td>2</td>\n",
       "    </tr>\n",
       "    <tr>\n",
       "      <th>2</th>\n",
       "      <td>0</td>\n",
       "      <td>0</td>\n",
       "    </tr>\n",
       "    <tr>\n",
       "      <th>3</th>\n",
       "      <td>4</td>\n",
       "      <td>3</td>\n",
       "    </tr>\n",
       "  </tbody>\n",
       "</table>\n",
       "</div>"
      ],
      "text/plain": [
       "   A  B\n",
       "0  2  1\n",
       "1  1  2\n",
       "2  0  0\n",
       "3  4  3"
      ]
     },
     "execution_count": 110,
     "metadata": {},
     "output_type": "execute_result"
    }
   ],
   "source": [
    "y = x.reset_index()\n",
    "y = y.rename(columns = {'index': 'A', 0: 'B'})\n",
    "y"
   ]
  },
  {
   "cell_type": "code",
   "execution_count": 111,
   "id": "9d47f8a1",
   "metadata": {},
   "outputs": [
    {
     "data": {
      "text/plain": [
       "0    1\n",
       "1    2\n",
       "2    0\n",
       "3    3\n",
       "Name: B, dtype: int64"
      ]
     },
     "execution_count": 111,
     "metadata": {},
     "output_type": "execute_result"
    }
   ],
   "source": [
    "y.iloc[:,1]"
   ]
  },
  {
   "cell_type": "code",
   "execution_count": 112,
   "id": "f9fc2d51",
   "metadata": {},
   "outputs": [
    {
     "data": {
      "text/plain": [
       "2    1\n",
       "1    2\n",
       "0    0\n",
       "4    3\n",
       "dtype: int64"
      ]
     },
     "execution_count": 112,
     "metadata": {},
     "output_type": "execute_result"
    }
   ],
   "source": [
    "x"
   ]
  },
  {
   "cell_type": "code",
   "execution_count": 113,
   "id": "2be2a77e",
   "metadata": {},
   "outputs": [
    {
     "data": {
      "text/plain": [
       "0    0.0\n",
       "1    4.0\n",
       "2    0.0\n",
       "3    NaN\n",
       "4    NaN\n",
       "dtype: float64"
      ]
     },
     "execution_count": 113,
     "metadata": {},
     "output_type": "execute_result"
    }
   ],
   "source": [
    "y.iloc[:,1] * x # 0*0, 2*2, 0*1, 3*NaN(x[3] doesn't exist), Nan*3(y[4] doesn't exist)"
   ]
  },
  {
   "cell_type": "code",
   "execution_count": 114,
   "id": "a8bdffe2",
   "metadata": {},
   "outputs": [
    {
     "data": {
      "text/plain": [
       "0    0.000000\n",
       "1    1.333333\n",
       "2    0.000000\n",
       "3         NaN\n",
       "4         NaN\n",
       "dtype: float64"
      ]
     },
     "execution_count": 114,
     "metadata": {},
     "output_type": "execute_result"
    }
   ],
   "source": [
    "z = y.iloc[:,1] * x / 3\n",
    "z"
   ]
  },
  {
   "cell_type": "code",
   "execution_count": 115,
   "id": "a0036dfa",
   "metadata": {},
   "outputs": [
    {
     "data": {
      "text/html": [
       "<div>\n",
       "<style scoped>\n",
       "    .dataframe tbody tr th:only-of-type {\n",
       "        vertical-align: middle;\n",
       "    }\n",
       "\n",
       "    .dataframe tbody tr th {\n",
       "        vertical-align: top;\n",
       "    }\n",
       "\n",
       "    .dataframe thead th {\n",
       "        text-align: right;\n",
       "    }\n",
       "</style>\n",
       "<table border=\"1\" class=\"dataframe\">\n",
       "  <thead>\n",
       "    <tr style=\"text-align: right;\">\n",
       "      <th></th>\n",
       "      <th>A</th>\n",
       "      <th>B</th>\n",
       "      <th>C</th>\n",
       "    </tr>\n",
       "  </thead>\n",
       "  <tbody>\n",
       "    <tr>\n",
       "      <th>0</th>\n",
       "      <td>2</td>\n",
       "      <td>1</td>\n",
       "      <td>0.000000</td>\n",
       "    </tr>\n",
       "    <tr>\n",
       "      <th>1</th>\n",
       "      <td>1</td>\n",
       "      <td>2</td>\n",
       "      <td>1.333333</td>\n",
       "    </tr>\n",
       "    <tr>\n",
       "      <th>2</th>\n",
       "      <td>0</td>\n",
       "      <td>0</td>\n",
       "      <td>0.000000</td>\n",
       "    </tr>\n",
       "    <tr>\n",
       "      <th>3</th>\n",
       "      <td>4</td>\n",
       "      <td>3</td>\n",
       "      <td>NaN</td>\n",
       "    </tr>\n",
       "  </tbody>\n",
       "</table>\n",
       "</div>"
      ],
      "text/plain": [
       "   A  B         C\n",
       "0  2  1  0.000000\n",
       "1  1  2  1.333333\n",
       "2  0  0  0.000000\n",
       "3  4  3       NaN"
      ]
     },
     "execution_count": 115,
     "metadata": {},
     "output_type": "execute_result"
    }
   ],
   "source": [
    "y['C'] = z ## (ii)\n",
    "y"
   ]
  },
  {
   "cell_type": "code",
   "execution_count": 116,
   "id": "61a2c4cf",
   "metadata": {},
   "outputs": [
    {
     "data": {
      "text/plain": [
       "0    0.000000\n",
       "1    1.333333\n",
       "2    0.000000\n",
       "3         NaN\n",
       "4         NaN\n",
       "dtype: float64"
      ]
     },
     "execution_count": 116,
     "metadata": {},
     "output_type": "execute_result"
    }
   ],
   "source": [
    "z"
   ]
  }
 ],
 "metadata": {
  "kernelspec": {
   "display_name": "Python 3",
   "language": "python",
   "name": "python3"
  },
  "language_info": {
   "codemirror_mode": {
    "name": "ipython",
    "version": 3
   },
   "file_extension": ".py",
   "mimetype": "text/x-python",
   "name": "python",
   "nbconvert_exporter": "python",
   "pygments_lexer": "ipython3",
   "version": "3.8.8"
  }
 },
 "nbformat": 4,
 "nbformat_minor": 5
}
